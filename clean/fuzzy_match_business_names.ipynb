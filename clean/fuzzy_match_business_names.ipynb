{
 "cells": [
  {
   "cell_type": "code",
   "execution_count": null,
   "metadata": {},
   "outputs": [],
   "source": [
    "import os\n",
    "import sys\n",
    "import csv\n",
    "import pandas as pd\n",
    "import psycopg2\n",
    "from sqlalchemy import create_engine\n",
    "from fuzzywuzzy import fuzz \n",
    "from fuzzywuzzy import process \n",
    "\n",
    "sys.path.append('../')\n",
    "from envir import config\n",
    "\n",
    "\n",
    "# #### connect & load data\n",
    "\n",
    "engine = create_engine('postgresql+psycopg2:///yelp_abcs')\n",
    "con = engine.connect\n",
    "\n",
    "yelp = pd.read_sql(\"select * from stag.yelp_academic_business where state in ('ON', 'NV');\", con=engine )\n",
    "vegas = pd.read_sql(\"select * from clean.clean_vegas_violations;\", con=engine)\n",
    "toronto = pd.read_sql(\"select * from clean.toronto_inspections_cleaned;\", con=engine)\n",
    "\n",
    "yelp2 = yelp.loc[yelp['categories'].str.contains(\"Restaurant\")==True][['business_id',\n",
    "                                                                       'name', 'address', 'city', 'state',\n",
    "                                                                       'postal_code', 'latitude', 'longitude']].copy()\n",
    "\n",
    "yelp2.reset_index(inplace=True)\n",
    "\n",
    "len(toronto) + len(vegas)\n",
    "#toronto.drop(columns=['Unnamed: 0'], inplace=True)\n",
    "vegas.drop(columns=['index'], inplace=True)\n",
    "\n",
    "violations = vegas.append(toronto, ignore_index=True, sort=True)\n",
    "\n",
    "# #### get unique business names from violations\n",
    "biz = violations[['name', 'address', 'city']].drop_duplicates().copy()\n",
    "biz['id'] = biz.index\n",
    "biz.reset_index(inplace=True)\n",
    "\n",
    "# these will be the match choices\n",
    "name_choices = biz['name'] + ' ' +biz['address']\n",
    "\n",
    "# these are the ones to find\n",
    "name = yelp2['name'] + ' ' + yelp2['address']\n",
    "\n",
    "with open(config.shared+'fuzzy_biz_names75.csv', mode='w') as csv_file:\n",
    "    fieldnames = ['yelp_name_address', 'violations_name_address', 'match_score']\n",
    "    writer = csv.DictWriter(csv_file, fieldnames=fieldnames)\n",
    "    writer.writeheader()\n",
    "    \n",
    "    for i in name:\n",
    "        matched = process.extractOne(i, name_choices, scorer=fuzz.token_sort_ratio, score_cutoff=75)\n",
    "        if matched is not None:\n",
    "            writer.writerow({'yelp_name_address': i,\n",
    "                             'violations_name_address': matched[0],\n",
    "                             'match_score': matched[1]})\n",
    "        writer.writerow({'yelp_name_address': i,\n",
    "                         'violations_name_address': None,\n",
    "                         'match_score': None})"
   ]
  },
  {
   "cell_type": "code",
   "execution_count": null,
   "metadata": {},
   "outputs": [],
   "source": []
  }
 ],
 "metadata": {
  "kernelspec": {
   "display_name": "yelpVE",
   "language": "python",
   "name": "yelpve"
  },
  "language_info": {
   "codemirror_mode": {
    "name": "ipython",
    "version": 3
   },
   "file_extension": ".py",
   "mimetype": "text/x-python",
   "name": "python",
   "nbconvert_exporter": "python",
   "pygments_lexer": "ipython3",
   "version": "3.7.4"
  }
 },
 "nbformat": 4,
 "nbformat_minor": 2
}
