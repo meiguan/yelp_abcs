{
 "cells": [
  {
   "cell_type": "markdown",
   "metadata": {},
   "source": [
    "### cleaning las vegas inspections dataset\n",
    "\n",
    "- the southern nevada database contained information for all the cities in southern nevada including Las Vegas.\n",
    "- this notebook aims to aggregate/ clean the las vegas dataset into 1 frame for further analysis."
   ]
  },
  {
   "cell_type": "code",
   "execution_count": 1,
   "metadata": {},
   "outputs": [],
   "source": [
    "import os\n",
    "import sys\n",
    "import datetime\n",
    "import pandas as pd\n",
    "import numpy as np\n",
    "import psycopg2\n",
    "from sqlalchemy import create_engine\n",
    "\n",
    "from matplotlib import pyplot as plt\n",
    "import seaborn as sns\n",
    "\n",
    "sys.path.append('../')\n",
    "from envir import config\n",
    "%matplotlib inline"
   ]
  },
  {
   "cell_type": "markdown",
   "metadata": {},
   "source": [
    "#### connect & load data"
   ]
  },
  {
   "cell_type": "code",
   "execution_count": 2,
   "metadata": {},
   "outputs": [],
   "source": [
    "engine = create_engine('postgresql+psycopg2:///yelp_abcs')\n",
    "con = engine.connect"
   ]
  },
  {
   "cell_type": "code",
   "execution_count": 3,
   "metadata": {},
   "outputs": [],
   "source": [
    "cities = pd.read_sql('select * from stag.nevada_restaurant_cities', con=engine)\n",
    "cats = pd.read_sql('select * from stag.nevada_restaurant_categories', con=engine)\n",
    "subcats = pd.read_sql('select * from stag.nevada_restaurant_pe_category_xref', con=engine)\n",
    "restaurants = pd.read_sql('select * from stag.nevada_restaurant_establishments', con=engine)\n",
    "inspection_types = pd.read_sql('select * from stag.nevada_restaurant_inspection_types', con=engine)\n",
    "inspections = pd.read_sql('select * from stag.nevada_restaurant_inspections', con=engine)\n",
    "violations = pd.read_sql('select * from stag.nevada_restaurant_violations', con=engine)"
   ]
  },
  {
   "cell_type": "markdown",
   "metadata": {},
   "source": [
    "#### cities df\n",
    "\n",
    "- 26 cities in the dataset including Las Vegas"
   ]
  },
  {
   "cell_type": "code",
   "execution_count": 4,
   "metadata": {},
   "outputs": [
    {
     "data": {
      "text/plain": [
       "(26, 2)"
      ]
     },
     "execution_count": 4,
     "metadata": {},
     "output_type": "execute_result"
    }
   ],
   "source": [
    "cities.shape"
   ]
  },
  {
   "cell_type": "code",
   "execution_count": 5,
   "metadata": {},
   "outputs": [
    {
     "data": {
      "text/plain": [
       "array(['Blue Diamond', 'Boulder City', 'Cal-Nev-Ari', 'Cottonwood Cove',\n",
       "       'Glendale', 'Goodsprings', 'Henderson', 'Indian Springs', 'Jean',\n",
       "       'Las Vegas', 'Laughlin', 'Lee Canyon', 'Logandale', 'Mesquite',\n",
       "       'Moapa', 'North Las Vegas', 'Overton', 'Primm', 'Sandy Valley',\n",
       "       'Searchlight', 'Coyote Springs', 'MT CHARLESTON', 'Pahrump',\n",
       "       'Mountain Springs', 'Bunkerville', 'Palm Gardens'], dtype=object)"
      ]
     },
     "execution_count": 5,
     "metadata": {},
     "output_type": "execute_result"
    }
   ],
   "source": [
    "cities['city_name'].values"
   ]
  },
  {
   "cell_type": "markdown",
   "metadata": {},
   "source": [
    "#### restaurants df\n",
    "- 25,878 unique restaurants with 20,909 unique restaurants in Las Vegas\n",
    "- level of uniqueness is at the permit level\n",
    "- there are 30 different types of food establishments that get inspected included school kitchens"
   ]
  },
  {
   "cell_type": "code",
   "execution_count": 6,
   "metadata": {},
   "outputs": [
    {
     "data": {
      "text/plain": [
       "(25878, 21)"
      ]
     },
     "execution_count": 6,
     "metadata": {},
     "output_type": "execute_result"
    }
   ],
   "source": [
    "restaurants.shape"
   ]
  },
  {
   "cell_type": "code",
   "execution_count": 7,
   "metadata": {},
   "outputs": [
    {
     "data": {
      "text/plain": [
       "(30, 4)"
      ]
     },
     "execution_count": 7,
     "metadata": {},
     "output_type": "execute_result"
    }
   ],
   "source": [
    "cats.shape"
   ]
  },
  {
   "cell_type": "code",
   "execution_count": 8,
   "metadata": {},
   "outputs": [
    {
     "data": {
      "text/plain": [
       "array(['Bakery Sales', 'Banquet Kitchen', 'Banquet Support',\n",
       "       'Bar / Tavern', 'Barbeque', 'Beer Bar', 'Buffet', 'Caterer',\n",
       "       'Childcare Kitchens', 'Concessions', 'Confection',\n",
       "       'Elementary School Kitchen', \"Farmer's Market\",\n",
       "       'Frozen Meat Sales', 'Garde Manger', 'Grocery Store Sampling',\n",
       "       'Institutional Food Service', 'Kitchen Bakery', 'Main Kitchen',\n",
       "       'Meat/Poultry/Seafood', 'Food Trucks / Mobile Vendor', 'Pantry',\n",
       "       'Portable Bar', 'Portable Unit', 'Produce Market', 'Restaurant',\n",
       "       'Self-Service Food Truck', 'Snack Bar', 'Special Kitchen',\n",
       "       'Vegetable Prep'], dtype=object)"
      ]
     },
     "execution_count": 8,
     "metadata": {},
     "output_type": "execute_result"
    }
   ],
   "source": [
    "cats['category_name'].values"
   ]
  },
  {
   "cell_type": "code",
   "execution_count": 9,
   "metadata": {},
   "outputs": [
    {
     "data": {
      "text/plain": [
       "(84, 2)"
      ]
     },
     "execution_count": 9,
     "metadata": {},
     "output_type": "execute_result"
    }
   ],
   "source": [
    "subcats.shape"
   ]
  },
  {
   "cell_type": "code",
   "execution_count": 10,
   "metadata": {},
   "outputs": [],
   "source": [
    "cats = pd.merge(subcats, cats, on='category_id')\n",
    "cats.drop(columns=['category_id', 'sort_order', 'active'], inplace=True)"
   ]
  },
  {
   "cell_type": "code",
   "execution_count": 11,
   "metadata": {},
   "outputs": [],
   "source": [
    "restaurants = pd.merge(restaurants, cats, on='PE', how='left')"
   ]
  },
  {
   "cell_type": "code",
   "execution_count": 12,
   "metadata": {},
   "outputs": [
    {
     "data": {
      "text/plain": [
       "20909"
      ]
     },
     "execution_count": 12,
     "metadata": {},
     "output_type": "execute_result"
    }
   ],
   "source": [
    "restaurants[restaurants['city_name']=='Las Vegas']['permit_number'].count()"
   ]
  },
  {
   "cell_type": "code",
   "execution_count": 13,
   "metadata": {},
   "outputs": [],
   "source": [
    "cat_counts = pd.DataFrame(restaurants[restaurants['city_name']=='Las Vegas'].groupby('category_name') \\\n",
    "                          ['permit_number'].nunique()).reset_index().sort_values('permit_number')"
   ]
  },
  {
   "cell_type": "code",
   "execution_count": 14,
   "metadata": {},
   "outputs": [
    {
     "data": {
      "text/html": [
       "<div>\n",
       "<style scoped>\n",
       "    .dataframe tbody tr th:only-of-type {\n",
       "        vertical-align: middle;\n",
       "    }\n",
       "\n",
       "    .dataframe tbody tr th {\n",
       "        vertical-align: top;\n",
       "    }\n",
       "\n",
       "    .dataframe thead th {\n",
       "        text-align: right;\n",
       "    }\n",
       "</style>\n",
       "<table border=\"1\" class=\"dataframe\">\n",
       "  <thead>\n",
       "    <tr style=\"text-align: right;\">\n",
       "      <th></th>\n",
       "      <th>category_name</th>\n",
       "      <th>permit_number</th>\n",
       "    </tr>\n",
       "  </thead>\n",
       "  <tbody>\n",
       "    <tr>\n",
       "      <td>5</td>\n",
       "      <td>Beer Bar</td>\n",
       "      <td>6</td>\n",
       "    </tr>\n",
       "    <tr>\n",
       "      <td>19</td>\n",
       "      <td>Main Kitchen</td>\n",
       "      <td>14</td>\n",
       "    </tr>\n",
       "    <tr>\n",
       "      <td>2</td>\n",
       "      <td>Banquet Support</td>\n",
       "      <td>24</td>\n",
       "    </tr>\n",
       "    <tr>\n",
       "      <td>8</td>\n",
       "      <td>Childcare Kitchens</td>\n",
       "      <td>41</td>\n",
       "    </tr>\n",
       "    <tr>\n",
       "      <td>29</td>\n",
       "      <td>Vegetable Prep</td>\n",
       "      <td>42</td>\n",
       "    </tr>\n",
       "  </tbody>\n",
       "</table>\n",
       "</div>"
      ],
      "text/plain": [
       "         category_name  permit_number\n",
       "5             Beer Bar              6\n",
       "19        Main Kitchen             14\n",
       "2      Banquet Support             24\n",
       "8   Childcare Kitchens             41\n",
       "29      Vegetable Prep             42"
      ]
     },
     "execution_count": 14,
     "metadata": {},
     "output_type": "execute_result"
    }
   ],
   "source": [
    "cat_counts.head()"
   ]
  },
  {
   "cell_type": "code",
   "execution_count": 15,
   "metadata": {},
   "outputs": [
    {
     "data": {
      "text/plain": [
       "Text(0.5, 1.0, 'Food Establishments By Category in Las Vegas')"
      ]
     },
     "execution_count": 15,
     "metadata": {},
     "output_type": "execute_result"
    },
    {
     "data": {
      "image/png": "[encoded data removed]",
      "text/plain": [
       "<Figure size 720x720 with 1 Axes>"
      ]
     },
     "metadata": {
      "needs_background": "light"
     },
     "output_type": "display_data"
    }
   ],
   "source": [
    "fig, ax = plt.subplots(figsize=(10,10))\n",
    "ax.barh(cat_counts['category_name'], cat_counts['permit_number'])\n",
    "ax.set_title('Food Establishments By Category in Las Vegas')"
   ]
  },
  {
   "cell_type": "markdown",
   "metadata": {},
   "source": [
    "#### inspections df\n",
    "- 259,268 unique inspections\n",
    "- latest inspection is from 2019, looks like dataset is updated live\n",
    "- earliest inspection is from 2000\n",
    "- there are 7 different types of inspections, most of interest seems to be a) _**'Epidemiological Investigation'**_ and b)_**'Complaint Investigation'**_"
   ]
  },
  {
   "cell_type": "code",
   "execution_count": 16,
   "metadata": {},
   "outputs": [
    {
     "data": {
      "text/plain": [
       "(259268, 15)"
      ]
     },
     "execution_count": 16,
     "metadata": {},
     "output_type": "execute_result"
    }
   ],
   "source": [
    "inspections.shape"
   ]
  },
  {
   "cell_type": "code",
   "execution_count": 17,
   "metadata": {},
   "outputs": [
    {
     "data": {
      "text/plain": [
       "'2019-11-22 00:00:00'"
      ]
     },
     "execution_count": 17,
     "metadata": {},
     "output_type": "execute_result"
    }
   ],
   "source": [
    "max(inspections.inspection_date)"
   ]
  },
  {
   "cell_type": "code",
   "execution_count": 18,
   "metadata": {},
   "outputs": [
    {
     "data": {
      "text/plain": [
       "'2000-07-30 00:00:00'"
      ]
     },
     "execution_count": 18,
     "metadata": {},
     "output_type": "execute_result"
    }
   ],
   "source": [
    "min(inspections.inspection_date)"
   ]
  },
  {
   "cell_type": "code",
   "execution_count": 19,
   "metadata": {},
   "outputs": [
    {
     "data": {
      "text/plain": [
       "array(['Epidemiological Investigation', 'Complaint Investigation',\n",
       "       'Re-inspection', 'Routine Inspection',\n",
       "       'Special Request Inspection', 'Survey', 'Final Remodel Inspection'],\n",
       "      dtype=object)"
      ]
     },
     "execution_count": 19,
     "metadata": {},
     "output_type": "execute_result"
    }
   ],
   "source": [
    "inspection_types['inspection_type'].values"
   ]
  },
  {
   "cell_type": "code",
   "execution_count": 20,
   "metadata": {},
   "outputs": [],
   "source": [
    "inspections = pd.merge(inspections, inspection_types, how='inner', on ='inspection_type_id')"
   ]
  },
  {
   "cell_type": "code",
   "execution_count": 21,
   "metadata": {},
   "outputs": [
    {
     "data": {
      "text/plain": [
       "inspection_type\n",
       "Re-inspection          18838\n",
       "Routine Inspection    240381\n",
       "Survey                    49\n",
       "Name: serial_number, dtype: int64"
      ]
     },
     "execution_count": 21,
     "metadata": {},
     "output_type": "execute_result"
    }
   ],
   "source": [
    "inspections.groupby('inspection_type')['serial_number'].nunique()"
   ]
  },
  {
   "cell_type": "markdown",
   "metadata": {},
   "source": [
    "kind of suprising that the only inspections are re-inspection, routine, and survey."
   ]
  },
  {
   "cell_type": "code",
   "execution_count": 22,
   "metadata": {},
   "outputs": [],
   "source": [
    "inspections['year'] = pd.DatetimeIndex(inspections['inspection_date']).year\n",
    "inspections['month'] = pd.DatetimeIndex(inspections['inspection_date']).month\n",
    "inspections['day'] = pd.DatetimeIndex(inspections['inspection_date']).day\n",
    "inspections['hour'] = pd.DatetimeIndex(inspections['inspection_time']).hour"
   ]
  },
  {
   "cell_type": "code",
   "execution_count": 23,
   "metadata": {},
   "outputs": [],
   "source": [
    "inspections.drop(columns=['owner_id'], inplace=True)"
   ]
  },
  {
   "cell_type": "code",
   "execution_count": 24,
   "metadata": {},
   "outputs": [
    {
     "data": {
      "text/plain": [
       "(206634, 39)"
      ]
     },
     "execution_count": 24,
     "metadata": {},
     "output_type": "execute_result"
    }
   ],
   "source": [
    "pd.merge(restaurants[restaurants['city_name']=='Las Vegas'], inspections, how='inner',\n",
    "         left_on=('permit_number', 'facility_id'), right_on=('permit_number', 'facility_id')).shape"
   ]
  },
  {
   "cell_type": "code",
   "execution_count": 25,
   "metadata": {},
   "outputs": [],
   "source": [
    "# joining restaurants with inspections data\n",
    "res_ins = pd.merge(restaurants[restaurants['city_name']=='Las Vegas'], inspections, how='left',\n",
    "                   left_on=('permit_number', 'facility_id'), right_on=('permit_number', 'facility_id'))"
   ]
  },
  {
   "cell_type": "code",
   "execution_count": 26,
   "metadata": {},
   "outputs": [
    {
     "data": {
      "text/plain": [
       "(207645, 39)"
      ]
     },
     "execution_count": 26,
     "metadata": {},
     "output_type": "execute_result"
    }
   ],
   "source": [
    "res_ins.shape"
   ]
  },
  {
   "cell_type": "code",
   "execution_count": 27,
   "metadata": {},
   "outputs": [
    {
     "data": {
      "text/html": [
       "<div>\n",
       "<style scoped>\n",
       "    .dataframe tbody tr th:only-of-type {\n",
       "        vertical-align: middle;\n",
       "    }\n",
       "\n",
       "    .dataframe tbody tr th {\n",
       "        vertical-align: top;\n",
       "    }\n",
       "\n",
       "    .dataframe thead th {\n",
       "        text-align: right;\n",
       "    }\n",
       "</style>\n",
       "<table border=\"1\" class=\"dataframe\">\n",
       "  <thead>\n",
       "    <tr style=\"text-align: right;\">\n",
       "      <th></th>\n",
       "      <th>permit_number</th>\n",
       "      <th>facility_id</th>\n",
       "      <th>owner_id</th>\n",
       "      <th>PE</th>\n",
       "      <th>restaurant_name</th>\n",
       "      <th>location_name</th>\n",
       "      <th>address</th>\n",
       "      <th>latitude</th>\n",
       "      <th>longitude</th>\n",
       "      <th>city_id</th>\n",
       "      <th>...</th>\n",
       "      <th>inspection_grade_new</th>\n",
       "      <th>permit_status</th>\n",
       "      <th>inspection_result</th>\n",
       "      <th>violations</th>\n",
       "      <th>record_updated</th>\n",
       "      <th>inspection_type</th>\n",
       "      <th>year</th>\n",
       "      <th>month</th>\n",
       "      <th>day</th>\n",
       "      <th>hour</th>\n",
       "    </tr>\n",
       "  </thead>\n",
       "  <tbody>\n",
       "    <tr>\n",
       "      <td>0</td>\n",
       "      <td>PR0000002</td>\n",
       "      <td>FA0002677</td>\n",
       "      <td>None</td>\n",
       "      <td>1006</td>\n",
       "      <td>McDonald's #3549 D HOTEL</td>\n",
       "      <td>McDonalds (Store #3549) @ D HOTEL</td>\n",
       "      <td>301 Fremont St</td>\n",
       "      <td>36.16939</td>\n",
       "      <td>-115.143084</td>\n",
       "      <td>10</td>\n",
       "      <td>...</td>\n",
       "      <td>A</td>\n",
       "      <td>None</td>\n",
       "      <td>Compliant</td>\n",
       "      <td>13,34,35,36</td>\n",
       "      <td>2013-02-21 22:26:12</td>\n",
       "      <td>Routine Inspection</td>\n",
       "      <td>2005.0</td>\n",
       "      <td>3.0</td>\n",
       "      <td>23.0</td>\n",
       "      <td>12.0</td>\n",
       "    </tr>\n",
       "    <tr>\n",
       "      <td>1</td>\n",
       "      <td>PR0000002</td>\n",
       "      <td>FA0002677</td>\n",
       "      <td>None</td>\n",
       "      <td>1006</td>\n",
       "      <td>McDonald's #3549 D HOTEL</td>\n",
       "      <td>McDonalds (Store #3549) @ D HOTEL</td>\n",
       "      <td>301 Fremont St</td>\n",
       "      <td>36.16939</td>\n",
       "      <td>-115.143084</td>\n",
       "      <td>10</td>\n",
       "      <td>...</td>\n",
       "      <td>A</td>\n",
       "      <td>None</td>\n",
       "      <td>Compliant</td>\n",
       "      <td>13,14,31,32,36</td>\n",
       "      <td>2013-02-21 22:26:12</td>\n",
       "      <td>Routine Inspection</td>\n",
       "      <td>2006.0</td>\n",
       "      <td>1.0</td>\n",
       "      <td>22.0</td>\n",
       "      <td>8.0</td>\n",
       "    </tr>\n",
       "    <tr>\n",
       "      <td>2</td>\n",
       "      <td>PR0000002</td>\n",
       "      <td>FA0002677</td>\n",
       "      <td>None</td>\n",
       "      <td>1006</td>\n",
       "      <td>McDonald's #3549 D HOTEL</td>\n",
       "      <td>McDonalds (Store #3549) @ D HOTEL</td>\n",
       "      <td>301 Fremont St</td>\n",
       "      <td>36.16939</td>\n",
       "      <td>-115.143084</td>\n",
       "      <td>10</td>\n",
       "      <td>...</td>\n",
       "      <td>A</td>\n",
       "      <td>None</td>\n",
       "      <td>Compliant</td>\n",
       "      <td>13,14,25,27,35</td>\n",
       "      <td>2013-02-21 22:26:12</td>\n",
       "      <td>Routine Inspection</td>\n",
       "      <td>2006.0</td>\n",
       "      <td>3.0</td>\n",
       "      <td>15.0</td>\n",
       "      <td>17.0</td>\n",
       "    </tr>\n",
       "    <tr>\n",
       "      <td>3</td>\n",
       "      <td>PR0000002</td>\n",
       "      <td>FA0002677</td>\n",
       "      <td>None</td>\n",
       "      <td>1006</td>\n",
       "      <td>McDonald's #3549 D HOTEL</td>\n",
       "      <td>McDonalds (Store #3549) @ D HOTEL</td>\n",
       "      <td>301 Fremont St</td>\n",
       "      <td>36.16939</td>\n",
       "      <td>-115.143084</td>\n",
       "      <td>10</td>\n",
       "      <td>...</td>\n",
       "      <td>A</td>\n",
       "      <td>None</td>\n",
       "      <td>Compliant</td>\n",
       "      <td>23,31,35,37</td>\n",
       "      <td>2013-02-21 22:26:12</td>\n",
       "      <td>Routine Inspection</td>\n",
       "      <td>2007.0</td>\n",
       "      <td>6.0</td>\n",
       "      <td>19.0</td>\n",
       "      <td>12.0</td>\n",
       "    </tr>\n",
       "    <tr>\n",
       "      <td>4</td>\n",
       "      <td>PR0000002</td>\n",
       "      <td>FA0002677</td>\n",
       "      <td>None</td>\n",
       "      <td>1006</td>\n",
       "      <td>McDonald's #3549 D HOTEL</td>\n",
       "      <td>McDonalds (Store #3549) @ D HOTEL</td>\n",
       "      <td>301 Fremont St</td>\n",
       "      <td>36.16939</td>\n",
       "      <td>-115.143084</td>\n",
       "      <td>10</td>\n",
       "      <td>...</td>\n",
       "      <td>B</td>\n",
       "      <td>None</td>\n",
       "      <td>B Downgrade</td>\n",
       "      <td>4,16,27,30,31,36,37</td>\n",
       "      <td>2013-02-21 22:26:12</td>\n",
       "      <td>Routine Inspection</td>\n",
       "      <td>2008.0</td>\n",
       "      <td>6.0</td>\n",
       "      <td>23.0</td>\n",
       "      <td>20.0</td>\n",
       "    </tr>\n",
       "  </tbody>\n",
       "</table>\n",
       "<p>5 rows × 39 columns</p>\n",
       "</div>"
      ],
      "text/plain": [
       "  permit_number facility_id owner_id    PE           restaurant_name  \\\n",
       "0     PR0000002   FA0002677     None  1006  McDonald's #3549 D HOTEL   \n",
       "1     PR0000002   FA0002677     None  1006  McDonald's #3549 D HOTEL   \n",
       "2     PR0000002   FA0002677     None  1006  McDonald's #3549 D HOTEL   \n",
       "3     PR0000002   FA0002677     None  1006  McDonald's #3549 D HOTEL   \n",
       "4     PR0000002   FA0002677     None  1006  McDonald's #3549 D HOTEL   \n",
       "\n",
       "                       location_name         address  latitude   longitude  \\\n",
       "0  McDonalds (Store #3549) @ D HOTEL  301 Fremont St  36.16939 -115.143084   \n",
       "1  McDonalds (Store #3549) @ D HOTEL  301 Fremont St  36.16939 -115.143084   \n",
       "2  McDonalds (Store #3549) @ D HOTEL  301 Fremont St  36.16939 -115.143084   \n",
       "3  McDonalds (Store #3549) @ D HOTEL  301 Fremont St  36.16939 -115.143084   \n",
       "4  McDonalds (Store #3549) @ D HOTEL  301 Fremont St  36.16939 -115.143084   \n",
       "\n",
       "   city_id  ... inspection_grade_new permit_status inspection_result  \\\n",
       "0       10  ...                    A          None         Compliant   \n",
       "1       10  ...                    A          None         Compliant   \n",
       "2       10  ...                    A          None         Compliant   \n",
       "3       10  ...                    A          None         Compliant   \n",
       "4       10  ...                    B          None       B Downgrade   \n",
       "\n",
       "            violations       record_updated     inspection_type    year month  \\\n",
       "0          13,34,35,36  2013-02-21 22:26:12  Routine Inspection  2005.0   3.0   \n",
       "1       13,14,31,32,36  2013-02-21 22:26:12  Routine Inspection  2006.0   1.0   \n",
       "2       13,14,25,27,35  2013-02-21 22:26:12  Routine Inspection  2006.0   3.0   \n",
       "3          23,31,35,37  2013-02-21 22:26:12  Routine Inspection  2007.0   6.0   \n",
       "4  4,16,27,30,31,36,37  2013-02-21 22:26:12  Routine Inspection  2008.0   6.0   \n",
       "\n",
       "    day  hour  \n",
       "0  23.0  12.0  \n",
       "1  22.0   8.0  \n",
       "2  15.0  17.0  \n",
       "3  19.0  12.0  \n",
       "4  23.0  20.0  \n",
       "\n",
       "[5 rows x 39 columns]"
      ]
     },
     "execution_count": 27,
     "metadata": {},
     "output_type": "execute_result"
    }
   ],
   "source": [
    "res_ins.head()"
   ]
  },
  {
   "cell_type": "code",
   "execution_count": 28,
   "metadata": {},
   "outputs": [
    {
     "data": {
      "text/plain": [
       "Index(['permit_number', 'facility_id', 'owner_id', 'PE', 'restaurant_name',\n",
       "       'location_name', 'address', 'latitude', 'longitude', 'city_id',\n",
       "       'city_name', 'zip_code', 'nciaa', 'plan_review', 'record_status',\n",
       "       'current_grade', 'current_demerits', 'date_current', 'previous_grade',\n",
       "       'date_previous', 'search_text', 'category_name', 'serial_number',\n",
       "       'inspection_date', 'inspection_time', 'employee_id',\n",
       "       'inspection_type_id', 'inspection_demerits', 'inspection_grade',\n",
       "       'inspection_grade_new', 'permit_status', 'inspection_result',\n",
       "       'violations', 'record_updated', 'inspection_type', 'year', 'month',\n",
       "       'day', 'hour'],\n",
       "      dtype='object')"
      ]
     },
     "execution_count": 28,
     "metadata": {},
     "output_type": "execute_result"
    }
   ],
   "source": [
    "res_ins.columns"
   ]
  },
  {
   "cell_type": "markdown",
   "metadata": {},
   "source": [
    "#### violations df"
   ]
  },
  {
   "cell_type": "code",
   "execution_count": 29,
   "metadata": {},
   "outputs": [
    {
     "name": "stdout",
     "output_type": "stream",
     "text": [
      "6\n",
      "['Food not obtained from approved sources and/or improperly identified.'\n",
      " 'Sewage not disposed into public sewer or approved facility. Cross-connections or back siphonage present.'\n",
      " 'No hot and cold running water as required and/or water not from an approved source.'\n",
      " 'Food spoiled or adulterated.'\n",
      " 'Food workers improperly washing hands after using toilet'\n",
      " 'Employee(s) working with boils' 'Poultry' 'Ground'\n",
      " 'Pork and/or any food containing pork'\n",
      " 'Potentially hazardous foods not kept at 40°F or colder or at 140°F or hotter']\n",
      "2\n",
      "['Fruits and vegetables improperly washed prior to serving.'\n",
      " 'Potentially hazardous foods improperly thawed.'\n",
      " 'Perishable foods kept at improper temperature.']\n",
      "1\n",
      "['Foods not stored off the floor.'\n",
      " 'Required labels not present on food or containers of food.  Required signs not posted.'\n",
      " 'Health cards not current on all food handlers.'\n",
      " 'Unacceptable hygienic practices'\n",
      " 'In-use utensils improperly handled and/or stored.'\n",
      " 'Food and food storage containers properly labeled and dated as required. Food stored off the floor when required. Non-PHF/TCS not spoiled and within shelf-life. Proper retail storage of chemicals.'\n",
      " 'Appropriate sanitizer test kits provided and used. Ware washing thermometer(s) as required. Wiping cloths & linens stored and used properly.'\n",
      " 'Health cards as required. Foodhandler not aware of employee health policy. “A” grade card posted conspicuously. '\n",
      " 'Fruits and vegetables washed prior to preparation or service.'\n",
      " 'Plastic used for food contact surfaces is not of approved food grade quality.'\n",
      " 'Non-food contact surfaces improperly constructed and/or installed.'\n",
      " 'Non-food contact surfaces and/or cooking devices not maintained and/or unclean.'\n",
      " 'Live animals not in compliance with current Regulations.'\n",
      " 'Non-compliant with Nevada Revised Statute 202.2483 regarding smoking.'\n",
      " 'Acceptable personal hygiene practices'\n",
      " 'Facilities for washing and sanitizing kitchenware approved'\n",
      " 'Food contact surfaces and equipment approved' 'Utensils'\n",
      " 'Facilities for washing and sanitizing equipment and utensils unapproved'\n",
      " 'Nonfood contact surfaces and equipment properly constructed' 'Restrooms'\n",
      " 'Facility in sound condition and maintained (floors'\n",
      " 'Accurate thermometers' 'Clean utensils' 'Unclean wiping cloths'\n",
      " 'Unapproved food contact surfaces. Food contact surfaces not  smooth'\n",
      " 'Toilet facilities for employees inadequate'\n",
      " 'Garbage storage and/or removal inadequate and/or unclean.  Garbage containers not clean'\n",
      " 'Improper lighting and/or ventilation'\n",
      " 'Plumbing and/or fixtures improperly sized' 'Floors'\n",
      " 'Living quarters not completely separated from food service.  Infant or child care allowed.  Premises not maintained free of litter']\n",
      "5\n",
      "['Commercially manufactured food from approved source with required labels. Parasite destruction as required. Potentially hazardous foods/time temperature control for safety (PHF/TCS) received at proper temperature.'\n",
      " 'Hot and cold running water from approved source as required. '\n",
      " 'Imminently dangerous cross connection or backflow.  Waste water and sewage disposed into public sewer or approved facility.'\n",
      " 'Food wholesome' 'PHF/TCSs cooked and reheated to proper temperatures.'\n",
      " 'PHF/TCSs properly cooled.'\n",
      " 'Operating within the parameters of the health permit.'\n",
      " 'Verifiable time as a control with approved procedure when in use. Operational plan'\n",
      " 'Handwashing (as required'\n",
      " 'PHF/TCSs at proper temperatures during storage']\n",
      "3\n",
      "['Food protected from potential contamination during storage and preparation.'\n",
      " 'Food protected from potential contamination by employees and consumers.'\n",
      " 'Effective pest control measures. Animals restricted as required.'\n",
      " 'Hot and cold holding equipment present'\n",
      " 'Accurate thermometers (stem & hot/cold holding) provided and used.'\n",
      " 'PHF/TCSs properly thawed.' 'Single use items not reused or misused.'\n",
      " 'Person in charge available and knowledgeable/management certification.'\n",
      " 'Backflow prevention devices and methods in place and maintained.'\n",
      " '“B” or “C” grade card and required signs posted conspicuously. Consumer advisory as required. Records/logs maintained and available when required.'\n",
      " 'Suitable thermometers (stem' 'Single service items reused.'\n",
      " 'No effective measures to control pests.  Pest control devices not maintained.'\n",
      " 'Potentially hazardous salads and/or fillings not made with prechilled ingredients.'\n",
      " 'Unsuitable hand washing facilities'\n",
      " 'Food protected from potential contamination by chemicals. Toxic items properly labeled'\n",
      " 'Kitchenware and food contact surfaces of equipment properly washed'\n",
      " 'Handwashing facilities adequate in number']\n",
      "0\n",
      "['Imminent Health Hazard - (Immediate Closure) - Interruption of electrical service'\n",
      " 'Imminent Health Hazard - (Immediate Closure) - No potable water or hot water'\n",
      " 'Imminent Health Hazard - (Immediate Closure) - Gross unsanitary occurrences or conditions including pest infestation'\n",
      " 'Imminent Health Hazard - (Immediate Closure) - Sewage or liquid waste not disposed of in an approved manner'\n",
      " 'Imminent Health Hazard - (Immediate Closure) - Lack of adequate refrigeration'\n",
      " 'Imminent Health Hazard - (Immediate Closure) - Lack of adequate employee toilets and handwashing facilities'\n",
      " 'Imminent Health Hazard - (Immediate Closure) - Misuse of poisonous or toxic materials'\n",
      " 'Imminent Health Hazard - (Immediate Closure) - Suspected foodborne illness outbreak'\n",
      " 'Imminent Health Hazard - (Immediate Closure) - Emergency such as fire and/or flood'\n",
      " 'Imminent Health Hazard - (Immediate Closure) - Other condition or circumstance that may endanger public health']\n",
      "4\n",
      "['Inadequate hot and cold holding equipment'\n",
      " 'Food unprotected from cross-contamination by food handlers.'\n",
      " 'Food unprotected from cross-contamination by chemicals.'\n",
      " 'Food unprotected by cross-contamination by proper storage.'\n",
      " 'Food unprotected from cross-contamination by raw meats'\n",
      " 'Kitchenware and/or food contact surfaces of equipment improperly cleaned']\n",
      "10\n",
      "['Hot potentially hazardous foods not rapidly cooled by approved methods.']\n"
     ]
    }
   ],
   "source": [
    "for i in violations['violation_demerits'].unique():\n",
    "    print(i)\n",
    "    print(violations[violations['violation_demerits']==i]['violation_description'].unique())"
   ]
  },
  {
   "cell_type": "markdown",
   "metadata": {},
   "source": [
    "*grouping violations into categories*\n",
    "\n",
    "* minor - demerits of 1/2/3\n",
    "* crucial - demerits of 4/5/6\n",
    "* significant - violation demerits of 0 meaning imminent health hazard and 10 demerits\n"
   ]
  },
  {
   "cell_type": "code",
   "execution_count": 30,
   "metadata": {},
   "outputs": [],
   "source": [
    "violations['minor'] =  [1 if (x == 1)|(x == 2)|(x==3) else 0 for x in violations['violation_demerits']]\n",
    "violations['crucial'] = [1 if (x == 4)|(x==5)|(x==6) else 0 for x in violations['violation_demerits']]\n",
    "violations['significant'] = [1 if (x == 0)|(x==10) else 0 for x in violations['violation_demerits']]"
   ]
  },
  {
   "cell_type": "code",
   "execution_count": 31,
   "metadata": {},
   "outputs": [
    {
     "data": {
      "text/html": [
       "<div>\n",
       "<style scoped>\n",
       "    .dataframe tbody tr th:only-of-type {\n",
       "        vertical-align: middle;\n",
       "    }\n",
       "\n",
       "    .dataframe tbody tr th {\n",
       "        vertical-align: top;\n",
       "    }\n",
       "\n",
       "    .dataframe thead th {\n",
       "        text-align: right;\n",
       "    }\n",
       "</style>\n",
       "<table border=\"1\" class=\"dataframe\">\n",
       "  <thead>\n",
       "    <tr style=\"text-align: right;\">\n",
       "      <th></th>\n",
       "      <th>violation_id</th>\n",
       "      <th>violation_code</th>\n",
       "      <th>violation_demerits</th>\n",
       "      <th>violation_description</th>\n",
       "      <th>minor</th>\n",
       "      <th>crucial</th>\n",
       "      <th>significant</th>\n",
       "    </tr>\n",
       "  </thead>\n",
       "  <tbody>\n",
       "    <tr>\n",
       "      <td>0</td>\n",
       "      <td>1</td>\n",
       "      <td>1</td>\n",
       "      <td>6</td>\n",
       "      <td>Food not obtained from approved sources and/or...</td>\n",
       "      <td>0</td>\n",
       "      <td>1</td>\n",
       "      <td>0</td>\n",
       "    </tr>\n",
       "    <tr>\n",
       "      <td>1</td>\n",
       "      <td>15</td>\n",
       "      <td>15</td>\n",
       "      <td>6</td>\n",
       "      <td>Sewage not disposed into public sewer or appro...</td>\n",
       "      <td>0</td>\n",
       "      <td>1</td>\n",
       "      <td>0</td>\n",
       "    </tr>\n",
       "    <tr>\n",
       "      <td>2</td>\n",
       "      <td>16</td>\n",
       "      <td>16</td>\n",
       "      <td>6</td>\n",
       "      <td>No hot and cold running water as required and/...</td>\n",
       "      <td>0</td>\n",
       "      <td>1</td>\n",
       "      <td>0</td>\n",
       "    </tr>\n",
       "    <tr>\n",
       "      <td>3</td>\n",
       "      <td>17</td>\n",
       "      <td>17</td>\n",
       "      <td>2</td>\n",
       "      <td>Fruits and vegetables improperly washed prior ...</td>\n",
       "      <td>1</td>\n",
       "      <td>0</td>\n",
       "      <td>0</td>\n",
       "    </tr>\n",
       "    <tr>\n",
       "      <td>4</td>\n",
       "      <td>18</td>\n",
       "      <td>18</td>\n",
       "      <td>1</td>\n",
       "      <td>Foods not stored off the floor.</td>\n",
       "      <td>1</td>\n",
       "      <td>0</td>\n",
       "      <td>0</td>\n",
       "    </tr>\n",
       "  </tbody>\n",
       "</table>\n",
       "</div>"
      ],
      "text/plain": [
       "   violation_id violation_code  violation_demerits  \\\n",
       "0             1              1                   6   \n",
       "1            15             15                   6   \n",
       "2            16             16                   6   \n",
       "3            17             17                   2   \n",
       "4            18             18                   1   \n",
       "\n",
       "                               violation_description  minor  crucial  \\\n",
       "0  Food not obtained from approved sources and/or...      0        1   \n",
       "1  Sewage not disposed into public sewer or appro...      0        1   \n",
       "2  No hot and cold running water as required and/...      0        1   \n",
       "3  Fruits and vegetables improperly washed prior ...      1        0   \n",
       "4                    Foods not stored off the floor.      1        0   \n",
       "\n",
       "   significant  \n",
       "0            0  \n",
       "1            0  \n",
       "2            0  \n",
       "3            0  \n",
       "4            0  "
      ]
     },
     "execution_count": 31,
     "metadata": {},
     "output_type": "execute_result"
    }
   ],
   "source": [
    "violations.head()"
   ]
  },
  {
   "cell_type": "code",
   "execution_count": 32,
   "metadata": {},
   "outputs": [],
   "source": [
    "violations['vid'] = violations['violation_id'].astype(str)"
   ]
  },
  {
   "cell_type": "code",
   "execution_count": 33,
   "metadata": {},
   "outputs": [],
   "source": [
    "violations_dict = violations[['violation_id', 'violation_description']].set_index('violation_id').to_dict()"
   ]
  },
  {
   "cell_type": "code",
   "execution_count": 34,
   "metadata": {},
   "outputs": [],
   "source": [
    "minor = np.array(violations[violations['minor']==1]['violation_id'])\n",
    "crucial = np.array(violations[violations['crucial']==1]['violation_id'])\n",
    "significant = np.array(violations[violations['significant']==1]['violation_id'])"
   ]
  },
  {
   "cell_type": "markdown",
   "metadata": {},
   "source": [
    "Parse the violations string into individual violation codes and add up the groupings"
   ]
  },
  {
   "cell_type": "code",
   "execution_count": 35,
   "metadata": {
    "scrolled": true
   },
   "outputs": [],
   "source": [
    "split_inspections = res_ins['violations'].str.split(\",\", expand = True)\n",
    "split_inspections.fillna(0, inplace=True)\n",
    "split_inspections = split_inspections.astype('int64')"
   ]
  },
  {
   "cell_type": "code",
   "execution_count": 36,
   "metadata": {},
   "outputs": [],
   "source": [
    "split_inspections['minor'] = 0\n",
    "split_inspections['crucial'] = 0\n",
    "split_inspections['significant'] = 0\n",
    "\n",
    "for i in split_inspections:\n",
    "    temp_minor =  [1 if x in minor else 0 for x in split_inspections[i]]\n",
    "    temp_crucial = [1 if x in crucial else 0 for x in split_inspections[i]]\n",
    "    temp_significant = [1 if x in significant else 0 for x in split_inspections[i]]\n",
    "    \n",
    "    split_inspections['minor'] = split_inspections['minor'] + temp_minor\n",
    "    split_inspections['crucial'] = split_inspections['crucial'] + temp_crucial\n",
    "    split_inspections['significant'] = split_inspections['significant'] + temp_significant"
   ]
  },
  {
   "cell_type": "markdown",
   "metadata": {},
   "source": [
    "Concat the string of the violations"
   ]
  },
  {
   "cell_type": "code",
   "execution_count": 37,
   "metadata": {},
   "outputs": [],
   "source": [
    "desc = pd.DataFrame(split_inspections.iloc[:, 0:41])\n",
    "\n",
    "for i in desc:\n",
    "    desc[i] = desc[i].map(violations_dict['violation_description'])\n",
    "    \n",
    "desc.fillna(\"\", inplace=True)\n",
    "desc = desc.astype(str)\n",
    "desc['violations_desc'] = desc.apply(' '.join, axis=1)"
   ]
  },
  {
   "cell_type": "code",
   "execution_count": 38,
   "metadata": {},
   "outputs": [],
   "source": [
    "res_ins = pd.concat([res_ins, split_inspections[['minor','crucial', 'significant']]], axis=1)\n",
    "res_ins = pd.concat([res_ins, desc[['violations_desc']]], axis=1)"
   ]
  },
  {
   "cell_type": "code",
   "execution_count": 39,
   "metadata": {},
   "outputs": [
    {
     "data": {
      "text/html": [
       "<div>\n",
       "<style scoped>\n",
       "    .dataframe tbody tr th:only-of-type {\n",
       "        vertical-align: middle;\n",
       "    }\n",
       "\n",
       "    .dataframe tbody tr th {\n",
       "        vertical-align: top;\n",
       "    }\n",
       "\n",
       "    .dataframe thead th {\n",
       "        text-align: right;\n",
       "    }\n",
       "</style>\n",
       "<table border=\"1\" class=\"dataframe\">\n",
       "  <thead>\n",
       "    <tr style=\"text-align: right;\">\n",
       "      <th></th>\n",
       "      <th>permit_number</th>\n",
       "      <th>facility_id</th>\n",
       "      <th>owner_id</th>\n",
       "      <th>PE</th>\n",
       "      <th>restaurant_name</th>\n",
       "      <th>location_name</th>\n",
       "      <th>address</th>\n",
       "      <th>latitude</th>\n",
       "      <th>longitude</th>\n",
       "      <th>city_id</th>\n",
       "      <th>...</th>\n",
       "      <th>record_updated</th>\n",
       "      <th>inspection_type</th>\n",
       "      <th>year</th>\n",
       "      <th>month</th>\n",
       "      <th>day</th>\n",
       "      <th>hour</th>\n",
       "      <th>minor</th>\n",
       "      <th>crucial</th>\n",
       "      <th>significant</th>\n",
       "      <th>violations_desc</th>\n",
       "    </tr>\n",
       "  </thead>\n",
       "  <tbody>\n",
       "    <tr>\n",
       "      <td>0</td>\n",
       "      <td>PR0000002</td>\n",
       "      <td>FA0002677</td>\n",
       "      <td>None</td>\n",
       "      <td>1006</td>\n",
       "      <td>McDonald's #3549 D HOTEL</td>\n",
       "      <td>McDonalds (Store #3549) @ D HOTEL</td>\n",
       "      <td>301 Fremont St</td>\n",
       "      <td>36.16939</td>\n",
       "      <td>-115.143084</td>\n",
       "      <td>10</td>\n",
       "      <td>...</td>\n",
       "      <td>2013-02-21 22:26:12</td>\n",
       "      <td>Routine Inspection</td>\n",
       "      <td>2005.0</td>\n",
       "      <td>3.0</td>\n",
       "      <td>23.0</td>\n",
       "      <td>12.0</td>\n",
       "      <td>4</td>\n",
       "      <td>2</td>\n",
       "      <td>0</td>\n",
       "      <td>Unsuitable hand washing facilities No effectiv...</td>\n",
       "    </tr>\n",
       "    <tr>\n",
       "      <td>1</td>\n",
       "      <td>PR0000002</td>\n",
       "      <td>FA0002677</td>\n",
       "      <td>None</td>\n",
       "      <td>1006</td>\n",
       "      <td>McDonald's #3549 D HOTEL</td>\n",
       "      <td>McDonalds (Store #3549) @ D HOTEL</td>\n",
       "      <td>301 Fremont St</td>\n",
       "      <td>36.16939</td>\n",
       "      <td>-115.143084</td>\n",
       "      <td>10</td>\n",
       "      <td>...</td>\n",
       "      <td>2013-02-21 22:26:12</td>\n",
       "      <td>Routine Inspection</td>\n",
       "      <td>2006.0</td>\n",
       "      <td>1.0</td>\n",
       "      <td>22.0</td>\n",
       "      <td>8.0</td>\n",
       "      <td>4</td>\n",
       "      <td>3</td>\n",
       "      <td>0</td>\n",
       "      <td>Unsuitable hand washing facilities Kitchenware...</td>\n",
       "    </tr>\n",
       "    <tr>\n",
       "      <td>2</td>\n",
       "      <td>PR0000002</td>\n",
       "      <td>FA0002677</td>\n",
       "      <td>None</td>\n",
       "      <td>1006</td>\n",
       "      <td>McDonald's #3549 D HOTEL</td>\n",
       "      <td>McDonalds (Store #3549) @ D HOTEL</td>\n",
       "      <td>301 Fremont St</td>\n",
       "      <td>36.16939</td>\n",
       "      <td>-115.143084</td>\n",
       "      <td>10</td>\n",
       "      <td>...</td>\n",
       "      <td>2013-02-21 22:26:12</td>\n",
       "      <td>Routine Inspection</td>\n",
       "      <td>2006.0</td>\n",
       "      <td>3.0</td>\n",
       "      <td>15.0</td>\n",
       "      <td>17.0</td>\n",
       "      <td>4</td>\n",
       "      <td>3</td>\n",
       "      <td>0</td>\n",
       "      <td>Unsuitable hand washing facilities Kitchenware...</td>\n",
       "    </tr>\n",
       "    <tr>\n",
       "      <td>3</td>\n",
       "      <td>PR0000002</td>\n",
       "      <td>FA0002677</td>\n",
       "      <td>None</td>\n",
       "      <td>1006</td>\n",
       "      <td>McDonald's #3549 D HOTEL</td>\n",
       "      <td>McDonalds (Store #3549) @ D HOTEL</td>\n",
       "      <td>301 Fremont St</td>\n",
       "      <td>36.16939</td>\n",
       "      <td>-115.143084</td>\n",
       "      <td>10</td>\n",
       "      <td>...</td>\n",
       "      <td>2013-02-21 22:26:12</td>\n",
       "      <td>Routine Inspection</td>\n",
       "      <td>2007.0</td>\n",
       "      <td>6.0</td>\n",
       "      <td>19.0</td>\n",
       "      <td>12.0</td>\n",
       "      <td>4</td>\n",
       "      <td>2</td>\n",
       "      <td>0</td>\n",
       "      <td>Facilities for washing and sanitizing equipmen...</td>\n",
       "    </tr>\n",
       "    <tr>\n",
       "      <td>4</td>\n",
       "      <td>PR0000002</td>\n",
       "      <td>FA0002677</td>\n",
       "      <td>None</td>\n",
       "      <td>1006</td>\n",
       "      <td>McDonald's #3549 D HOTEL</td>\n",
       "      <td>McDonalds (Store #3549) @ D HOTEL</td>\n",
       "      <td>301 Fremont St</td>\n",
       "      <td>36.16939</td>\n",
       "      <td>-115.143084</td>\n",
       "      <td>10</td>\n",
       "      <td>...</td>\n",
       "      <td>2013-02-21 22:26:12</td>\n",
       "      <td>Routine Inspection</td>\n",
       "      <td>2008.0</td>\n",
       "      <td>6.0</td>\n",
       "      <td>23.0</td>\n",
       "      <td>20.0</td>\n",
       "      <td>5</td>\n",
       "      <td>4</td>\n",
       "      <td>1</td>\n",
       "      <td>Inadequate hot and cold holding equipment No h...</td>\n",
       "    </tr>\n",
       "  </tbody>\n",
       "</table>\n",
       "<p>5 rows × 43 columns</p>\n",
       "</div>"
      ],
      "text/plain": [
       "  permit_number facility_id owner_id    PE           restaurant_name  \\\n",
       "0     PR0000002   FA0002677     None  1006  McDonald's #3549 D HOTEL   \n",
       "1     PR0000002   FA0002677     None  1006  McDonald's #3549 D HOTEL   \n",
       "2     PR0000002   FA0002677     None  1006  McDonald's #3549 D HOTEL   \n",
       "3     PR0000002   FA0002677     None  1006  McDonald's #3549 D HOTEL   \n",
       "4     PR0000002   FA0002677     None  1006  McDonald's #3549 D HOTEL   \n",
       "\n",
       "                       location_name         address  latitude   longitude  \\\n",
       "0  McDonalds (Store #3549) @ D HOTEL  301 Fremont St  36.16939 -115.143084   \n",
       "1  McDonalds (Store #3549) @ D HOTEL  301 Fremont St  36.16939 -115.143084   \n",
       "2  McDonalds (Store #3549) @ D HOTEL  301 Fremont St  36.16939 -115.143084   \n",
       "3  McDonalds (Store #3549) @ D HOTEL  301 Fremont St  36.16939 -115.143084   \n",
       "4  McDonalds (Store #3549) @ D HOTEL  301 Fremont St  36.16939 -115.143084   \n",
       "\n",
       "   city_id  ...       record_updated     inspection_type    year month   day  \\\n",
       "0       10  ...  2013-02-21 22:26:12  Routine Inspection  2005.0   3.0  23.0   \n",
       "1       10  ...  2013-02-21 22:26:12  Routine Inspection  2006.0   1.0  22.0   \n",
       "2       10  ...  2013-02-21 22:26:12  Routine Inspection  2006.0   3.0  15.0   \n",
       "3       10  ...  2013-02-21 22:26:12  Routine Inspection  2007.0   6.0  19.0   \n",
       "4       10  ...  2013-02-21 22:26:12  Routine Inspection  2008.0   6.0  23.0   \n",
       "\n",
       "   hour  minor crucial significant  \\\n",
       "0  12.0      4       2           0   \n",
       "1   8.0      4       3           0   \n",
       "2  17.0      4       3           0   \n",
       "3  12.0      4       2           0   \n",
       "4  20.0      5       4           1   \n",
       "\n",
       "                                     violations_desc  \n",
       "0  Unsuitable hand washing facilities No effectiv...  \n",
       "1  Unsuitable hand washing facilities Kitchenware...  \n",
       "2  Unsuitable hand washing facilities Kitchenware...  \n",
       "3  Facilities for washing and sanitizing equipmen...  \n",
       "4  Inadequate hot and cold holding equipment No h...  \n",
       "\n",
       "[5 rows x 43 columns]"
      ]
     },
     "execution_count": 39,
     "metadata": {},
     "output_type": "execute_result"
    }
   ],
   "source": [
    "res_ins.head()"
   ]
  },
  {
   "cell_type": "markdown",
   "metadata": {},
   "source": [
    "#### exploratory data analysis"
   ]
  },
  {
   "cell_type": "code",
   "execution_count": 40,
   "metadata": {},
   "outputs": [
    {
     "data": {
      "image/png": "[encoded data removed]",
      "text/plain": [
       "<Figure size 1510.88x360 with 1 Axes>"
      ]
     },
     "metadata": {},
     "output_type": "display_data"
    }
   ],
   "source": [
    "with sns.axes_style('white'):\n",
    "    g = sns.catplot(\"month\", data=res_ins,\n",
    "                       aspect=4.0, kind='count',\n",
    "                       hue='year', order=range(1, 13))\n",
    "    g.set_ylabels('Count of Monthly Inspections in Las Vegas')\n",
    "    g.set_xlabels('Month')\n",
    "    g.fig.suptitle('Annual Inspections in Las Vegas By Month')\n"
   ]
  },
  {
   "cell_type": "code",
   "execution_count": 41,
   "metadata": {},
   "outputs": [
    {
     "data": {
      "text/plain": [
       "inspection_result\n",
       "A Grade                               50835\n",
       "Approved                                144\n",
       "Approved - Follow Up: Operations          3\n",
       "B Downgrade                           16205\n",
       "C Downgrade                            4816\n",
       "Case Transfer/Referral                    1\n",
       "Cease and Desist                          4\n",
       "Closed with Fees                       1327\n",
       "Closed without Fees                      93\n",
       "Complaint Invalid/Unsubstantiated         4\n",
       "Complaint valid with fee                  3\n",
       "Complaint valid without fee               2\n",
       "Compliance Schedule                      15\n",
       "Compliant                            132529\n",
       "Follow Up Required                       23\n",
       "Inactive Status                          76\n",
       "Meeting Required                          1\n",
       "No Further Action                       194\n",
       "Non-compliant                             2\n",
       "Not Approved                              3\n",
       "PR Change of Ownership Required           1\n",
       "Permit Suspended                          6\n",
       "Unspecified                             347\n",
       "Name: serial_number, dtype: int64"
      ]
     },
     "execution_count": 41,
     "metadata": {},
     "output_type": "execute_result"
    }
   ],
   "source": [
    "res_ins.groupby('inspection_result')['serial_number'].count()"
   ]
  },
  {
   "cell_type": "code",
   "execution_count": 42,
   "metadata": {},
   "outputs": [
    {
     "data": {
      "text/html": [
       "<div>\n",
       "<style scoped>\n",
       "    .dataframe tbody tr th:only-of-type {\n",
       "        vertical-align: middle;\n",
       "    }\n",
       "\n",
       "    .dataframe tbody tr th {\n",
       "        vertical-align: top;\n",
       "    }\n",
       "\n",
       "    .dataframe thead th {\n",
       "        text-align: right;\n",
       "    }\n",
       "</style>\n",
       "<table border=\"1\" class=\"dataframe\">\n",
       "  <thead>\n",
       "    <tr style=\"text-align: right;\">\n",
       "      <th></th>\n",
       "      <th>minor</th>\n",
       "      <th>crucial</th>\n",
       "      <th>significant</th>\n",
       "    </tr>\n",
       "    <tr>\n",
       "      <th>inspection_result</th>\n",
       "      <th></th>\n",
       "      <th></th>\n",
       "      <th></th>\n",
       "    </tr>\n",
       "  </thead>\n",
       "  <tbody>\n",
       "    <tr>\n",
       "      <td>A Grade</td>\n",
       "      <td>0.465958</td>\n",
       "      <td>1.045126</td>\n",
       "      <td>0.003659</td>\n",
       "    </tr>\n",
       "    <tr>\n",
       "      <td>Approved</td>\n",
       "      <td>1.680556</td>\n",
       "      <td>1.597222</td>\n",
       "      <td>0.013889</td>\n",
       "    </tr>\n",
       "    <tr>\n",
       "      <td>Approved - Follow Up: Operations</td>\n",
       "      <td>0.333333</td>\n",
       "      <td>0.666667</td>\n",
       "      <td>0.000000</td>\n",
       "    </tr>\n",
       "    <tr>\n",
       "      <td>B Downgrade</td>\n",
       "      <td>2.988769</td>\n",
       "      <td>3.094539</td>\n",
       "      <td>0.084850</td>\n",
       "    </tr>\n",
       "    <tr>\n",
       "      <td>C Downgrade</td>\n",
       "      <td>5.498131</td>\n",
       "      <td>4.137458</td>\n",
       "      <td>0.271802</td>\n",
       "    </tr>\n",
       "    <tr>\n",
       "      <td>Case Transfer/Referral</td>\n",
       "      <td>0.000000</td>\n",
       "      <td>2.000000</td>\n",
       "      <td>0.000000</td>\n",
       "    </tr>\n",
       "    <tr>\n",
       "      <td>Cease and Desist</td>\n",
       "      <td>3.250000</td>\n",
       "      <td>2.500000</td>\n",
       "      <td>0.250000</td>\n",
       "    </tr>\n",
       "    <tr>\n",
       "      <td>Closed with Fees</td>\n",
       "      <td>4.752072</td>\n",
       "      <td>4.272042</td>\n",
       "      <td>0.688018</td>\n",
       "    </tr>\n",
       "    <tr>\n",
       "      <td>Closed without Fees</td>\n",
       "      <td>0.892473</td>\n",
       "      <td>2.215054</td>\n",
       "      <td>0.258065</td>\n",
       "    </tr>\n",
       "    <tr>\n",
       "      <td>Complaint Invalid/Unsubstantiated</td>\n",
       "      <td>1.000000</td>\n",
       "      <td>0.500000</td>\n",
       "      <td>0.000000</td>\n",
       "    </tr>\n",
       "    <tr>\n",
       "      <td>Complaint valid with fee</td>\n",
       "      <td>1.000000</td>\n",
       "      <td>1.666667</td>\n",
       "      <td>0.000000</td>\n",
       "    </tr>\n",
       "    <tr>\n",
       "      <td>Complaint valid without fee</td>\n",
       "      <td>2.500000</td>\n",
       "      <td>0.500000</td>\n",
       "      <td>0.500000</td>\n",
       "    </tr>\n",
       "    <tr>\n",
       "      <td>Compliance Schedule</td>\n",
       "      <td>1.333333</td>\n",
       "      <td>1.533333</td>\n",
       "      <td>0.000000</td>\n",
       "    </tr>\n",
       "    <tr>\n",
       "      <td>Compliant</td>\n",
       "      <td>1.281342</td>\n",
       "      <td>1.593749</td>\n",
       "      <td>0.021346</td>\n",
       "    </tr>\n",
       "    <tr>\n",
       "      <td>Follow Up Required</td>\n",
       "      <td>0.434783</td>\n",
       "      <td>0.565217</td>\n",
       "      <td>0.000000</td>\n",
       "    </tr>\n",
       "    <tr>\n",
       "      <td>Inactive Status</td>\n",
       "      <td>0.052632</td>\n",
       "      <td>0.131579</td>\n",
       "      <td>0.000000</td>\n",
       "    </tr>\n",
       "    <tr>\n",
       "      <td>Meeting Required</td>\n",
       "      <td>0.000000</td>\n",
       "      <td>0.000000</td>\n",
       "      <td>0.000000</td>\n",
       "    </tr>\n",
       "    <tr>\n",
       "      <td>No Further Action</td>\n",
       "      <td>0.108247</td>\n",
       "      <td>0.170103</td>\n",
       "      <td>0.000000</td>\n",
       "    </tr>\n",
       "    <tr>\n",
       "      <td>Non-compliant</td>\n",
       "      <td>2.000000</td>\n",
       "      <td>1.000000</td>\n",
       "      <td>0.000000</td>\n",
       "    </tr>\n",
       "    <tr>\n",
       "      <td>Not Approved</td>\n",
       "      <td>1.000000</td>\n",
       "      <td>1.666667</td>\n",
       "      <td>0.000000</td>\n",
       "    </tr>\n",
       "    <tr>\n",
       "      <td>PR Change of Ownership Required</td>\n",
       "      <td>1.000000</td>\n",
       "      <td>2.000000</td>\n",
       "      <td>0.000000</td>\n",
       "    </tr>\n",
       "    <tr>\n",
       "      <td>Permit Suspended</td>\n",
       "      <td>2.166667</td>\n",
       "      <td>2.166667</td>\n",
       "      <td>0.000000</td>\n",
       "    </tr>\n",
       "    <tr>\n",
       "      <td>Unspecified</td>\n",
       "      <td>0.017291</td>\n",
       "      <td>0.043228</td>\n",
       "      <td>0.000000</td>\n",
       "    </tr>\n",
       "  </tbody>\n",
       "</table>\n",
       "</div>"
      ],
      "text/plain": [
       "                                      minor   crucial  significant\n",
       "inspection_result                                                 \n",
       "A Grade                            0.465958  1.045126     0.003659\n",
       "Approved                           1.680556  1.597222     0.013889\n",
       "Approved - Follow Up: Operations   0.333333  0.666667     0.000000\n",
       "B Downgrade                        2.988769  3.094539     0.084850\n",
       "C Downgrade                        5.498131  4.137458     0.271802\n",
       "Case Transfer/Referral             0.000000  2.000000     0.000000\n",
       "Cease and Desist                   3.250000  2.500000     0.250000\n",
       "Closed with Fees                   4.752072  4.272042     0.688018\n",
       "Closed without Fees                0.892473  2.215054     0.258065\n",
       "Complaint Invalid/Unsubstantiated  1.000000  0.500000     0.000000\n",
       "Complaint valid with fee           1.000000  1.666667     0.000000\n",
       "Complaint valid without fee        2.500000  0.500000     0.500000\n",
       "Compliance Schedule                1.333333  1.533333     0.000000\n",
       "Compliant                          1.281342  1.593749     0.021346\n",
       "Follow Up Required                 0.434783  0.565217     0.000000\n",
       "Inactive Status                    0.052632  0.131579     0.000000\n",
       "Meeting Required                   0.000000  0.000000     0.000000\n",
       "No Further Action                  0.108247  0.170103     0.000000\n",
       "Non-compliant                      2.000000  1.000000     0.000000\n",
       "Not Approved                       1.000000  1.666667     0.000000\n",
       "PR Change of Ownership Required    1.000000  2.000000     0.000000\n",
       "Permit Suspended                   2.166667  2.166667     0.000000\n",
       "Unspecified                        0.017291  0.043228     0.000000"
      ]
     },
     "execution_count": 42,
     "metadata": {},
     "output_type": "execute_result"
    }
   ],
   "source": [
    "res_ins.groupby('inspection_result')[['minor', 'crucial', 'significant']].mean()"
   ]
  },
  {
   "cell_type": "code",
   "execution_count": 43,
   "metadata": {},
   "outputs": [],
   "source": [
    "annual_ins_counts = res_ins.groupby(['inspection_date', \n",
    "                                     'year', 'month', 'day'])['serial_number'].count().reset_index()\n",
    "\n",
    "annual_ins_counts.set_index('inspection_date', inplace=True)"
   ]
  },
  {
   "cell_type": "code",
   "execution_count": 44,
   "metadata": {},
   "outputs": [
    {
     "data": {
      "text/plain": [
       "<matplotlib.axes._subplots.AxesSubplot at 0x7f2fda7cb390>"
      ]
     },
     "execution_count": 44,
     "metadata": {},
     "output_type": "execute_result"
    },
    {
     "data": {
      "image/png": "[encoded data removed]",
      "text/plain": [
       "<Figure size 1440x720 with 1 Axes>"
      ]
     },
     "metadata": {
      "needs_background": "light"
     },
     "output_type": "display_data"
    }
   ],
   "source": [
    "plt.figure(figsize=(20,10))\n",
    "annual_ins_counts['serial_number'].plot()"
   ]
  },
  {
   "cell_type": "code",
   "execution_count": 58,
   "metadata": {},
   "outputs": [
    {
     "data": {
      "text/plain": [
       "Index(['permit_number', 'facility_id', 'owner_id', 'PE', 'restaurant_name',\n",
       "       'location_name', 'address', 'latitude', 'longitude', 'city_id',\n",
       "       'city_name', 'zip_code', 'nciaa', 'plan_review', 'record_status',\n",
       "       'current_grade', 'current_demerits', 'date_current', 'previous_grade',\n",
       "       'date_previous', 'search_text', 'category_name', 'serial_number',\n",
       "       'inspection_date', 'inspection_time', 'employee_id',\n",
       "       'inspection_type_id', 'inspection_demerits', 'inspection_grade',\n",
       "       'inspection_grade_new', 'permit_status', 'inspection_result',\n",
       "       'violations', 'record_updated', 'inspection_type', 'year', 'month',\n",
       "       'day', 'hour', 'minor', 'crucial', 'significant', 'violations_desc'],\n",
       "      dtype='object')"
      ]
     },
     "execution_count": 58,
     "metadata": {},
     "output_type": "execute_result"
    }
   ],
   "source": [
    "res_ins.columns"
   ]
  },
  {
   "cell_type": "code",
   "execution_count": 63,
   "metadata": {},
   "outputs": [],
   "source": [
    "odf = res_ins[['city_name', 'location_name', 'category_name', 'address', 'latitude', 'longitude',\n",
    "               'inspection_time', 'violations_desc', 'minor', 'crucial', 'significant', 'inspection_result']]"
   ]
  },
  {
   "cell_type": "code",
   "execution_count": 64,
   "metadata": {},
   "outputs": [
    {
     "name": "stderr",
     "output_type": "stream",
     "text": [
      "/home/cusp/yg833/.conda/envs/yelpVE/lib/python3.7/site-packages/pandas/core/frame.py:4223: SettingWithCopyWarning: \n",
      "A value is trying to be set on a copy of a slice from a DataFrame\n",
      "\n",
      "See the caveats in the documentation: http://pandas.pydata.org/pandas-docs/stable/user_guide/indexing.html#returning-a-view-versus-a-copy\n",
      "  return super().rename(**kwargs)\n"
     ]
    }
   ],
   "source": [
    "odf.rename(columns={\"city_name\":\"city\",\n",
    "                    \"location_name\":\"name\", \n",
    "                   \"category_name\":\"establishment_type\", \n",
    "                   \"inspection_time\":\"inspection_date\"},\n",
    "          inplace=True)"
   ]
  },
  {
   "cell_type": "code",
   "execution_count": 68,
   "metadata": {},
   "outputs": [],
   "source": [
    "odf.to_sql(\"clean_vegas_violations\", engine, schema=\"clean\", if_exists=\"replace\")"
   ]
  },
  {
   "cell_type": "code",
   "execution_count": null,
   "metadata": {},
   "outputs": [],
   "source": []
  },
  {
   "cell_type": "code",
   "execution_count": null,
   "metadata": {},
   "outputs": [],
   "source": []
  },
  {
   "cell_type": "code",
   "execution_count": null,
   "metadata": {},
   "outputs": [],
   "source": []
  },
  {
   "cell_type": "code",
   "execution_count": null,
   "metadata": {},
   "outputs": [],
   "source": []
  },
  {
   "cell_type": "code",
   "execution_count": null,
   "metadata": {},
   "outputs": [],
   "source": []
  }
 ],
 "metadata": {
  "kernelspec": {
   "display_name": "yelpVE",
   "language": "python",
   "name": "yelpve"
  },
  "language_info": {
   "codemirror_mode": {
    "name": "ipython",
    "version": 3
   },
   "file_extension": ".py",
   "mimetype": "text/x-python",
   "name": "python",
   "nbconvert_exporter": "python",
   "pygments_lexer": "ipython3",
   "version": "3.7.4"
  }
 },
 "nbformat": 4,
 "nbformat_minor": 2
}
