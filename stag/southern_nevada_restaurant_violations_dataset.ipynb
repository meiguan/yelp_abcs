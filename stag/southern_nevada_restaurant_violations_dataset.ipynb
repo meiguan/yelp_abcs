{
 "cells": [
  {
   "cell_type": "markdown",
   "metadata": {},
   "source": [
    "### Script to download Southern Neveda Restaurant dataset on health violations"
   ]
  },
  {
   "cell_type": "code",
   "execution_count": 13,
   "metadata": {},
   "outputs": [],
   "source": [
    "import os\n",
    "import sys\n",
    "import urllib\n",
    "from zipfile import ZipFile\n",
    "\n",
    "import numpy as np\n",
    "import pandas as pd\n",
    "import matplotlib\n",
    "import psycopg2\n",
    "from sqlalchemy import create_engine\n",
    "\n",
    "sys.path.append('../')\n",
    "from envir import config\n",
    "%matplotlib inline"
   ]
  },
  {
   "cell_type": "code",
   "execution_count": 14,
   "metadata": {},
   "outputs": [],
   "source": [
    "engine = create_engine('postgresql+psycopg2:///yelp_abcs')\n",
    "con = engine.connect()"
   ]
  },
  {
   "cell_type": "code",
   "execution_count": 3,
   "metadata": {},
   "outputs": [
    {
     "name": "stdout",
     "output_type": "stream",
     "text": [
      "  % Total    % Received % Xferd  Average Speed   Time    Time     Time  Current\n",
      "                                 Dload  Upload   Total   Spent    Left  Speed\n",
      "100 11.2M  100 11.2M    0     0  11.2M      0  0:00:01  0:00:01 --:--:-- 7268k\n"
     ]
    }
   ],
   "source": [
    "! curl https://www.southernnevadahealthdistrict.org/restaurants/download/restaurants.zip > nevadaRestaurants.zip"
   ]
  },
  {
   "cell_type": "code",
   "execution_count": 4,
   "metadata": {},
   "outputs": [
    {
     "data": {
      "text/plain": [
       "256"
      ]
     },
     "execution_count": 4,
     "metadata": {},
     "output_type": "execute_result"
    }
   ],
   "source": [
    "# move into shared data folder\n",
    "os.system('mv nevadaRestaurants.zip '+ config.shared)\n",
    "os.system('mkdir nevadaRestaurants')"
   ]
  },
  {
   "cell_type": "code",
   "execution_count": 5,
   "metadata": {},
   "outputs": [],
   "source": [
    "# Create a ZipFile Object and load sample.zip in it\n",
    "with ZipFile(config.shared+'/nevadaRestaurants.zip', 'r') as zipObj:\n",
    "    # Extract all the contents of zip file in current directory\n",
    "    zipObj.extractall(config.shared+'/nevadaRestaurants')"
   ]
  },
  {
   "cell_type": "code",
   "execution_count": 3,
   "metadata": {},
   "outputs": [
    {
     "name": "stdout",
     "output_type": "stream",
     "text": [
      "restaurant_categories.csv\n",
      "restaurant_cities.csv\n",
      "restaurant_establishments.csv\n",
      "restaurant_inspection_types.csv\n",
      "restaurant_inspections.csv\n",
      "restaurant_inspections_stanford.csv\n",
      "restaurant_pe_category_xref.csv\n",
      "restaurant_serials.csv\n",
      "restaurant_violations.csv\n",
      "restaurants_serials.csv\n"
     ]
    }
   ],
   "source": [
    "# get every file in the unzip folder\n",
    "f = []\n",
    "for root, dirs, files in os.walk(config.shared+'/nevadaRestaurants'):\n",
    "    for filename in files:\n",
    "        print(filename)\n",
    "        f.append(filename)"
   ]
  },
  {
   "cell_type": "code",
   "execution_count": 7,
   "metadata": {},
   "outputs": [
    {
     "name": "stdout",
     "output_type": "stream",
     "text": [
      "  % Total    % Received % Xferd  Average Speed   Time    Time     Time  Current\n",
      "                                 Dload  Upload   Total   Spent    Left  Speed\n",
      "100  6903    0  6903    0     0   6903      0 --:--:-- --:--:-- --:--:-- 27722\n"
     ]
    }
   ],
   "source": [
    "# download a newer version of restaurants violations from open data\n",
    "# https://opendataportal-lasvegas.opendata.arcgis.com/datasets/restaurant-inspection-violation-codes/data?page=9\n",
    "!curl https://opendata.arcgis.com/datasets/9abf2b74783e49f4949afc06839860a7_0.csv > restaurant_violations.csv"
   ]
  },
  {
   "cell_type": "code",
   "execution_count": 8,
   "metadata": {},
   "outputs": [
    {
     "data": {
      "text/plain": [
       "0"
      ]
     },
     "execution_count": 8,
     "metadata": {},
     "output_type": "execute_result"
    }
   ],
   "source": [
    "# move into shared data folder\n",
    "os.system('mv restaurant_violations.csv '+ config.shared+'/nevadaRestaurants/')"
   ]
  },
  {
   "cell_type": "code",
   "execution_count": 4,
   "metadata": {},
   "outputs": [
    {
     "name": "stdout",
     "output_type": "stream",
     "text": [
      "restaurant_categories\n",
      "restaurant_cities\n",
      "restaurant_establishments\n",
      "restaurant_inspection_types\n",
      "restaurant_inspections\n",
      "restaurant_inspections_stanford\n",
      "restaurant_pe_category_xref\n",
      "restaurant_serials\n",
      "restaurant_violations\n",
      "restaurants_serials\n"
     ]
    }
   ],
   "source": [
    "list_of_dfs = {}\n",
    "df_names = []\n",
    "\n",
    "for filename in f:\n",
    "    file = filename[:-4]\n",
    "    df_names.append(file)\n",
    "    print(file)\n",
    "    list_of_dfs[file] = pd.read_csv(config.shared+'nevadaRestaurants/'+filename, sep=\";\")\n",
    "    \n",
    "list_of_dfs['restaurant_violations'] = pd.read_csv(config.shared+'nevadaRestaurants/'+'restaurant_violations.csv',\n",
    "                                                   sep=\",\")\n"
   ]
  },
  {
   "cell_type": "code",
   "execution_count": 21,
   "metadata": {},
   "outputs": [
    {
     "data": {
      "text/html": [
       "<div>\n",
       "<style scoped>\n",
       "    .dataframe tbody tr th:only-of-type {\n",
       "        vertical-align: middle;\n",
       "    }\n",
       "\n",
       "    .dataframe tbody tr th {\n",
       "        vertical-align: top;\n",
       "    }\n",
       "\n",
       "    .dataframe thead th {\n",
       "        text-align: right;\n",
       "    }\n",
       "</style>\n",
       "<table border=\"1\" class=\"dataframe\">\n",
       "  <thead>\n",
       "    <tr style=\"text-align: right;\">\n",
       "      <th></th>\n",
       "      <th>violation_id</th>\n",
       "      <th>violation_code</th>\n",
       "      <th>violation_demerits</th>\n",
       "      <th>violation_description</th>\n",
       "      <th>objectid</th>\n",
       "    </tr>\n",
       "  </thead>\n",
       "  <tbody>\n",
       "    <tr>\n",
       "      <td>0</td>\n",
       "      <td>1</td>\n",
       "      <td>1</td>\n",
       "      <td>6</td>\n",
       "      <td>Food not obtained from approved sources and/or...</td>\n",
       "      <td>1</td>\n",
       "    </tr>\n",
       "    <tr>\n",
       "      <td>1</td>\n",
       "      <td>15</td>\n",
       "      <td>15</td>\n",
       "      <td>6</td>\n",
       "      <td>Sewage not disposed into public sewer or appro...</td>\n",
       "      <td>2</td>\n",
       "    </tr>\n",
       "    <tr>\n",
       "      <td>2</td>\n",
       "      <td>16</td>\n",
       "      <td>16</td>\n",
       "      <td>6</td>\n",
       "      <td>No hot and cold running water as required and/...</td>\n",
       "      <td>3</td>\n",
       "    </tr>\n",
       "    <tr>\n",
       "      <td>3</td>\n",
       "      <td>17</td>\n",
       "      <td>17</td>\n",
       "      <td>2</td>\n",
       "      <td>Fruits and vegetables improperly washed prior ...</td>\n",
       "      <td>4</td>\n",
       "    </tr>\n",
       "    <tr>\n",
       "      <td>4</td>\n",
       "      <td>18</td>\n",
       "      <td>18</td>\n",
       "      <td>1</td>\n",
       "      <td>Foods not stored off the floor.</td>\n",
       "      <td>5</td>\n",
       "    </tr>\n",
       "    <tr>\n",
       "      <td>...</td>\n",
       "      <td>...</td>\n",
       "      <td>...</td>\n",
       "      <td>...</td>\n",
       "      <td>...</td>\n",
       "      <td>...</td>\n",
       "    </tr>\n",
       "    <tr>\n",
       "      <td>85</td>\n",
       "      <td>38</td>\n",
       "      <td>38</td>\n",
       "      <td>1</td>\n",
       "      <td>Living quarters not completely separated from ...</td>\n",
       "      <td>86</td>\n",
       "    </tr>\n",
       "    <tr>\n",
       "      <td>86</td>\n",
       "      <td>61</td>\n",
       "      <td>6-1</td>\n",
       "      <td>6</td>\n",
       "      <td>Poultry</td>\n",
       "      <td>87</td>\n",
       "    </tr>\n",
       "    <tr>\n",
       "      <td>87</td>\n",
       "      <td>62</td>\n",
       "      <td>6-2</td>\n",
       "      <td>6</td>\n",
       "      <td>Ground</td>\n",
       "      <td>88</td>\n",
       "    </tr>\n",
       "    <tr>\n",
       "      <td>88</td>\n",
       "      <td>63</td>\n",
       "      <td>6-3</td>\n",
       "      <td>6</td>\n",
       "      <td>Pork and/or any food containing pork</td>\n",
       "      <td>89</td>\n",
       "    </tr>\n",
       "    <tr>\n",
       "      <td>89</td>\n",
       "      <td>64</td>\n",
       "      <td>6-4</td>\n",
       "      <td>6</td>\n",
       "      <td>Potentially hazardous foods not kept at 40°F o...</td>\n",
       "      <td>90</td>\n",
       "    </tr>\n",
       "  </tbody>\n",
       "</table>\n",
       "<p>90 rows × 5 columns</p>\n",
       "</div>"
      ],
      "text/plain": [
       "    violation_id violation_code  violation_demerits  \\\n",
       "0              1              1                   6   \n",
       "1             15             15                   6   \n",
       "2             16             16                   6   \n",
       "3             17             17                   2   \n",
       "4             18             18                   1   \n",
       "..           ...            ...                 ...   \n",
       "85            38             38                   1   \n",
       "86            61            6-1                   6   \n",
       "87            62            6-2                   6   \n",
       "88            63            6-3                   6   \n",
       "89            64            6-4                   6   \n",
       "\n",
       "                                violation_description  objectid  \n",
       "0   Food not obtained from approved sources and/or...         1  \n",
       "1   Sewage not disposed into public sewer or appro...         2  \n",
       "2   No hot and cold running water as required and/...         3  \n",
       "3   Fruits and vegetables improperly washed prior ...         4  \n",
       "4                     Foods not stored off the floor.         5  \n",
       "..                                                ...       ...  \n",
       "85  Living quarters not completely separated from ...        86  \n",
       "86                                            Poultry        87  \n",
       "87                                             Ground        88  \n",
       "88               Pork and/or any food containing pork        89  \n",
       "89  Potentially hazardous foods not kept at 40°F o...        90  \n",
       "\n",
       "[90 rows x 5 columns]"
      ]
     },
     "execution_count": 21,
     "metadata": {},
     "output_type": "execute_result"
    }
   ],
   "source": [
    "list_of_dfs['restaurant_violations'].columns = map(str.lower, list_of_dfs['restaurant_violations'])\n",
    "list_of_dfs['restaurant_violations']"
   ]
  },
  {
   "cell_type": "code",
   "execution_count": 19,
   "metadata": {
    "scrolled": false
   },
   "outputs": [
    {
     "data": {
      "text/plain": [
       "dict_keys(['restaurant_categories', 'restaurant_cities', 'restaurant_establishments', 'restaurant_inspection_types', 'restaurant_inspections', 'restaurant_inspections_stanford', 'restaurant_pe_category_xref', 'restaurant_serials', 'restaurant_violations', 'restaurants_serials'])"
      ]
     },
     "execution_count": 19,
     "metadata": {},
     "output_type": "execute_result"
    }
   ],
   "source": [
    "list_of_dfs.keys()"
   ]
  },
  {
   "cell_type": "code",
   "execution_count": 26,
   "metadata": {},
   "outputs": [
    {
     "name": "stdout",
     "output_type": "stream",
     "text": [
      "restaurant_categories\n",
      "table already exists\n",
      "restaurant_cities\n",
      "table already exists\n",
      "restaurant_establishments\n",
      "table already exists\n",
      "restaurant_inspection_types\n",
      "table already exists\n",
      "restaurant_inspections\n",
      "table already exists\n",
      "restaurant_inspections_stanford\n",
      "table already exists\n",
      "restaurant_pe_category_xref\n",
      "table already exists\n",
      "restaurant_serials\n",
      "table already exists\n",
      "restaurant_violations\n",
      "table already exists\n",
      "restaurants_serials\n",
      "table already exists\n"
     ]
    }
   ],
   "source": [
    "for i in range(len(df_names)):\n",
    "    print(df_names[i])\n",
    "    try:\n",
    "        list_of_dfs[df_names[i]].iloc[:, :-1].to_sql('nevada_'+df_names[i], engine, schema='stag',\n",
    "                                                     index=False)\n",
    "    except:\n",
    "        print(\"table already exists\")"
   ]
  },
  {
   "cell_type": "code",
   "execution_count": 25,
   "metadata": {},
   "outputs": [],
   "source": []
  }
 ],
 "metadata": {
  "kernelspec": {
   "display_name": "yelpVE",
   "language": "python",
   "name": "yelpve"
  },
  "language_info": {
   "codemirror_mode": {
    "name": "ipython",
    "version": 3
   },
   "file_extension": ".py",
   "mimetype": "text/x-python",
   "name": "python",
   "nbconvert_exporter": "python",
   "pygments_lexer": "ipython3",
   "version": "3.7.4"
  }
 },
 "nbformat": 4,
 "nbformat_minor": 2
}
