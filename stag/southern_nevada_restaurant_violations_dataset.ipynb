{
 "cells": [
  {
   "cell_type": "markdown",
   "metadata": {},
   "source": [
    "### Script to download Southern Neveda Restaurant dataset on health violations"
   ]
  },
  {
   "cell_type": "code",
   "execution_count": 26,
   "metadata": {},
   "outputs": [],
   "source": [
    "import os\n",
    "import sys\n",
    "import urllib\n",
    "from zipfile import ZipFile\n",
    "\n",
    "import numpy as np\n",
    "import pandas as pd\n",
    "import matplotlib\n",
    "import psycopg2\n",
    "from sqlalchemy import create_engine\n",
    "\n",
    "sys.path.append('../')\n",
    "from envir import config\n",
    "%matplotlib inline"
   ]
  },
  {
   "cell_type": "code",
   "execution_count": 27,
   "metadata": {},
   "outputs": [],
   "source": [
    "engine = create_engine('postgresql+psycopg2:///yelp_abcs')\n",
    "con = engine.connect()"
   ]
  },
  {
   "cell_type": "code",
   "execution_count": 28,
   "metadata": {},
   "outputs": [
    {
     "name": "stdout",
     "output_type": "stream",
     "text": [
      "  % Total    % Received % Xferd  Average Speed   Time    Time     Time  Current\n",
      "                                 Dload  Upload   Total   Spent    Left  Speed\n",
      "100 11.2M  100 11.2M    0     0  11.2M      0  0:00:01  0:00:01 --:--:-- 5797k\n"
     ]
    }
   ],
   "source": [
    "! curl https://www.southernnevadahealthdistrict.org/restaurants/download/restaurants.zip > nevadaRestaurants.zip"
   ]
  },
  {
   "cell_type": "code",
   "execution_count": 29,
   "metadata": {},
   "outputs": [
    {
     "data": {
      "text/plain": [
       "0"
      ]
     },
     "execution_count": 29,
     "metadata": {},
     "output_type": "execute_result"
    }
   ],
   "source": [
    "# move into shared data folder\n",
    "os.system('mv nevadaRestaurants.zip '+ config.shared)\n",
    "os.system('mkdir nevadaRestaurants')"
   ]
  },
  {
   "cell_type": "code",
   "execution_count": 30,
   "metadata": {},
   "outputs": [],
   "source": [
    "# Create a ZipFile Object and load sample.zip in it\n",
    "with ZipFile(config.shared+'/nevadaRestaurants.zip', 'r') as zipObj:\n",
    "    # Extract all the contents of zip file in current directory\n",
    "    zipObj.extractall(config.shared+'/nevadaRestaurants')"
   ]
  },
  {
   "cell_type": "code",
   "execution_count": 31,
   "metadata": {},
   "outputs": [
    {
     "name": "stdout",
     "output_type": "stream",
     "text": [
      "restaurant_categories.csv\n",
      "restaurant_cities.csv\n",
      "restaurant_establishments.csv\n",
      "restaurant_inspection_types.csv\n",
      "restaurant_inspections.csv\n",
      "restaurant_inspections_stanford.csv\n",
      "restaurant_pe_category_xref.csv\n",
      "restaurant_serials.csv\n",
      "restaurant_violations.csv\n",
      "restaurants_serials.csv\n"
     ]
    }
   ],
   "source": [
    "# get every file in the unzip folder\n",
    "f = []\n",
    "for root, dirs, files in os.walk(config.shared+'/nevadaRestaurants'):\n",
    "    for filename in files:\n",
    "        print(filename)\n",
    "        f.append(filename)"
   ]
  },
  {
   "cell_type": "code",
   "execution_count": 59,
   "metadata": {},
   "outputs": [
    {
     "name": "stdout",
     "output_type": "stream",
     "text": [
      "restaurant_categories\n",
      "restaurant_cities\n",
      "restaurant_establishments\n",
      "restaurant_inspection_types\n",
      "restaurant_inspections\n",
      "restaurant_inspections_stanford\n",
      "restaurant_pe_category_xref\n",
      "restaurant_serials\n",
      "restaurant_violations\n",
      "restaurants_serials\n"
     ]
    },
    {
     "name": "stderr",
     "output_type": "stream",
     "text": [
      "b'Skipping line 5: expected 6 fields, saw 7\\nSkipping line 20: expected 6 fields, saw 8\\nSkipping line 53: expected 6 fields, saw 7\\nSkipping line 64: expected 6 fields, saw 7\\n'\n",
      "b'Skipping line 5: expected 6 fields, saw 7\\nSkipping line 20: expected 6 fields, saw 8\\nSkipping line 53: expected 6 fields, saw 7\\nSkipping line 64: expected 6 fields, saw 7\\n'\n"
     ]
    }
   ],
   "source": [
    "list_of_dfs = []\n",
    "\n",
    "for filename in f:\n",
    "    print(filename[:-4])\n",
    "    list_of_dfs.append(pd.read_csv(config.shared+'nevadaRestaurants/'+filename, sep=\";\", error_bad_lines=False))\n",
    "    temp=pd.read_csv(config.shared+'nevadaRestaurants/'+filename, sep=\";\", error_bad_lines=False)\n",
    "    temp.to_sql('nevadaRestaurants_'+filename[:-4], engine, schema='stag', index=False)"
   ]
  }
 ],
 "metadata": {
  "kernelspec": {
   "display_name": "PUI2016_Python3",
   "language": "python",
   "name": "pui2016_python3"
  },
  "language_info": {
   "codemirror_mode": {
    "name": "ipython",
    "version": 3
   },
   "file_extension": ".py",
   "mimetype": "text/x-python",
   "name": "python",
   "nbconvert_exporter": "python",
   "pygments_lexer": "ipython3",
   "version": "3.5.4"
  }
 },
 "nbformat": 4,
 "nbformat_minor": 2
}
