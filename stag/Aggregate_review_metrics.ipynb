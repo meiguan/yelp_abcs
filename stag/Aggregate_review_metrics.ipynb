{
 "cells": [
  {
   "cell_type": "code",
   "execution_count": 1,
   "metadata": {},
   "outputs": [],
   "source": [
    "import pandas as pd"
   ]
  },
  {
   "cell_type": "code",
   "execution_count": 6,
   "metadata": {},
   "outputs": [],
   "source": [
    "import sys"
   ]
  },
  {
   "cell_type": "code",
   "execution_count": 7,
   "metadata": {},
   "outputs": [
    {
     "data": {
      "text/plain": [
       "<module 'envir.config' from '../envir/config.py'>"
      ]
     },
     "execution_count": 7,
     "metadata": {},
     "output_type": "execute_result"
    }
   ],
   "source": [
    "import psycopg2\n",
    "sys.path.append('../')\n",
    "from envir import config\n",
    "import imp\n",
    "imp.reload(config)"
   ]
  },
  {
   "cell_type": "code",
   "execution_count": 8,
   "metadata": {},
   "outputs": [],
   "source": [
    "con = psycopg2.connect(config.con)"
   ]
  },
  {
   "cell_type": "code",
   "execution_count": 33,
   "metadata": {},
   "outputs": [],
   "source": [
    "master_df = pd.read_sql('''SELECT *\n",
    "FROM clean.violations_matched_yelp_id2''', con, parse_dates=True)"
   ]
  },
  {
   "cell_type": "code",
   "execution_count": 34,
   "metadata": {},
   "outputs": [
    {
     "data": {
      "text/html": [
       "<div>\n",
       "<style scoped>\n",
       "    .dataframe tbody tr th:only-of-type {\n",
       "        vertical-align: middle;\n",
       "    }\n",
       "\n",
       "    .dataframe tbody tr th {\n",
       "        vertical-align: top;\n",
       "    }\n",
       "\n",
       "    .dataframe thead th {\n",
       "        text-align: right;\n",
       "    }\n",
       "</style>\n",
       "<table border=\"1\" class=\"dataframe\">\n",
       "  <thead>\n",
       "    <tr style=\"text-align: right;\">\n",
       "      <th></th>\n",
       "      <th>index</th>\n",
       "      <th>business_id</th>\n",
       "      <th>city</th>\n",
       "      <th>inspection_date</th>\n",
       "      <th>name</th>\n",
       "      <th>establishment_type</th>\n",
       "      <th>address</th>\n",
       "      <th>latitude</th>\n",
       "      <th>longitude</th>\n",
       "      <th>inspection_result</th>\n",
       "      <th>violations_desc</th>\n",
       "      <th>minor</th>\n",
       "      <th>crucial</th>\n",
       "      <th>significant</th>\n",
       "    </tr>\n",
       "  </thead>\n",
       "  <tbody>\n",
       "  </tbody>\n",
       "</table>\n",
       "</div>"
      ],
      "text/plain": [
       "Empty DataFrame\n",
       "Columns: [index, business_id, city, inspection_date, name, establishment_type, address, latitude, longitude, inspection_result, violations_desc, minor, crucial, significant]\n",
       "Index: []"
      ]
     },
     "execution_count": 34,
     "metadata": {},
     "output_type": "execute_result"
    }
   ],
   "source": [
    "master_df[master_df['business_id'].isna()]"
   ]
  },
  {
   "cell_type": "code",
   "execution_count": 35,
   "metadata": {},
   "outputs": [
    {
     "data": {
      "text/html": [
       "<div>\n",
       "<style scoped>\n",
       "    .dataframe tbody tr th:only-of-type {\n",
       "        vertical-align: middle;\n",
       "    }\n",
       "\n",
       "    .dataframe tbody tr th {\n",
       "        vertical-align: top;\n",
       "    }\n",
       "\n",
       "    .dataframe thead th {\n",
       "        text-align: right;\n",
       "    }\n",
       "</style>\n",
       "<table border=\"1\" class=\"dataframe\">\n",
       "  <thead>\n",
       "    <tr style=\"text-align: right;\">\n",
       "      <th></th>\n",
       "      <th>index</th>\n",
       "      <th>business_id</th>\n",
       "      <th>city</th>\n",
       "      <th>inspection_date</th>\n",
       "      <th>name</th>\n",
       "      <th>establishment_type</th>\n",
       "      <th>address</th>\n",
       "      <th>latitude</th>\n",
       "      <th>longitude</th>\n",
       "      <th>inspection_result</th>\n",
       "      <th>violations_desc</th>\n",
       "      <th>minor</th>\n",
       "      <th>crucial</th>\n",
       "      <th>significant</th>\n",
       "    </tr>\n",
       "  </thead>\n",
       "  <tbody>\n",
       "    <tr>\n",
       "      <th>0</th>\n",
       "      <td>0</td>\n",
       "      <td>ktJJMphosVXddoLGG9xR4A</td>\n",
       "      <td>Las Vegas</td>\n",
       "      <td>2005-02-23 12:15:00</td>\n",
       "      <td>McDonalds #6965</td>\n",
       "      <td>Restaurant</td>\n",
       "      <td>3175 N Rancho Dr</td>\n",
       "      <td>36.216746</td>\n",
       "      <td>-115.212421</td>\n",
       "      <td>Compliant</td>\n",
       "      <td>Plumbing and/or fixtures improperly sized Floo...</td>\n",
       "      <td>2</td>\n",
       "      <td>0</td>\n",
       "      <td>2</td>\n",
       "    </tr>\n",
       "    <tr>\n",
       "      <th>1</th>\n",
       "      <td>1</td>\n",
       "      <td>ktJJMphosVXddoLGG9xR4A</td>\n",
       "      <td>Las Vegas</td>\n",
       "      <td>2005-12-13 15:50:00</td>\n",
       "      <td>McDonalds #6965</td>\n",
       "      <td>Restaurant</td>\n",
       "      <td>3175 N Rancho Dr</td>\n",
       "      <td>36.216746</td>\n",
       "      <td>-115.212421</td>\n",
       "      <td>Compliant</td>\n",
       "      <td>Health cards not current on all food handlers....</td>\n",
       "      <td>3</td>\n",
       "      <td>0</td>\n",
       "      <td>2</td>\n",
       "    </tr>\n",
       "    <tr>\n",
       "      <th>2</th>\n",
       "      <td>2</td>\n",
       "      <td>ktJJMphosVXddoLGG9xR4A</td>\n",
       "      <td>Las Vegas</td>\n",
       "      <td>2006-06-01 09:45:00</td>\n",
       "      <td>McDonalds #6965</td>\n",
       "      <td>Restaurant</td>\n",
       "      <td>3175 N Rancho Dr</td>\n",
       "      <td>36.216746</td>\n",
       "      <td>-115.212421</td>\n",
       "      <td>Compliant</td>\n",
       "      <td>Unsuitable hand washing facilities Toilet faci...</td>\n",
       "      <td>2</td>\n",
       "      <td>0</td>\n",
       "      <td>2</td>\n",
       "    </tr>\n",
       "    <tr>\n",
       "      <th>3</th>\n",
       "      <td>3</td>\n",
       "      <td>ktJJMphosVXddoLGG9xR4A</td>\n",
       "      <td>Las Vegas</td>\n",
       "      <td>2006-12-22 13:45:00</td>\n",
       "      <td>McDonalds #6965</td>\n",
       "      <td>Restaurant</td>\n",
       "      <td>3175 N Rancho Dr</td>\n",
       "      <td>36.216746</td>\n",
       "      <td>-115.212421</td>\n",
       "      <td>Compliant</td>\n",
       "      <td>Toilet facilities for employees inadequate Imp...</td>\n",
       "      <td>3</td>\n",
       "      <td>0</td>\n",
       "      <td>3</td>\n",
       "    </tr>\n",
       "    <tr>\n",
       "      <th>4</th>\n",
       "      <td>4</td>\n",
       "      <td>ktJJMphosVXddoLGG9xR4A</td>\n",
       "      <td>Las Vegas</td>\n",
       "      <td>2007-06-28 13:00:00</td>\n",
       "      <td>McDonalds #6965</td>\n",
       "      <td>Restaurant</td>\n",
       "      <td>3175 N Rancho Dr</td>\n",
       "      <td>36.216746</td>\n",
       "      <td>-115.212421</td>\n",
       "      <td>Compliant</td>\n",
       "      <td>Unacceptable hygienic practices Toilet facilit...</td>\n",
       "      <td>2</td>\n",
       "      <td>0</td>\n",
       "      <td>2</td>\n",
       "    </tr>\n",
       "  </tbody>\n",
       "</table>\n",
       "</div>"
      ],
      "text/plain": [
       "   index             business_id       city      inspection_date  \\\n",
       "0      0  ktJJMphosVXddoLGG9xR4A  Las Vegas  2005-02-23 12:15:00   \n",
       "1      1  ktJJMphosVXddoLGG9xR4A  Las Vegas  2005-12-13 15:50:00   \n",
       "2      2  ktJJMphosVXddoLGG9xR4A  Las Vegas  2006-06-01 09:45:00   \n",
       "3      3  ktJJMphosVXddoLGG9xR4A  Las Vegas  2006-12-22 13:45:00   \n",
       "4      4  ktJJMphosVXddoLGG9xR4A  Las Vegas  2007-06-28 13:00:00   \n",
       "\n",
       "              name establishment_type           address   latitude  \\\n",
       "0  McDonalds #6965         Restaurant  3175 N Rancho Dr  36.216746   \n",
       "1  McDonalds #6965         Restaurant  3175 N Rancho Dr  36.216746   \n",
       "2  McDonalds #6965         Restaurant  3175 N Rancho Dr  36.216746   \n",
       "3  McDonalds #6965         Restaurant  3175 N Rancho Dr  36.216746   \n",
       "4  McDonalds #6965         Restaurant  3175 N Rancho Dr  36.216746   \n",
       "\n",
       "    longitude inspection_result  \\\n",
       "0 -115.212421         Compliant   \n",
       "1 -115.212421         Compliant   \n",
       "2 -115.212421         Compliant   \n",
       "3 -115.212421         Compliant   \n",
       "4 -115.212421         Compliant   \n",
       "\n",
       "                                     violations_desc  minor  crucial  \\\n",
       "0  Plumbing and/or fixtures improperly sized Floo...      2        0   \n",
       "1  Health cards not current on all food handlers....      3        0   \n",
       "2  Unsuitable hand washing facilities Toilet faci...      2        0   \n",
       "3  Toilet facilities for employees inadequate Imp...      3        0   \n",
       "4  Unacceptable hygienic practices Toilet facilit...      2        0   \n",
       "\n",
       "   significant  \n",
       "0            2  \n",
       "1            2  \n",
       "2            2  \n",
       "3            3  \n",
       "4            2  "
      ]
     },
     "execution_count": 35,
     "metadata": {},
     "output_type": "execute_result"
    }
   ],
   "source": [
    "master_df.head()"
   ]
  },
  {
   "cell_type": "code",
   "execution_count": 36,
   "metadata": {},
   "outputs": [
    {
     "data": {
      "text/plain": [
       "(122548, 14)"
      ]
     },
     "execution_count": 36,
     "metadata": {},
     "output_type": "execute_result"
    }
   ],
   "source": [
    "master_df.shape"
   ]
  },
  {
   "cell_type": "code",
   "execution_count": 37,
   "metadata": {},
   "outputs": [],
   "source": [
    "master_df['inspection_date'] = pd.to_datetime(master_df['inspection_date'])"
   ]
  },
  {
   "cell_type": "code",
   "execution_count": 38,
   "metadata": {},
   "outputs": [
    {
     "data": {
      "text/plain": [
       "count                  122306\n",
       "unique                  87295\n",
       "top       2019-06-20 00:00:00\n",
       "freq                       75\n",
       "first     2005-01-03 11:15:00\n",
       "last      2019-11-22 10:10:00\n",
       "Name: inspection_date, dtype: object"
      ]
     },
     "execution_count": 38,
     "metadata": {},
     "output_type": "execute_result"
    }
   ],
   "source": [
    "master_df['inspection_date'].describe()"
   ]
  },
  {
   "cell_type": "code",
   "execution_count": 49,
   "metadata": {},
   "outputs": [],
   "source": [
    "review_df = pd.read_sql('SELECT * FROM clean.review_sentiment', con)"
   ]
  },
  {
   "cell_type": "code",
   "execution_count": 50,
   "metadata": {},
   "outputs": [
    {
     "data": {
      "text/html": [
       "<div>\n",
       "<style scoped>\n",
       "    .dataframe tbody tr th:only-of-type {\n",
       "        vertical-align: middle;\n",
       "    }\n",
       "\n",
       "    .dataframe tbody tr th {\n",
       "        vertical-align: top;\n",
       "    }\n",
       "\n",
       "    .dataframe thead th {\n",
       "        text-align: right;\n",
       "    }\n",
       "</style>\n",
       "<table border=\"1\" class=\"dataframe\">\n",
       "  <thead>\n",
       "    <tr style=\"text-align: right;\">\n",
       "      <th></th>\n",
       "      <th>index</th>\n",
       "      <th>business_id</th>\n",
       "      <th>review_id</th>\n",
       "      <th>rating_stars</th>\n",
       "      <th>sentiment</th>\n",
       "      <th>date</th>\n",
       "    </tr>\n",
       "  </thead>\n",
       "  <tbody>\n",
       "    <tr>\n",
       "      <th>0</th>\n",
       "      <td>0</td>\n",
       "      <td>0044Q4cVBcHBgXPmhGgtcQ</td>\n",
       "      <td>2fen-uTpQ6aaX1gS_k6fmw</td>\n",
       "      <td>4.0</td>\n",
       "      <td>0.534722</td>\n",
       "      <td>2014-04-07 23:04:06</td>\n",
       "    </tr>\n",
       "    <tr>\n",
       "      <th>1</th>\n",
       "      <td>1</td>\n",
       "      <td>0044Q4cVBcHBgXPmhGgtcQ</td>\n",
       "      <td>hZl88pb5hhWGdxCQwtCoSg</td>\n",
       "      <td>5.0</td>\n",
       "      <td>0.213112</td>\n",
       "      <td>2016-03-06 23:56:52</td>\n",
       "    </tr>\n",
       "    <tr>\n",
       "      <th>2</th>\n",
       "      <td>2</td>\n",
       "      <td>0044Q4cVBcHBgXPmhGgtcQ</td>\n",
       "      <td>dyr7CD2083GShTFPv-cxbw</td>\n",
       "      <td>4.0</td>\n",
       "      <td>0.515741</td>\n",
       "      <td>2018-02-21 17:29:04</td>\n",
       "    </tr>\n",
       "    <tr>\n",
       "      <th>3</th>\n",
       "      <td>3</td>\n",
       "      <td>0044Q4cVBcHBgXPmhGgtcQ</td>\n",
       "      <td>pEaa986ZI5Jyc2HrOT0sOA</td>\n",
       "      <td>5.0</td>\n",
       "      <td>0.581212</td>\n",
       "      <td>2017-03-29 02:09:18</td>\n",
       "    </tr>\n",
       "    <tr>\n",
       "      <th>4</th>\n",
       "      <td>4</td>\n",
       "      <td>0044Q4cVBcHBgXPmhGgtcQ</td>\n",
       "      <td>9lLGCMr0InLSmnO75ZNLig</td>\n",
       "      <td>4.0</td>\n",
       "      <td>0.195238</td>\n",
       "      <td>2014-09-21 12:37:38</td>\n",
       "    </tr>\n",
       "  </tbody>\n",
       "</table>\n",
       "</div>"
      ],
      "text/plain": [
       "   index             business_id               review_id  rating_stars  \\\n",
       "0      0  0044Q4cVBcHBgXPmhGgtcQ  2fen-uTpQ6aaX1gS_k6fmw           4.0   \n",
       "1      1  0044Q4cVBcHBgXPmhGgtcQ  hZl88pb5hhWGdxCQwtCoSg           5.0   \n",
       "2      2  0044Q4cVBcHBgXPmhGgtcQ  dyr7CD2083GShTFPv-cxbw           4.0   \n",
       "3      3  0044Q4cVBcHBgXPmhGgtcQ  pEaa986ZI5Jyc2HrOT0sOA           5.0   \n",
       "4      4  0044Q4cVBcHBgXPmhGgtcQ  9lLGCMr0InLSmnO75ZNLig           4.0   \n",
       "\n",
       "   sentiment                date  \n",
       "0   0.534722 2014-04-07 23:04:06  \n",
       "1   0.213112 2016-03-06 23:56:52  \n",
       "2   0.515741 2018-02-21 17:29:04  \n",
       "3   0.581212 2017-03-29 02:09:18  \n",
       "4   0.195238 2014-09-21 12:37:38  "
      ]
     },
     "execution_count": 50,
     "metadata": {},
     "output_type": "execute_result"
    }
   ],
   "source": [
    "review_df.head()"
   ]
  },
  {
   "cell_type": "code",
   "execution_count": 41,
   "metadata": {},
   "outputs": [
    {
     "data": {
      "text/plain": [
       "{'business_id': 0         ktJJMphosVXddoLGG9xR4A\n",
       " 1         ktJJMphosVXddoLGG9xR4A\n",
       " 2         ktJJMphosVXddoLGG9xR4A\n",
       " 3         ktJJMphosVXddoLGG9xR4A\n",
       " 4         ktJJMphosVXddoLGG9xR4A\n",
       " 5         ktJJMphosVXddoLGG9xR4A\n",
       " 6         ktJJMphosVXddoLGG9xR4A\n",
       " 7         ktJJMphosVXddoLGG9xR4A\n",
       " 8         ktJJMphosVXddoLGG9xR4A\n",
       " 9         ktJJMphosVXddoLGG9xR4A\n",
       " 10        ktJJMphosVXddoLGG9xR4A\n",
       " 11        ktJJMphosVXddoLGG9xR4A\n",
       " 12        ktJJMphosVXddoLGG9xR4A\n",
       " 13        ktJJMphosVXddoLGG9xR4A\n",
       " 14        ktJJMphosVXddoLGG9xR4A\n",
       " 15        ktJJMphosVXddoLGG9xR4A\n",
       " 16        ktJJMphosVXddoLGG9xR4A\n",
       " 17        ktJJMphosVXddoLGG9xR4A\n",
       " 18        ktJJMphosVXddoLGG9xR4A\n",
       " 19        ktJJMphosVXddoLGG9xR4A\n",
       " 20        ktJJMphosVXddoLGG9xR4A\n",
       " 21        ktJJMphosVXddoLGG9xR4A\n",
       " 22        ktJJMphosVXddoLGG9xR4A\n",
       " 23        ktJJMphosVXddoLGG9xR4A\n",
       " 24        ncEJaX_79zZGSS1NQNzu4A\n",
       " 25        ncEJaX_79zZGSS1NQNzu4A\n",
       " 26        ncEJaX_79zZGSS1NQNzu4A\n",
       " 27        ncEJaX_79zZGSS1NQNzu4A\n",
       " 28        ncEJaX_79zZGSS1NQNzu4A\n",
       " 29        ncEJaX_79zZGSS1NQNzu4A\n",
       "                    ...          \n",
       " 122518    a_assgoJEpKu2-kyAWFc8Q\n",
       " 122519    JpBx7K0z5P0wZz6Lj92HYw\n",
       " 122520    ytYP2UXkRow2L3emGp469w\n",
       " 122521    HxLaiPWJ0YTeqhQerHfcTw\n",
       " 122522    sCo8DEQfbc8_xWzg2kmvIA\n",
       " 122523    x5yBZsTnFb1ah75XRXJz9Q\n",
       " 122524    uwT7CppiYkek-Z-661sndQ\n",
       " 122525    uwT7CppiYkek-Z-661sndQ\n",
       " 122526    5WJOM9DefIvLOIrntDIv-A\n",
       " 122527    ieN6CyuGNnkOR0955vkoxg\n",
       " 122528    zhoNuaWrB125_LRRVPWMSQ\n",
       " 122529    8GBmys1QbunrRRnXOhlLeg\n",
       " 122530    IuGzUnd3fy5F9Gz_SoNUdg\n",
       " 122531    3uvnTtcsz0OxU4m5hOppCQ\n",
       " 122532    1CoYbtdckKh5S8eNSoanQQ\n",
       " 122533    1rKyIK79llYBZtAMnLDDUg\n",
       " 122534    ATqO2OqqeZnctPD3JlkPhA\n",
       " 122535    0iTpgvz5XJzFAo253nIE0g\n",
       " 122536    fIBrbhvU9T2PZuch_wBK_g\n",
       " 122537    gaW2yftYku0xmkc9bmCjJg\n",
       " 122538    CDSNzkBDwWuDF5eRiJBrcA\n",
       " 122539    yeZzIGVIMsS5wyBhPs1r4w\n",
       " 122540    AkpURQl7Uu2I_KPPRXYAYg\n",
       " 122541    QdcyxgwnOjT4llsLXnEoIA\n",
       " 122542    6woozW5nt2zjBX-vcJ0Dog\n",
       " 122543    2TP8uQkMDo7Av5ATNJtI9Q\n",
       " 122544    VBuKT-rMerKVPSvLtUv3Rg\n",
       " 122545    VBuKT-rMerKVPSvLtUv3Rg\n",
       " 122546    5TaPg1Pakpaesn6RtKP5FQ\n",
       " 122547    4qdwro6ytI80Xs4LM1zhAw\n",
       " Name: business_id, Length: 122548, dtype: object,\n",
       " 'inspection_date': 0        2005-02-23 12:15:00\n",
       " 1        2005-12-13 15:50:00\n",
       " 2        2006-06-01 09:45:00\n",
       " 3        2006-12-22 13:45:00\n",
       " 4        2007-06-28 13:00:00\n",
       " 5        2008-01-30 14:25:00\n",
       " 6        2008-10-13 15:45:00\n",
       " 7        2009-01-16 12:35:00\n",
       " 8        2009-07-16 10:35:00\n",
       " 9        2010-01-21 15:10:00\n",
       " 10       2011-02-18 08:50:00\n",
       " 11       2012-02-10 15:10:00\n",
       " 12       2012-09-18 10:25:00\n",
       " 13       2013-07-10 09:30:00\n",
       " 14       2013-12-20 10:40:00\n",
       " 15       2014-08-07 10:40:00\n",
       " 16       2015-06-09 10:20:00\n",
       " 17       2016-03-22 10:35:00\n",
       " 18       2018-08-03 09:45:00\n",
       " 19       2017-03-23 08:00:00\n",
       " 20       2019-06-28 08:00:00\n",
       " 21       2018-03-23 09:00:00\n",
       " 22       2017-12-12 08:45:00\n",
       " 23       2014-08-11 11:30:00\n",
       " 24       2006-04-18 13:45:00\n",
       " 25       2006-10-17 17:15:00\n",
       " 26       2007-04-19 17:30:00\n",
       " 27       2007-07-09 18:45:00\n",
       " 28       2008-01-18 15:50:00\n",
       " 29       2008-06-24 16:00:00\n",
       "                  ...        \n",
       " 122518   2019-09-03 00:00:00\n",
       " 122519   2019-09-10 00:00:00\n",
       " 122520   2019-09-04 00:00:00\n",
       " 122521   2019-09-04 00:00:00\n",
       " 122522   2019-08-28 00:00:00\n",
       " 122523   2019-09-03 00:00:00\n",
       " 122524   2019-09-09 00:00:00\n",
       " 122525   2019-09-13 00:00:00\n",
       " 122526   2019-09-18 00:00:00\n",
       " 122527   2019-09-18 00:00:00\n",
       " 122528   2019-09-19 00:00:00\n",
       " 122529   2019-09-20 00:00:00\n",
       " 122530   2019-09-23 00:00:00\n",
       " 122531   2019-09-24 00:00:00\n",
       " 122532   2019-09-25 00:00:00\n",
       " 122533   2019-09-27 00:00:00\n",
       " 122534   2019-10-01 00:00:00\n",
       " 122535   2019-10-02 00:00:00\n",
       " 122536   2019-10-07 00:00:00\n",
       " 122537   2019-10-10 00:00:00\n",
       " 122538   2019-10-11 00:00:00\n",
       " 122539   2019-10-15 00:00:00\n",
       " 122540   2019-10-16 00:00:00\n",
       " 122541   2019-10-16 00:00:00\n",
       " 122542   2019-10-16 00:00:00\n",
       " 122543   2019-10-18 00:00:00\n",
       " 122544   2019-10-21 00:00:00\n",
       " 122545   2019-10-22 00:00:00\n",
       " 122546   2019-10-22 00:00:00\n",
       " 122547   2019-10-23 00:00:00\n",
       " Name: inspection_date, Length: 122548, dtype: datetime64[ns]}"
      ]
     },
     "execution_count": 41,
     "metadata": {},
     "output_type": "execute_result"
    }
   ],
   "source": [
    "master_df"
   ]
  },
  {
   "cell_type": "code",
   "execution_count": 43,
   "metadata": {},
   "outputs": [
    {
     "data": {
      "text/plain": [
       "Timestamp('2005-02-23 12:15:00')"
      ]
     },
     "execution_count": 43,
     "metadata": {},
     "output_type": "execute_result"
    }
   ],
   "source": [
    "master_df['inspection_date'][0] + relativedelta(months=-x)]"
   ]
  },
  {
   "cell_type": "code",
   "execution_count": 46,
   "metadata": {},
   "outputs": [],
   "source": [
    "from dateutil.relativedelta import relativedelta\n"
   ]
  },
  {
   "cell_type": "code",
   "execution_count": 48,
   "metadata": {},
   "outputs": [
    {
     "data": {
      "text/plain": [
       "Timestamp('2004-11-23 12:15:00')"
      ]
     },
     "execution_count": 48,
     "metadata": {},
     "output_type": "execute_result"
    }
   ],
   "source": [
    "master_df['inspection_date'][0] - relativedelta(months=+3)"
   ]
  },
  {
   "cell_type": "code",
   "execution_count": 51,
   "metadata": {},
   "outputs": [
    {
     "data": {
      "text/plain": [
       "4JNXUYY8wbaaDmk3BPzlWw    8570\n",
       "RESDUcs7fIiihp38-d6_6g    8568\n",
       "K7lWdNUhCbcnEvI0NhGewg    6887\n",
       "f4x1YBxkLrZg652xt2KR5g    5847\n",
       "cYwJA2A6I12KNkm2rtXd5g    5575\n",
       "DkYS3arLOhA8si5uUEmHOw    5206\n",
       "2weQS-RnoOBhb1KsHKyoSQ    4534\n",
       "5LNZ67Yw9RD6nf4_UhXOjw    4522\n",
       "iCQpiavjjPzJ5_3gPD5Ebg    4351\n",
       "ujHiaprwCQ5ewziu0Vi9rw    4318\n",
       "AV6weBrZFFBfRGCbcRGO4g    4240\n",
       "KskYqH1Bi7Z_61pH6Om8pg    4131\n",
       "El4FC8jcawUVgw_0EIcbaQ    4093\n",
       "rcaPajgKOJC2vo_l3xa42A    4014\n",
       "eoHdUeQDNgQ6WYEnP2aiRw    4006\n",
       "faPVqws-x-5k2CQKDNtHxw    3662\n",
       "OETh78qcgDltvHULowwhJg    3642\n",
       "Wxxvi3LZbHNIDwJ-ZimtnA    3579\n",
       "hihud--QRriCYZw1zZvW4g    3554\n",
       "7sPNbCx7vGAaH7SbNPZ6oA    3494\n",
       "g8OnV26ywJlZpezdBnOWUQ    3366\n",
       "3kdSl5mo9dWC4clrQjEDGg    3350\n",
       "XZbuPXdyA0ZtTu3AzqtQhg    3339\n",
       "XXW_OFaYQkkGOGniujZFHg    3330\n",
       "YJ8ljUhLsz6CtT_2ORNFmg    3305\n",
       "HhVmDybpU7L50Kb5A0jXTg    3284\n",
       "RwMLuOkImBIqqYj4SSKSPg    3283\n",
       "P7pxQFqr7yBKMMI2J51udw    3225\n",
       "eAc9Vd6loOgRQolMXQt6FA    3184\n",
       "yfxDa8RFOvJPQh0rNtakHA    3106\n",
       "                          ... \n",
       "4xETVbh239uFddQ0ZBI0PA       3\n",
       "rNnOaUohDKmk2ck9CSzEAQ       3\n",
       "2ZsPKEQwN1XfLnONZlHHZA       3\n",
       "U7JrKn4fYW2RpJa7Nl-X_g       3\n",
       "_YI_reD2pzNiXQRT7pA7vw       3\n",
       "j9qC2kxTFcgApOjQ0kvuVQ       3\n",
       "ST-IVOkIRq-DAyTD0e9DKw       3\n",
       "SYIVQISajxm2J9lAnMp1RA       3\n",
       "9xQiKTy6Jj6GQVsWK1ttjw       3\n",
       "osPJV1YBpewJAylEQ2xd8g       3\n",
       "gMvyfTNJFAA5av2EebXEyQ       3\n",
       "Exsi3PIwpfvuoyF8BfGYIQ       3\n",
       "q-DeyxfDo3AFjmghv5Gm1g       3\n",
       "PFNssPaJXxq3eWMHmzZl9Q       3\n",
       "k38o9J7qPnawnSgmYOtyzw       3\n",
       "i-30EkM_YcDLDWh97xRtRg       3\n",
       "ya6fmzM0BBbZZQ9NfmvEQw       3\n",
       "gi3vtIOo5-soCmMVHhfJDw       3\n",
       "Cz9jo32p-CnjOI3rYUcu1A       3\n",
       "nDvSHngXRRju6ib-cHoCkg       3\n",
       "FHcYehsC09G-0HPo2-yj-Q       3\n",
       "KkSLvNRkf1LfK4Dta2sctQ       3\n",
       "JDNmbb8tBIjp7UCgZppMvg       3\n",
       "ltELYeBXsbkQPlH16e-mOg       3\n",
       "GPSoao1vuvs-wbiq9tJE8g       3\n",
       "JW81Tu0G2r8HqwXOTXUHaQ       3\n",
       "LJN4A-Wr95ee-Ihurzs36Q       3\n",
       "vnCU8LWS1xMfm-94Ojwzmw       3\n",
       "gbwl2OmpHtDBUNXdkd-Qig       3\n",
       "TnPNs12weH1gxBHOThVqfw       3\n",
       "Name: business_id, Length: 22614, dtype: int64"
      ]
     },
     "execution_count": 51,
     "metadata": {},
     "output_type": "execute_result"
    }
   ],
   "source": [
    "review_df['business_id'].value_counts()"
   ]
  },
  {
   "cell_type": "code",
   "execution_count": 77,
   "metadata": {},
   "outputs": [],
   "source": [
    "months = 6"
   ]
  },
  {
   "cell_type": "code",
   "execution_count": 53,
   "metadata": {},
   "outputs": [],
   "source": [
    "master_df['relative_date_6_months'] = master_df['inspection_date'].apply(lambda x: x + relativedelta(months=-months))"
   ]
  },
  {
   "cell_type": "code",
   "execution_count": 56,
   "metadata": {},
   "outputs": [
    {
     "data": {
      "text/html": [
       "<div>\n",
       "<style scoped>\n",
       "    .dataframe tbody tr th:only-of-type {\n",
       "        vertical-align: middle;\n",
       "    }\n",
       "\n",
       "    .dataframe tbody tr th {\n",
       "        vertical-align: top;\n",
       "    }\n",
       "\n",
       "    .dataframe thead th {\n",
       "        text-align: right;\n",
       "    }\n",
       "</style>\n",
       "<table border=\"1\" class=\"dataframe\">\n",
       "  <thead>\n",
       "    <tr style=\"text-align: right;\">\n",
       "      <th></th>\n",
       "      <th>relative_date_6_months</th>\n",
       "      <th>inspection_date</th>\n",
       "    </tr>\n",
       "  </thead>\n",
       "  <tbody>\n",
       "    <tr>\n",
       "      <th>0</th>\n",
       "      <td>2004-08-23 12:15:00</td>\n",
       "      <td>2005-02-23 12:15:00</td>\n",
       "    </tr>\n",
       "    <tr>\n",
       "      <th>1</th>\n",
       "      <td>2005-06-13 15:50:00</td>\n",
       "      <td>2005-12-13 15:50:00</td>\n",
       "    </tr>\n",
       "    <tr>\n",
       "      <th>2</th>\n",
       "      <td>2005-12-01 09:45:00</td>\n",
       "      <td>2006-06-01 09:45:00</td>\n",
       "    </tr>\n",
       "    <tr>\n",
       "      <th>3</th>\n",
       "      <td>2006-06-22 13:45:00</td>\n",
       "      <td>2006-12-22 13:45:00</td>\n",
       "    </tr>\n",
       "    <tr>\n",
       "      <th>4</th>\n",
       "      <td>2006-12-28 13:00:00</td>\n",
       "      <td>2007-06-28 13:00:00</td>\n",
       "    </tr>\n",
       "  </tbody>\n",
       "</table>\n",
       "</div>"
      ],
      "text/plain": [
       "  relative_date_6_months     inspection_date\n",
       "0    2004-08-23 12:15:00 2005-02-23 12:15:00\n",
       "1    2005-06-13 15:50:00 2005-12-13 15:50:00\n",
       "2    2005-12-01 09:45:00 2006-06-01 09:45:00\n",
       "3    2006-06-22 13:45:00 2006-12-22 13:45:00\n",
       "4    2006-12-28 13:00:00 2007-06-28 13:00:00"
      ]
     },
     "execution_count": 56,
     "metadata": {},
     "output_type": "execute_result"
    }
   ],
   "source": [
    "master_df[['relative_date_6_months', 'inspection_date']].head()"
   ]
  },
  {
   "cell_type": "code",
   "execution_count": 79,
   "metadata": {},
   "outputs": [
    {
     "data": {
      "text/plain": [
       "0          0044Q4cVBcHBgXPmhGgtcQ\n",
       "1          0044Q4cVBcHBgXPmhGgtcQ\n",
       "2          0044Q4cVBcHBgXPmhGgtcQ\n",
       "3          0044Q4cVBcHBgXPmhGgtcQ\n",
       "4          0044Q4cVBcHBgXPmhGgtcQ\n",
       "5          0044Q4cVBcHBgXPmhGgtcQ\n",
       "6          0044Q4cVBcHBgXPmhGgtcQ\n",
       "7          0044Q4cVBcHBgXPmhGgtcQ\n",
       "8          0044Q4cVBcHBgXPmhGgtcQ\n",
       "9          0044Q4cVBcHBgXPmhGgtcQ\n",
       "10         0044Q4cVBcHBgXPmhGgtcQ\n",
       "11         0044Q4cVBcHBgXPmhGgtcQ\n",
       "12         0044Q4cVBcHBgXPmhGgtcQ\n",
       "13         0044Q4cVBcHBgXPmhGgtcQ\n",
       "14         0044Q4cVBcHBgXPmhGgtcQ\n",
       "15         0044Q4cVBcHBgXPmhGgtcQ\n",
       "16         0044Q4cVBcHBgXPmhGgtcQ\n",
       "17         0044Q4cVBcHBgXPmhGgtcQ\n",
       "18         0044Q4cVBcHBgXPmhGgtcQ\n",
       "19         0044Q4cVBcHBgXPmhGgtcQ\n",
       "20         0044Q4cVBcHBgXPmhGgtcQ\n",
       "21         0044Q4cVBcHBgXPmhGgtcQ\n",
       "22         0044Q4cVBcHBgXPmhGgtcQ\n",
       "23         0044Q4cVBcHBgXPmhGgtcQ\n",
       "24         0044Q4cVBcHBgXPmhGgtcQ\n",
       "25         0044Q4cVBcHBgXPmhGgtcQ\n",
       "26         0044Q4cVBcHBgXPmhGgtcQ\n",
       "27         0044Q4cVBcHBgXPmhGgtcQ\n",
       "28         0044Q4cVBcHBgXPmhGgtcQ\n",
       "29         0044Q4cVBcHBgXPmhGgtcQ\n",
       "                    ...          \n",
       "1965888    zzzaIBwimxVej4tY6qFOUQ\n",
       "1965889    zzzaIBwimxVej4tY6qFOUQ\n",
       "1965890    zzzaIBwimxVej4tY6qFOUQ\n",
       "1965891    zzzaIBwimxVej4tY6qFOUQ\n",
       "1965892    zzzaIBwimxVej4tY6qFOUQ\n",
       "1965893    zzzaIBwimxVej4tY6qFOUQ\n",
       "1965894    zzzaIBwimxVej4tY6qFOUQ\n",
       "1965895    zzzaIBwimxVej4tY6qFOUQ\n",
       "1965896    zzzaIBwimxVej4tY6qFOUQ\n",
       "1965897    zzzaIBwimxVej4tY6qFOUQ\n",
       "1965898    zzzaIBwimxVej4tY6qFOUQ\n",
       "1965899    zzzaIBwimxVej4tY6qFOUQ\n",
       "1965900    zzzaIBwimxVej4tY6qFOUQ\n",
       "1965901    zzzaIBwimxVej4tY6qFOUQ\n",
       "1965902    zzzaIBwimxVej4tY6qFOUQ\n",
       "1965903    zzzaIBwimxVej4tY6qFOUQ\n",
       "1965904    zzzaIBwimxVej4tY6qFOUQ\n",
       "1965905    zzzaIBwimxVej4tY6qFOUQ\n",
       "1965906    zzzaIBwimxVej4tY6qFOUQ\n",
       "1965907    zzzaIBwimxVej4tY6qFOUQ\n",
       "1965908    zzzaIBwimxVej4tY6qFOUQ\n",
       "1965909    zzzaIBwimxVej4tY6qFOUQ\n",
       "1965910    zzzaIBwimxVej4tY6qFOUQ\n",
       "1965911    zzzaIBwimxVej4tY6qFOUQ\n",
       "1965912    zzzaIBwimxVej4tY6qFOUQ\n",
       "1965913    zzzaIBwimxVej4tY6qFOUQ\n",
       "1965914    zzzaIBwimxVej4tY6qFOUQ\n",
       "1965915    zzzaIBwimxVej4tY6qFOUQ\n",
       "1965916    zzzaIBwimxVej4tY6qFOUQ\n",
       "1965917    zzzaIBwimxVej4tY6qFOUQ\n",
       "Name: business_id, Length: 1965918, dtype: object"
      ]
     },
     "execution_count": 79,
     "metadata": {},
     "output_type": "execute_result"
    }
   ],
   "source": [
    "review_df['business_id']"
   ]
  },
  {
   "cell_type": "code",
   "execution_count": null,
   "metadata": {},
   "outputs": [],
   "source": [
    "movies[(movies.duration >= 200) & (movies.genre == 'Drama')]"
   ]
  },
  {
   "cell_type": "code",
   "execution_count": 87,
   "metadata": {},
   "outputs": [],
   "source": [
    "def find_avg(business_id,inspection_date,relative_date_6_months):\n",
    "    review_df[(review_df['business_id']==business_id) & \n",
    "        (review_df['date'] < inspection_date) & \n",
    "        (review_df['date'] > relative_date_6_months)][[metric]].mean()"
   ]
  },
  {
   "cell_type": "code",
   "execution_count": null,
   "metadata": {},
   "outputs": [],
   "source": [
    "for metric in ['sentiment', 'rating_stars']:\n",
    "    master_df[metric+'_'+ str(months) +'_' + 'months'] = master_df.apply(lambda x: \n",
    "                                                                         find_avg(x['business_id'],\n",
    "                                                                                  x['inspection_date'],\n",
    "                                                                                  x['relative_date_6_months']\n",
    "                                                                                 ), axis=1)"
   ]
  },
  {
   "cell_type": "code",
   "execution_count": 84,
   "metadata": {},
   "outputs": [
    {
     "ename": "KeyError",
     "evalue": "('business_id', 'occurred at index index')",
     "output_type": "error",
     "traceback": [
      "\u001b[0;31m---------------------------------------------------------------------------\u001b[0m",
      "\u001b[0;31mTypeError\u001b[0m                                 Traceback (most recent call last)",
      "\u001b[0;32mpandas/_libs/index.pyx\u001b[0m in \u001b[0;36mpandas._libs.index.IndexEngine.get_loc\u001b[0;34m()\u001b[0m\n",
      "\u001b[0;32mpandas/_libs/hashtable_class_helper.pxi\u001b[0m in \u001b[0;36mpandas._libs.hashtable.Int64HashTable.get_item\u001b[0;34m()\u001b[0m\n",
      "\u001b[0;31mTypeError\u001b[0m: an integer is required",
      "\nDuring handling of the above exception, another exception occurred:\n",
      "\u001b[0;31mKeyError\u001b[0m                                  Traceback (most recent call last)",
      "\u001b[0;32m<ipython-input-84-8166aa54a48b>\u001b[0m in \u001b[0;36m<module>\u001b[0;34m()\u001b[0m\n\u001b[0;32m----> 1\u001b[0;31m \u001b[0mmaster_df\u001b[0m\u001b[0;34m.\u001b[0m\u001b[0mapply\u001b[0m\u001b[0;34m(\u001b[0m\u001b[0;32mlambda\u001b[0m \u001b[0mx\u001b[0m\u001b[0;34m:\u001b[0m \u001b[0mx\u001b[0m\u001b[0;34m[\u001b[0m\u001b[0;34m'business_id'\u001b[0m\u001b[0;34m]\u001b[0m\u001b[0;34m)\u001b[0m\u001b[0;34m\u001b[0m\u001b[0m\n\u001b[0m",
      "\u001b[0;32m/opt/rh/anaconda/root/envs/PUI2016_Python3/lib/python3.5/site-packages/pandas/core/frame.py\u001b[0m in \u001b[0;36mapply\u001b[0;34m(self, func, axis, broadcast, raw, reduce, result_type, args, **kwds)\u001b[0m\n\u001b[1;32m   6002\u001b[0m                          \u001b[0margs\u001b[0m\u001b[0;34m=\u001b[0m\u001b[0margs\u001b[0m\u001b[0;34m,\u001b[0m\u001b[0;34m\u001b[0m\u001b[0m\n\u001b[1;32m   6003\u001b[0m                          kwds=kwds)\n\u001b[0;32m-> 6004\u001b[0;31m         \u001b[0;32mreturn\u001b[0m \u001b[0mop\u001b[0m\u001b[0;34m.\u001b[0m\u001b[0mget_result\u001b[0m\u001b[0;34m(\u001b[0m\u001b[0;34m)\u001b[0m\u001b[0;34m\u001b[0m\u001b[0m\n\u001b[0m\u001b[1;32m   6005\u001b[0m \u001b[0;34m\u001b[0m\u001b[0m\n\u001b[1;32m   6006\u001b[0m     \u001b[0;32mdef\u001b[0m \u001b[0mapplymap\u001b[0m\u001b[0;34m(\u001b[0m\u001b[0mself\u001b[0m\u001b[0;34m,\u001b[0m \u001b[0mfunc\u001b[0m\u001b[0;34m)\u001b[0m\u001b[0;34m:\u001b[0m\u001b[0;34m\u001b[0m\u001b[0m\n",
      "\u001b[0;32m/opt/rh/anaconda/root/envs/PUI2016_Python3/lib/python3.5/site-packages/pandas/core/apply.py\u001b[0m in \u001b[0;36mget_result\u001b[0;34m(self)\u001b[0m\n\u001b[1;32m    316\u001b[0m                                       *self.args, **self.kwds)\n\u001b[1;32m    317\u001b[0m \u001b[0;34m\u001b[0m\u001b[0m\n\u001b[0;32m--> 318\u001b[0;31m         \u001b[0;32mreturn\u001b[0m \u001b[0msuper\u001b[0m\u001b[0;34m(\u001b[0m\u001b[0mFrameRowApply\u001b[0m\u001b[0;34m,\u001b[0m \u001b[0mself\u001b[0m\u001b[0;34m)\u001b[0m\u001b[0;34m.\u001b[0m\u001b[0mget_result\u001b[0m\u001b[0;34m(\u001b[0m\u001b[0;34m)\u001b[0m\u001b[0;34m\u001b[0m\u001b[0m\n\u001b[0m\u001b[1;32m    319\u001b[0m \u001b[0;34m\u001b[0m\u001b[0m\n\u001b[1;32m    320\u001b[0m     \u001b[0;32mdef\u001b[0m \u001b[0mapply_broadcast\u001b[0m\u001b[0;34m(\u001b[0m\u001b[0mself\u001b[0m\u001b[0;34m)\u001b[0m\u001b[0;34m:\u001b[0m\u001b[0;34m\u001b[0m\u001b[0m\n",
      "\u001b[0;32m/opt/rh/anaconda/root/envs/PUI2016_Python3/lib/python3.5/site-packages/pandas/core/apply.py\u001b[0m in \u001b[0;36mget_result\u001b[0;34m(self)\u001b[0m\n\u001b[1;32m    140\u001b[0m             \u001b[0;32mreturn\u001b[0m \u001b[0mself\u001b[0m\u001b[0;34m.\u001b[0m\u001b[0mapply_raw\u001b[0m\u001b[0;34m(\u001b[0m\u001b[0;34m)\u001b[0m\u001b[0;34m\u001b[0m\u001b[0m\n\u001b[1;32m    141\u001b[0m \u001b[0;34m\u001b[0m\u001b[0m\n\u001b[0;32m--> 142\u001b[0;31m         \u001b[0;32mreturn\u001b[0m \u001b[0mself\u001b[0m\u001b[0;34m.\u001b[0m\u001b[0mapply_standard\u001b[0m\u001b[0;34m(\u001b[0m\u001b[0;34m)\u001b[0m\u001b[0;34m\u001b[0m\u001b[0m\n\u001b[0m\u001b[1;32m    143\u001b[0m \u001b[0;34m\u001b[0m\u001b[0m\n\u001b[1;32m    144\u001b[0m     \u001b[0;32mdef\u001b[0m \u001b[0mapply_empty_result\u001b[0m\u001b[0;34m(\u001b[0m\u001b[0mself\u001b[0m\u001b[0;34m)\u001b[0m\u001b[0;34m:\u001b[0m\u001b[0;34m\u001b[0m\u001b[0m\n",
      "\u001b[0;32m/opt/rh/anaconda/root/envs/PUI2016_Python3/lib/python3.5/site-packages/pandas/core/apply.py\u001b[0m in \u001b[0;36mapply_standard\u001b[0;34m(self)\u001b[0m\n\u001b[1;32m    246\u001b[0m \u001b[0;34m\u001b[0m\u001b[0m\n\u001b[1;32m    247\u001b[0m         \u001b[0;31m# compute the result using the series generator\u001b[0m\u001b[0;34m\u001b[0m\u001b[0;34m\u001b[0m\u001b[0m\n\u001b[0;32m--> 248\u001b[0;31m         \u001b[0mself\u001b[0m\u001b[0;34m.\u001b[0m\u001b[0mapply_series_generator\u001b[0m\u001b[0;34m(\u001b[0m\u001b[0;34m)\u001b[0m\u001b[0;34m\u001b[0m\u001b[0m\n\u001b[0m\u001b[1;32m    249\u001b[0m \u001b[0;34m\u001b[0m\u001b[0m\n\u001b[1;32m    250\u001b[0m         \u001b[0;31m# wrap results\u001b[0m\u001b[0;34m\u001b[0m\u001b[0;34m\u001b[0m\u001b[0m\n",
      "\u001b[0;32m/opt/rh/anaconda/root/envs/PUI2016_Python3/lib/python3.5/site-packages/pandas/core/apply.py\u001b[0m in \u001b[0;36mapply_series_generator\u001b[0;34m(self)\u001b[0m\n\u001b[1;32m    275\u001b[0m             \u001b[0;32mtry\u001b[0m\u001b[0;34m:\u001b[0m\u001b[0;34m\u001b[0m\u001b[0m\n\u001b[1;32m    276\u001b[0m                 \u001b[0;32mfor\u001b[0m \u001b[0mi\u001b[0m\u001b[0;34m,\u001b[0m \u001b[0mv\u001b[0m \u001b[0;32min\u001b[0m \u001b[0menumerate\u001b[0m\u001b[0;34m(\u001b[0m\u001b[0mseries_gen\u001b[0m\u001b[0;34m)\u001b[0m\u001b[0;34m:\u001b[0m\u001b[0;34m\u001b[0m\u001b[0m\n\u001b[0;32m--> 277\u001b[0;31m                     \u001b[0mresults\u001b[0m\u001b[0;34m[\u001b[0m\u001b[0mi\u001b[0m\u001b[0;34m]\u001b[0m \u001b[0;34m=\u001b[0m \u001b[0mself\u001b[0m\u001b[0;34m.\u001b[0m\u001b[0mf\u001b[0m\u001b[0;34m(\u001b[0m\u001b[0mv\u001b[0m\u001b[0;34m)\u001b[0m\u001b[0;34m\u001b[0m\u001b[0m\n\u001b[0m\u001b[1;32m    278\u001b[0m                     \u001b[0mkeys\u001b[0m\u001b[0;34m.\u001b[0m\u001b[0mappend\u001b[0m\u001b[0;34m(\u001b[0m\u001b[0mv\u001b[0m\u001b[0;34m.\u001b[0m\u001b[0mname\u001b[0m\u001b[0;34m)\u001b[0m\u001b[0;34m\u001b[0m\u001b[0m\n\u001b[1;32m    279\u001b[0m             \u001b[0;32mexcept\u001b[0m \u001b[0mException\u001b[0m \u001b[0;32mas\u001b[0m \u001b[0me\u001b[0m\u001b[0;34m:\u001b[0m\u001b[0;34m\u001b[0m\u001b[0m\n",
      "\u001b[0;32m<ipython-input-84-8166aa54a48b>\u001b[0m in \u001b[0;36m<lambda>\u001b[0;34m(x)\u001b[0m\n\u001b[0;32m----> 1\u001b[0;31m \u001b[0mmaster_df\u001b[0m\u001b[0;34m.\u001b[0m\u001b[0mapply\u001b[0m\u001b[0;34m(\u001b[0m\u001b[0;32mlambda\u001b[0m \u001b[0mx\u001b[0m\u001b[0;34m:\u001b[0m \u001b[0mx\u001b[0m\u001b[0;34m[\u001b[0m\u001b[0;34m'business_id'\u001b[0m\u001b[0;34m]\u001b[0m\u001b[0;34m)\u001b[0m\u001b[0;34m\u001b[0m\u001b[0m\n\u001b[0m",
      "\u001b[0;32m/opt/rh/anaconda/root/envs/PUI2016_Python3/lib/python3.5/site-packages/pandas/core/series.py\u001b[0m in \u001b[0;36m__getitem__\u001b[0;34m(self, key)\u001b[0m\n\u001b[1;32m    764\u001b[0m         \u001b[0mkey\u001b[0m \u001b[0;34m=\u001b[0m \u001b[0mcom\u001b[0m\u001b[0;34m.\u001b[0m\u001b[0m_apply_if_callable\u001b[0m\u001b[0;34m(\u001b[0m\u001b[0mkey\u001b[0m\u001b[0;34m,\u001b[0m \u001b[0mself\u001b[0m\u001b[0;34m)\u001b[0m\u001b[0;34m\u001b[0m\u001b[0m\n\u001b[1;32m    765\u001b[0m         \u001b[0;32mtry\u001b[0m\u001b[0;34m:\u001b[0m\u001b[0;34m\u001b[0m\u001b[0m\n\u001b[0;32m--> 766\u001b[0;31m             \u001b[0mresult\u001b[0m \u001b[0;34m=\u001b[0m \u001b[0mself\u001b[0m\u001b[0;34m.\u001b[0m\u001b[0mindex\u001b[0m\u001b[0;34m.\u001b[0m\u001b[0mget_value\u001b[0m\u001b[0;34m(\u001b[0m\u001b[0mself\u001b[0m\u001b[0;34m,\u001b[0m \u001b[0mkey\u001b[0m\u001b[0;34m)\u001b[0m\u001b[0;34m\u001b[0m\u001b[0m\n\u001b[0m\u001b[1;32m    767\u001b[0m \u001b[0;34m\u001b[0m\u001b[0m\n\u001b[1;32m    768\u001b[0m             \u001b[0;32mif\u001b[0m \u001b[0;32mnot\u001b[0m \u001b[0mis_scalar\u001b[0m\u001b[0;34m(\u001b[0m\u001b[0mresult\u001b[0m\u001b[0;34m)\u001b[0m\u001b[0;34m:\u001b[0m\u001b[0;34m\u001b[0m\u001b[0m\n",
      "\u001b[0;32m/opt/rh/anaconda/root/envs/PUI2016_Python3/lib/python3.5/site-packages/pandas/core/indexes/base.py\u001b[0m in \u001b[0;36mget_value\u001b[0;34m(self, series, key)\u001b[0m\n\u001b[1;32m   3101\u001b[0m         \u001b[0;32mtry\u001b[0m\u001b[0;34m:\u001b[0m\u001b[0;34m\u001b[0m\u001b[0m\n\u001b[1;32m   3102\u001b[0m             return self._engine.get_value(s, k,\n\u001b[0;32m-> 3103\u001b[0;31m                                           tz=getattr(series.dtype, 'tz', None))\n\u001b[0m\u001b[1;32m   3104\u001b[0m         \u001b[0;32mexcept\u001b[0m \u001b[0mKeyError\u001b[0m \u001b[0;32mas\u001b[0m \u001b[0me1\u001b[0m\u001b[0;34m:\u001b[0m\u001b[0;34m\u001b[0m\u001b[0m\n\u001b[1;32m   3105\u001b[0m             \u001b[0;32mif\u001b[0m \u001b[0mlen\u001b[0m\u001b[0;34m(\u001b[0m\u001b[0mself\u001b[0m\u001b[0;34m)\u001b[0m \u001b[0;34m>\u001b[0m \u001b[0;36m0\u001b[0m \u001b[0;32mand\u001b[0m \u001b[0mself\u001b[0m\u001b[0;34m.\u001b[0m\u001b[0minferred_type\u001b[0m \u001b[0;32min\u001b[0m \u001b[0;34m[\u001b[0m\u001b[0;34m'integer'\u001b[0m\u001b[0;34m,\u001b[0m \u001b[0;34m'boolean'\u001b[0m\u001b[0;34m]\u001b[0m\u001b[0;34m:\u001b[0m\u001b[0;34m\u001b[0m\u001b[0m\n",
      "\u001b[0;32mpandas/_libs/index.pyx\u001b[0m in \u001b[0;36mpandas._libs.index.IndexEngine.get_value\u001b[0;34m()\u001b[0m\n",
      "\u001b[0;32mpandas/_libs/index.pyx\u001b[0m in \u001b[0;36mpandas._libs.index.IndexEngine.get_value\u001b[0;34m()\u001b[0m\n",
      "\u001b[0;32mpandas/_libs/index.pyx\u001b[0m in \u001b[0;36mpandas._libs.index.IndexEngine.get_loc\u001b[0;34m()\u001b[0m\n",
      "\u001b[0;31mKeyError\u001b[0m: ('business_id', 'occurred at index index')"
     ]
    }
   ],
   "source": [
    "master_df.apply(lambda x: x['business_id'])"
   ]
  },
  {
   "cell_type": "code",
   "execution_count": 61,
   "metadata": {},
   "outputs": [
    {
     "data": {
      "text/plain": [
       "business_id        qi7PnlfceCl3otbEUWz75w\n",
       "inspection_date       2016-12-07 20:00:00\n",
       "Name: 1000, dtype: object"
      ]
     },
     "execution_count": 61,
     "metadata": {},
     "output_type": "execute_result"
    }
   ],
   "source": [
    "master_df[['business_id', 'inspection_date']].iloc[1000]"
   ]
  },
  {
   "cell_type": "code",
   "execution_count": 76,
   "metadata": {},
   "outputs": [
    {
     "name": "stderr",
     "output_type": "stream",
     "text": [
      "/opt/rh/anaconda/root/envs/PUI2016_Python3/lib/python3.5/site-packages/ipykernel/__main__.py:1: UserWarning: Boolean Series key will be reindexed to match DataFrame index.\n",
      "  if __name__ == '__main__':\n"
     ]
    },
    {
     "data": {
      "text/plain": [
       "sentiment    0.197201\n",
       "dtype: float64"
      ]
     },
     "execution_count": 76,
     "metadata": {},
     "output_type": "execute_result"
    }
   ],
   "source": [
    "review_df[review_df['business_id']==master_df['business_id'][1000]][df['date']< master_df['inspection_date'][1000]]\\\n",
    "            [df['date']> master_df['relative_date_6_months'][1000]][['sentiment']].mean()"
   ]
  },
  {
   "cell_type": "code",
   "execution_count": 63,
   "metadata": {},
   "outputs": [
    {
     "data": {
      "text/plain": [
       "'qi7PnlfceCl3otbEUWz75w'"
      ]
     },
     "execution_count": 63,
     "metadata": {},
     "output_type": "execute_result"
    }
   ],
   "source": [
    "master_df['business_id'][1000]"
   ]
  },
  {
   "cell_type": "code",
   "execution_count": 64,
   "metadata": {},
   "outputs": [
    {
     "data": {
      "text/plain": [
       "Timestamp('2016-12-07 20:00:00')"
      ]
     },
     "execution_count": 64,
     "metadata": {},
     "output_type": "execute_result"
    }
   ],
   "source": [
    "master_df['inspection_date'][1000]"
   ]
  },
  {
   "cell_type": "code",
   "execution_count": 65,
   "metadata": {},
   "outputs": [
    {
     "data": {
      "text/plain": [
       "Timestamp('2016-06-07 20:00:00')"
      ]
     },
     "execution_count": 65,
     "metadata": {},
     "output_type": "execute_result"
    }
   ],
   "source": [
    "master_df['relative_date_6_months'][1000]"
   ]
  },
  {
   "cell_type": "code",
   "execution_count": null,
   "metadata": {},
   "outputs": [],
   "source": []
  }
 ],
 "metadata": {
  "kernelspec": {
   "display_name": "PUI2016_Python3",
   "language": "python",
   "name": "pui2016_python3"
  },
  "language_info": {
   "codemirror_mode": {
    "name": "ipython",
    "version": 3
   },
   "file_extension": ".py",
   "mimetype": "text/x-python",
   "name": "python",
   "nbconvert_exporter": "python",
   "pygments_lexer": "ipython3",
   "version": "3.5.4"
  }
 },
 "nbformat": 4,
 "nbformat_minor": 2
}
