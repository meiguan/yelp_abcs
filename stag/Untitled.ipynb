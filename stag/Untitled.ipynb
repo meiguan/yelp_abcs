{
 "cells": [
  {
   "cell_type": "code",
   "execution_count": 8,
   "metadata": {},
   "outputs": [],
   "source": [
    "# import urllib\n",
    "import requests\n",
    "import json\n",
    "import pandas as pd\n",
    "import xml.etree.ElementTree as ET"
   ]
  },
  {
   "cell_type": "code",
   "execution_count": 2,
   "metadata": {},
   "outputs": [],
   "source": [
    "# Get the dataset metadata by passing package_id to the package_search endpoint\n",
    "# For example, to retrieve the metadata for this dataset:\n",
    "\n",
    "url = \"https://ckan0.cf.opendata.inter.prod-toronto.ca/download_resource/c3ebef25-177b-4adc-9c47-8763b04a52fb\"\n",
    "response = requests.get(url)"
   ]
  },
  {
   "cell_type": "code",
   "execution_count": 3,
   "metadata": {},
   "outputs": [],
   "source": [
    "with open(\"toronto.xml\", 'wb') as outfile:\n",
    "    outfile.write(response.content)"
   ]
  },
  {
   "cell_type": "code",
   "execution_count": 9,
   "metadata": {},
   "outputs": [],
   "source": [
    "def parseXML(xmlfile): \n",
    "  \n",
    "    # create element tree object \n",
    "    tree = ET.parse(xmlfile) \n",
    "  \n",
    "    # get root element \n",
    "    root = tree.getroot() \n",
    "  \n",
    "    # create empty list for news items \n",
    "    newsitems = [] \n",
    "  \n",
    "    # iterate news items \n",
    "    for item in root.findall('./channel/item'): \n",
    "  \n",
    "        # empty news dictionary \n",
    "        news = {} \n",
    "  \n",
    "        # iterate child elements of item \n",
    "        for child in item: \n",
    "  \n",
    "            # special checking for namespace object content:media \n",
    "            if child.tag == '{http://search.yahoo.com/mrss/}content': \n",
    "                news['media'] = child.attrib['url'] \n",
    "            else: \n",
    "                news[child.tag] = child.text.encode('utf8') \n",
    "  \n",
    "        # append news dictionary to news items list \n",
    "        newsitems.append(news) \n",
    "      \n",
    "    # return news items list \n",
    "    return newsitems "
   ]
  },
  {
   "cell_type": "code",
   "execution_count": 10,
   "metadata": {},
   "outputs": [],
   "source": [
    "def savetoCSV(newsitems, filename): \n",
    "  \n",
    "    # specifying the fields for csv file \n",
    "    fields = ['guid', 'title', 'pubDate', 'description', 'link', 'media'] \n",
    "  \n",
    "    # writing to csv file \n",
    "    with open(filename, 'w') as csvfile: \n",
    "  \n",
    "        # creating a csv dict writer object \n",
    "        writer = csv.DictWriter(csvfile, fieldnames = fields) \n",
    "  \n",
    "        # writing headers (field names) \n",
    "        writer.writeheader() \n",
    "  \n",
    "        # writing data rows \n",
    "        writer.writerows(newsitems)"
   ]
  },
  {
   "cell_type": "code",
   "execution_count": 13,
   "metadata": {},
   "outputs": [
    {
     "ename": "ParseError",
     "evalue": "not well-formed (invalid token): line 3, column 421326 (<string>)",
     "output_type": "error",
     "traceback": [
      "Traceback \u001b[0;36m(most recent call last)\u001b[0m:\n",
      "  File \u001b[1;32m\"/home/cusp/yg833/.conda/envs/yelpVE/lib/python3.7/site-packages/IPython/core/interactiveshell.py\"\u001b[0m, line \u001b[1;32m3326\u001b[0m, in \u001b[1;35mrun_code\u001b[0m\n    exec(code_obj, self.user_global_ns, self.user_ns)\n",
      "  File \u001b[1;32m\"<ipython-input-13-4a738ac6808f>\"\u001b[0m, line \u001b[1;32m2\u001b[0m, in \u001b[1;35m<module>\u001b[0m\n    newsitems = parseXML('toronto.xml')\n",
      "  File \u001b[1;32m\"<ipython-input-9-e42246a81cb9>\"\u001b[0m, line \u001b[1;32m4\u001b[0m, in \u001b[1;35mparseXML\u001b[0m\n    tree = ET.parse(xmlfile)\n",
      "  File \u001b[1;32m\"/home/cusp/yg833/.conda/envs/yelpVE/lib/python3.7/xml/etree/ElementTree.py\"\u001b[0m, line \u001b[1;32m1197\u001b[0m, in \u001b[1;35mparse\u001b[0m\n    tree.parse(source, parser)\n",
      "\u001b[0;36m  File \u001b[0;32m\"/home/cusp/yg833/.conda/envs/yelpVE/lib/python3.7/xml/etree/ElementTree.py\"\u001b[0;36m, line \u001b[0;32m598\u001b[0;36m, in \u001b[0;35mparse\u001b[0;36m\u001b[0m\n\u001b[0;31m    self._root = parser._parse_whole(source)\u001b[0m\n",
      "\u001b[0;36m  File \u001b[0;32m\"<string>\"\u001b[0;36m, line \u001b[0;32munknown\u001b[0m\n\u001b[0;31mParseError\u001b[0m\u001b[0;31m:\u001b[0m not well-formed (invalid token): line 3, column 421326\n"
     ]
    }
   ],
   "source": [
    "# parse xml file \n",
    "newsitems = parseXML('toronto.xml') "
   ]
  },
  {
   "cell_type": "code",
   "execution_count": 12,
   "metadata": {},
   "outputs": [
    {
     "ename": "NameError",
     "evalue": "name 'newsitems' is not defined",
     "output_type": "error",
     "traceback": [
      "\u001b[0;31m---------------------------------------------------------------------------\u001b[0m",
      "\u001b[0;31mNameError\u001b[0m                                 Traceback (most recent call last)",
      "\u001b[0;32m<ipython-input-12-526faa43924c>\u001b[0m in \u001b[0;36m<module>\u001b[0;34m\u001b[0m\n\u001b[1;32m      1\u001b[0m \u001b[0;31m# store news items in a csv file\u001b[0m\u001b[0;34m\u001b[0m\u001b[0;34m\u001b[0m\u001b[0;34m\u001b[0m\u001b[0m\n\u001b[0;32m----> 2\u001b[0;31m \u001b[0msavetoCSV\u001b[0m\u001b[0;34m(\u001b[0m\u001b[0mnewsitems\u001b[0m\u001b[0;34m,\u001b[0m \u001b[0;34m'toronto.csv'\u001b[0m\u001b[0;34m)\u001b[0m\u001b[0;34m\u001b[0m\u001b[0;34m\u001b[0m\u001b[0m\n\u001b[0m",
      "\u001b[0;31mNameError\u001b[0m: name 'newsitems' is not defined"
     ]
    }
   ],
   "source": [
    "# store news items in a csv file \n",
    "savetoCSV(newsitems, 'toronto.csv') "
   ]
  },
  {
   "cell_type": "code",
   "execution_count": 7,
   "metadata": {},
   "outputs": [],
   "source": [
    "import os\n",
    "import sys\n",
    "import datetime\n",
    "import pandas as pd\n",
    "import numpy as np\n",
    "import psycopg2\n",
    "from sqlalchemy import create_engine\n",
    "\n",
    "sys.path.append('../')\n",
    "from envir import config"
   ]
  },
  {
   "cell_type": "code",
   "execution_count": null,
   "metadata": {},
   "outputs": [],
   "source": [
    "# connect to warehouse\n",
    "con = psycopg2.connect(config.con)\n",
    "cur = con.cursor()\n",
    "cur.execute('''GRANT create, usage   ON schema clean, explore, model  TO yg833;''')                                      \n",
    "con.commit()\n"
   ]
  },
  {
   "cell_type": "code",
   "execution_count": null,
   "metadata": {},
   "outputs": [],
   "source": []
  },
  {
   "cell_type": "code",
   "execution_count": null,
   "metadata": {},
   "outputs": [],
   "source": []
  }
 ],
 "metadata": {
  "kernelspec": {
   "display_name": "yelpVE",
   "language": "python",
   "name": "yelpve"
  },
  "language_info": {
   "codemirror_mode": {
    "name": "ipython",
    "version": 3
   },
   "file_extension": ".py",
   "mimetype": "text/x-python",
   "name": "python",
   "nbconvert_exporter": "python",
   "pygments_lexer": "ipython3",
   "version": "3.7.4"
  }
 },
 "nbformat": 4,
 "nbformat_minor": 2
}
