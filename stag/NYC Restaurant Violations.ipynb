{
 "cells": [
  {
   "cell_type": "markdown",
   "metadata": {},
   "source": [
    "### Script to download nyc open data on health violations"
   ]
  },
  {
   "cell_type": "code",
   "execution_count": 1,
   "metadata": {},
   "outputs": [],
   "source": [
    "import os\n",
    "import sys\n",
    "import urllib\n",
    "import numpy as np\n",
    "import pandas as pd\n",
    "#import geopandas as gpd\n",
    "# import matplotlib.pyplot as plt\n",
    "import psycopg2\n",
    "from sqlalchemy import create_engine\n",
    "\n",
    "sys.path.append('../')\n",
    "from envir import config\n",
    "#%matplotlib inline"
   ]
  },
  {
   "cell_type": "code",
   "execution_count": 2,
   "metadata": {},
   "outputs": [],
   "source": [
    "engine = create_engine('postgresql+psycopg2:///yelp_abcs')\n",
    "con = engine.connect()"
   ]
  },
  {
   "cell_type": "code",
   "execution_count": 3,
   "metadata": {},
   "outputs": [
    {
     "name": "stdout",
     "output_type": "stream",
     "text": [
      "  % Total    % Received % Xferd  Average Speed   Time    Time     Time  Current\n",
      "                                 Dload  Upload   Total   Spent    Left  Speed\n",
      "100  161M    0  161M    0     0  7865k      0 --:--:--  0:00:21 --:--:-- 7807k\n"
     ]
    }
   ],
   "source": [
    "! curl https://data.cityofnewyork.us/api/views/43nn-pn8j/rows.csv?accessType=DOWNLOAD > nycinspect.csv"
   ]
  },
  {
   "cell_type": "code",
   "execution_count": 4,
   "metadata": {},
   "outputs": [
    {
     "data": {
      "text/html": [
       "<div>\n",
       "<style scoped>\n",
       "    .dataframe tbody tr th:only-of-type {\n",
       "        vertical-align: middle;\n",
       "    }\n",
       "\n",
       "    .dataframe tbody tr th {\n",
       "        vertical-align: top;\n",
       "    }\n",
       "\n",
       "    .dataframe thead th {\n",
       "        text-align: right;\n",
       "    }\n",
       "</style>\n",
       "<table border=\"1\" class=\"dataframe\">\n",
       "  <thead>\n",
       "    <tr style=\"text-align: right;\">\n",
       "      <th></th>\n",
       "      <th>CAMIS</th>\n",
       "      <th>DBA</th>\n",
       "      <th>BORO</th>\n",
       "      <th>BUILDING</th>\n",
       "      <th>STREET</th>\n",
       "      <th>ZIPCODE</th>\n",
       "      <th>PHONE</th>\n",
       "      <th>CUISINE DESCRIPTION</th>\n",
       "      <th>INSPECTION DATE</th>\n",
       "      <th>ACTION</th>\n",
       "      <th>...</th>\n",
       "      <th>RECORD DATE</th>\n",
       "      <th>INSPECTION TYPE</th>\n",
       "      <th>Latitude</th>\n",
       "      <th>Longitude</th>\n",
       "      <th>Community Board</th>\n",
       "      <th>Council District</th>\n",
       "      <th>Census Tract</th>\n",
       "      <th>BIN</th>\n",
       "      <th>BBL</th>\n",
       "      <th>NTA</th>\n",
       "    </tr>\n",
       "  </thead>\n",
       "  <tbody>\n",
       "    <tr>\n",
       "      <th>0</th>\n",
       "      <td>41302692</td>\n",
       "      <td>ARMANDO'S POLLO RICO RESTAURANT</td>\n",
       "      <td>Queens</td>\n",
       "      <td>11002</td>\n",
       "      <td>JAMAICA AVENUE</td>\n",
       "      <td>11418.0</td>\n",
       "      <td>7184418441</td>\n",
       "      <td>Latin (Cuban, Dominican, Puerto Rican, South &amp;...</td>\n",
       "      <td>11/08/2018</td>\n",
       "      <td>Violations were cited in the following area(s).</td>\n",
       "      <td>...</td>\n",
       "      <td>11/15/2019</td>\n",
       "      <td>Cycle Inspection / Initial Inspection</td>\n",
       "      <td>40.696345</td>\n",
       "      <td>-73.837906</td>\n",
       "      <td>409.0</td>\n",
       "      <td>28.0</td>\n",
       "      <td>12601.0</td>\n",
       "      <td>4194813.0</td>\n",
       "      <td>4.093000e+09</td>\n",
       "      <td>QN54</td>\n",
       "    </tr>\n",
       "    <tr>\n",
       "      <th>1</th>\n",
       "      <td>50005854</td>\n",
       "      <td>TENDO SUSHI</td>\n",
       "      <td>Queens</td>\n",
       "      <td>6626</td>\n",
       "      <td>FRESH POND RD</td>\n",
       "      <td>11385.0</td>\n",
       "      <td>7183810809</td>\n",
       "      <td>Japanese</td>\n",
       "      <td>06/27/2016</td>\n",
       "      <td>Violations were cited in the following area(s).</td>\n",
       "      <td>...</td>\n",
       "      <td>11/15/2019</td>\n",
       "      <td>Cycle Inspection / Re-inspection</td>\n",
       "      <td>40.708195</td>\n",
       "      <td>-73.897878</td>\n",
       "      <td>405.0</td>\n",
       "      <td>30.0</td>\n",
       "      <td>58700.0</td>\n",
       "      <td>4084889.0</td>\n",
       "      <td>4.035280e+09</td>\n",
       "      <td>QN20</td>\n",
       "    </tr>\n",
       "    <tr>\n",
       "      <th>2</th>\n",
       "      <td>50015204</td>\n",
       "      <td>HOOTERS</td>\n",
       "      <td>Manhattan</td>\n",
       "      <td>155</td>\n",
       "      <td>W 33RD ST</td>\n",
       "      <td>10001.0</td>\n",
       "      <td>2126959580</td>\n",
       "      <td>American</td>\n",
       "      <td>12/11/2017</td>\n",
       "      <td>Violations were cited in the following area(s).</td>\n",
       "      <td>...</td>\n",
       "      <td>11/15/2019</td>\n",
       "      <td>Cycle Inspection / Initial Inspection</td>\n",
       "      <td>40.749768</td>\n",
       "      <td>-73.989772</td>\n",
       "      <td>105.0</td>\n",
       "      <td>3.0</td>\n",
       "      <td>10100.0</td>\n",
       "      <td>1015195.0</td>\n",
       "      <td>1.008090e+09</td>\n",
       "      <td>MN17</td>\n",
       "    </tr>\n",
       "    <tr>\n",
       "      <th>3</th>\n",
       "      <td>40812973</td>\n",
       "      <td>LUNELLA RISTORANTE</td>\n",
       "      <td>Manhattan</td>\n",
       "      <td>173</td>\n",
       "      <td>MULBERRY STREET</td>\n",
       "      <td>10013.0</td>\n",
       "      <td>2129666639</td>\n",
       "      <td>Italian</td>\n",
       "      <td>10/30/2019</td>\n",
       "      <td>Establishment Closed by DOHMH.  Violations wer...</td>\n",
       "      <td>...</td>\n",
       "      <td>11/15/2019</td>\n",
       "      <td>Cycle Inspection / Initial Inspection</td>\n",
       "      <td>40.720158</td>\n",
       "      <td>-73.996980</td>\n",
       "      <td>102.0</td>\n",
       "      <td>1.0</td>\n",
       "      <td>4100.0</td>\n",
       "      <td>1006964.0</td>\n",
       "      <td>1.004710e+09</td>\n",
       "      <td>MN24</td>\n",
       "    </tr>\n",
       "    <tr>\n",
       "      <th>4</th>\n",
       "      <td>50000905</td>\n",
       "      <td>SUBWAY</td>\n",
       "      <td>Manhattan</td>\n",
       "      <td>2699</td>\n",
       "      <td>BROADWAY</td>\n",
       "      <td>10025.0</td>\n",
       "      <td>2129610632</td>\n",
       "      <td>Sandwiches/Salads/Mixed Buffet</td>\n",
       "      <td>10/17/2019</td>\n",
       "      <td>Violations were cited in the following area(s).</td>\n",
       "      <td>...</td>\n",
       "      <td>11/15/2019</td>\n",
       "      <td>Cycle Inspection / Re-inspection</td>\n",
       "      <td>40.799033</td>\n",
       "      <td>-73.968599</td>\n",
       "      <td>107.0</td>\n",
       "      <td>6.0</td>\n",
       "      <td>19100.0</td>\n",
       "      <td>1056548.0</td>\n",
       "      <td>1.018740e+09</td>\n",
       "      <td>MN12</td>\n",
       "    </tr>\n",
       "  </tbody>\n",
       "</table>\n",
       "<p>5 rows × 26 columns</p>\n",
       "</div>"
      ],
      "text/plain": [
       "      CAMIS                              DBA       BORO BUILDING  \\\n",
       "0  41302692  ARMANDO'S POLLO RICO RESTAURANT     Queens    11002   \n",
       "1  50005854                      TENDO SUSHI     Queens     6626   \n",
       "2  50015204                          HOOTERS  Manhattan      155   \n",
       "3  40812973               LUNELLA RISTORANTE  Manhattan      173   \n",
       "4  50000905                           SUBWAY  Manhattan     2699   \n",
       "\n",
       "            STREET  ZIPCODE       PHONE  \\\n",
       "0   JAMAICA AVENUE  11418.0  7184418441   \n",
       "1    FRESH POND RD  11385.0  7183810809   \n",
       "2        W 33RD ST  10001.0  2126959580   \n",
       "3  MULBERRY STREET  10013.0  2129666639   \n",
       "4         BROADWAY  10025.0  2129610632   \n",
       "\n",
       "                                 CUISINE DESCRIPTION INSPECTION DATE  \\\n",
       "0  Latin (Cuban, Dominican, Puerto Rican, South &...      11/08/2018   \n",
       "1                                           Japanese      06/27/2016   \n",
       "2                                           American      12/11/2017   \n",
       "3                                            Italian      10/30/2019   \n",
       "4                     Sandwiches/Salads/Mixed Buffet      10/17/2019   \n",
       "\n",
       "                                              ACTION  ...  RECORD DATE  \\\n",
       "0    Violations were cited in the following area(s).  ...   11/15/2019   \n",
       "1    Violations were cited in the following area(s).  ...   11/15/2019   \n",
       "2    Violations were cited in the following area(s).  ...   11/15/2019   \n",
       "3  Establishment Closed by DOHMH.  Violations wer...  ...   11/15/2019   \n",
       "4    Violations were cited in the following area(s).  ...   11/15/2019   \n",
       "\n",
       "                         INSPECTION TYPE   Latitude  Longitude  \\\n",
       "0  Cycle Inspection / Initial Inspection  40.696345 -73.837906   \n",
       "1       Cycle Inspection / Re-inspection  40.708195 -73.897878   \n",
       "2  Cycle Inspection / Initial Inspection  40.749768 -73.989772   \n",
       "3  Cycle Inspection / Initial Inspection  40.720158 -73.996980   \n",
       "4       Cycle Inspection / Re-inspection  40.799033 -73.968599   \n",
       "\n",
       "  Community Board Council District Census Tract        BIN           BBL   NTA  \n",
       "0           409.0             28.0      12601.0  4194813.0  4.093000e+09  QN54  \n",
       "1           405.0             30.0      58700.0  4084889.0  4.035280e+09  QN20  \n",
       "2           105.0              3.0      10100.0  1015195.0  1.008090e+09  MN17  \n",
       "3           102.0              1.0       4100.0  1006964.0  1.004710e+09  MN24  \n",
       "4           107.0              6.0      19100.0  1056548.0  1.018740e+09  MN12  \n",
       "\n",
       "[5 rows x 26 columns]"
      ]
     },
     "execution_count": 4,
     "metadata": {},
     "output_type": "execute_result"
    }
   ],
   "source": [
    "nyc_inspect = pd.read_csv('nycinspect.csv')\n",
    "\n",
    "os.system('mv nycinspect.csv '+ config.shared)\n",
    "\n",
    "nyc_inspect.head()"
   ]
  },
  {
   "cell_type": "code",
   "execution_count": 5,
   "metadata": {},
   "outputs": [],
   "source": [
    "# move to db\n",
    "#nyc_inspect.to_sql('nyc_inspections_test_2', engine, schema='stag', index=False)"
   ]
  },
  {
   "cell_type": "code",
   "execution_count": 6,
   "metadata": {},
   "outputs": [],
   "source": [
    "nyc_inspect.to_sql('nyc_inspections_test_2', engine, schema='clean', index=False) \n",
    "nyc_inspect.to_sql('nyc_inspections_test_2', engine, schema='explore', index=False) \n",
    "nyc_inspect.to_sql('nyc_inspections_test_2', engine, schema='model', index=False)"
   ]
  },
  {
   "cell_type": "code",
   "execution_count": 7,
   "metadata": {},
   "outputs": [
    {
     "data": {
      "text/plain": [
       "(396199, 26)"
      ]
     },
     "execution_count": 7,
     "metadata": {},
     "output_type": "execute_result"
    }
   ],
   "source": [
    "nyc_inspect.shape"
   ]
  },
  {
   "cell_type": "code",
   "execution_count": 8,
   "metadata": {},
   "outputs": [
    {
     "data": {
      "text/plain": [
       "27092"
      ]
     },
     "execution_count": 8,
     "metadata": {},
     "output_type": "execute_result"
    }
   ],
   "source": [
    "# Number of unique restaurants\n",
    "\n",
    "nyc_inspect['CAMIS'].nunique()"
   ]
  },
  {
   "cell_type": "code",
   "execution_count": 9,
   "metadata": {},
   "outputs": [
    {
     "data": {
      "text/plain": [
       "Index(['CAMIS', 'DBA', 'BORO', 'BUILDING', 'STREET', 'ZIPCODE', 'PHONE',\n",
       "       'CUISINE DESCRIPTION', 'INSPECTION DATE', 'ACTION', 'VIOLATION CODE',\n",
       "       'VIOLATION DESCRIPTION', 'CRITICAL FLAG', 'SCORE', 'GRADE',\n",
       "       'GRADE DATE', 'RECORD DATE', 'INSPECTION TYPE', 'Latitude', 'Longitude',\n",
       "       'Community Board', 'Council District', 'Census Tract', 'BIN', 'BBL',\n",
       "       'NTA'],\n",
       "      dtype='object')"
      ]
     },
     "execution_count": 9,
     "metadata": {},
     "output_type": "execute_result"
    }
   ],
   "source": [
    "nyc_inspect.columns"
   ]
  },
  {
   "cell_type": "code",
   "execution_count": 10,
   "metadata": {},
   "outputs": [
    {
     "data": {
      "text/plain": [
       "'01/01/1900'"
      ]
     },
     "execution_count": 10,
     "metadata": {},
     "output_type": "execute_result"
    }
   ],
   "source": [
    "nyc_inspect['INSPECTION DATE'].min()"
   ]
  },
  {
   "cell_type": "markdown",
   "metadata": {},
   "source": [
    "The date 01/01/1900 refers to restaurants that haven't been inspected yet."
   ]
  },
  {
   "cell_type": "code",
   "execution_count": 11,
   "metadata": {},
   "outputs": [
    {
     "data": {
      "text/plain": [
       "'12/31/2018'"
      ]
     },
     "execution_count": 11,
     "metadata": {},
     "output_type": "execute_result"
    }
   ],
   "source": [
    "nyc_inspect['INSPECTION DATE'].max()"
   ]
  },
  {
   "cell_type": "code",
   "execution_count": 12,
   "metadata": {},
   "outputs": [],
   "source": [
    "nyc_active = nyc_inspect[nyc_inspect['INSPECTION DATE'] > '01/01/1900'].copy()"
   ]
  },
  {
   "cell_type": "code",
   "execution_count": 13,
   "metadata": {},
   "outputs": [
    {
     "data": {
      "text/plain": [
       "(394571, 26)"
      ]
     },
     "execution_count": 13,
     "metadata": {},
     "output_type": "execute_result"
    }
   ],
   "source": [
    "nyc_active.shape"
   ]
  },
  {
   "cell_type": "markdown",
   "metadata": {},
   "source": [
    "Removed about 2,000 rows from dataset. Now contains only restaurants that have been inspected."
   ]
  },
  {
   "cell_type": "code",
   "execution_count": 14,
   "metadata": {},
   "outputs": [
    {
     "data": {
      "text/plain": [
       "'01/02/2016'"
      ]
     },
     "execution_count": 14,
     "metadata": {},
     "output_type": "execute_result"
    }
   ],
   "source": [
    "nyc_active['INSPECTION DATE'].min()"
   ]
  },
  {
   "cell_type": "code",
   "execution_count": 15,
   "metadata": {},
   "outputs": [
    {
     "data": {
      "text/plain": [
       "<bound method Series.unique of 0         Facility not vermin proof. Harborage or condit...\n",
       "1         Raw, cooked or prepared food is adulterated, c...\n",
       "2         Non-food contact surface improperly constructe...\n",
       "3         Plumbing not properly installed or maintained;...\n",
       "4         Filth flies or food/refuse/sewage-associated (...\n",
       "5         Cold food item held above 41º F (smoked fish a...\n",
       "6         “Choking first aid” poster not posted. “Alcoho...\n",
       "7         Raw, cooked or prepared food is adulterated, c...\n",
       "8         Proper sanitization not provided for utensil w...\n",
       "9         Proper sanitization not provided for utensil w...\n",
       "10        Pesticide use not in accordance with label or ...\n",
       "11        Pesticide use not in accordance with label or ...\n",
       "12        Cold food item held above 41º F (smoked fish a...\n",
       "14        Evidence of mice or live mice present in facil...\n",
       "15        Cold food item held above 41º F (smoked fish a...\n",
       "16        Cold food item held above 41º F (smoked fish a...\n",
       "17        Single service item reused, improperly stored,...\n",
       "18        Facility not vermin proof. Harborage or condit...\n",
       "19        Personal cleanliness inadequate. Outer garment...\n",
       "20        Evidence of mice or live mice present in facil...\n",
       "21        Food not protected from potential source of co...\n",
       "22        Food contact surface not properly washed, rins...\n",
       "23        Evidence of rats or live rats present in facil...\n",
       "24        Raw, cooked or prepared food is adulterated, c...\n",
       "25        Cold food item held above 41º F (smoked fish a...\n",
       "26        Cold food item held above 41º F (smoked fish a...\n",
       "27        Non-food contact surface improperly constructe...\n",
       "28        Wiping cloths soiled or not stored in sanitizi...\n",
       "29        Filth flies or food/refuse/sewage-associated (...\n",
       "30        Food, food preparation area, food storage area...\n",
       "                                ...                        \n",
       "396168    Non-food contact surface improperly constructe...\n",
       "396169                         Thawing procedures improper.\n",
       "396170    Plumbing not properly installed or maintained;...\n",
       "396171    Facility not vermin proof. Harborage or condit...\n",
       "396172    Non-food contact surface improperly constructe...\n",
       "396173    Facility not vermin proof. Harborage or condit...\n",
       "396174    Food not protected from potential source of co...\n",
       "396175    Food contact surface not properly washed, rins...\n",
       "396176    Food not protected from potential source of co...\n",
       "396177           Hot food item not held at or above 140º F.\n",
       "396178    Filth flies or food/refuse/sewage-associated (...\n",
       "396179    Food contact surface not properly washed, rins...\n",
       "396180        Food contact surface not properly maintained.\n",
       "396181    Accurate thermometer not provided in refrigera...\n",
       "396182        Food contact surface not properly maintained.\n",
       "396183    Non-food contact surface improperly constructe...\n",
       "396184    The original nutritional fact labels and/or in...\n",
       "396185    Cold food item held above 41º F (smoked fish a...\n",
       "396186    Food contact surface not properly washed, rins...\n",
       "396187    Facility not vermin proof. Harborage or condit...\n",
       "396189           Hot food item not held at or above 140º F.\n",
       "396190    Food contact surface not properly washed, rins...\n",
       "396191    Food contact surface not properly washed, rins...\n",
       "396192    Non-food contact surface improperly constructe...\n",
       "396193    Evidence of mice or live mice present in facil...\n",
       "396194    Evidence of rats or live rats present in facil...\n",
       "396195    Non-food contact surface improperly constructe...\n",
       "396196    Food not protected from potential source of co...\n",
       "396197    Evidence of mice or live mice present in facil...\n",
       "396198    Non-food contact surface improperly constructe...\n",
       "Name: VIOLATION DESCRIPTION, Length: 394571, dtype: object>"
      ]
     },
     "execution_count": 15,
     "metadata": {},
     "output_type": "execute_result"
    }
   ],
   "source": [
    "nyc_active['VIOLATION DESCRIPTION'].unique"
   ]
  },
  {
   "cell_type": "code",
   "execution_count": 16,
   "metadata": {},
   "outputs": [
    {
     "data": {
      "text/plain": [
       "106"
      ]
     },
     "execution_count": 16,
     "metadata": {},
     "output_type": "execute_result"
    }
   ],
   "source": [
    "nyc_active['VIOLATION CODE'].nunique()"
   ]
  },
  {
   "cell_type": "code",
   "execution_count": 17,
   "metadata": {},
   "outputs": [
    {
     "data": {
      "text/plain": [
       "91"
      ]
     },
     "execution_count": 17,
     "metadata": {},
     "output_type": "execute_result"
    }
   ],
   "source": [
    "nyc_active['VIOLATION DESCRIPTION'].nunique()"
   ]
  },
  {
   "cell_type": "code",
   "execution_count": 18,
   "metadata": {},
   "outputs": [
    {
     "data": {
      "text/plain": [
       "0         Facility not vermin proof. Harborage or condit...\n",
       "1         Raw, cooked or prepared food is adulterated, c...\n",
       "2         Non-food contact surface improperly constructe...\n",
       "3         Plumbing not properly installed or maintained;...\n",
       "4         Filth flies or food/refuse/sewage-associated (...\n",
       "5         Cold food item held above 41º F (smoked fish a...\n",
       "6         “Choking first aid” poster not posted. “Alcoho...\n",
       "7         Raw, cooked or prepared food is adulterated, c...\n",
       "8         Proper sanitization not provided for utensil w...\n",
       "9         Proper sanitization not provided for utensil w...\n",
       "10        Pesticide use not in accordance with label or ...\n",
       "11        Pesticide use not in accordance with label or ...\n",
       "12        Cold food item held above 41º F (smoked fish a...\n",
       "14        Evidence of mice or live mice present in facil...\n",
       "15        Cold food item held above 41º F (smoked fish a...\n",
       "16        Cold food item held above 41º F (smoked fish a...\n",
       "17        Single service item reused, improperly stored,...\n",
       "18        Facility not vermin proof. Harborage or condit...\n",
       "19        Personal cleanliness inadequate. Outer garment...\n",
       "20        Evidence of mice or live mice present in facil...\n",
       "21        Food not protected from potential source of co...\n",
       "22        Food contact surface not properly washed, rins...\n",
       "23        Evidence of rats or live rats present in facil...\n",
       "24        Raw, cooked or prepared food is adulterated, c...\n",
       "25        Cold food item held above 41º F (smoked fish a...\n",
       "26        Cold food item held above 41º F (smoked fish a...\n",
       "27        Non-food contact surface improperly constructe...\n",
       "28        Wiping cloths soiled or not stored in sanitizi...\n",
       "29        Filth flies or food/refuse/sewage-associated (...\n",
       "30        Food, food preparation area, food storage area...\n",
       "                                ...                        \n",
       "396168    Non-food contact surface improperly constructe...\n",
       "396169                         Thawing procedures improper.\n",
       "396170    Plumbing not properly installed or maintained;...\n",
       "396171    Facility not vermin proof. Harborage or condit...\n",
       "396172    Non-food contact surface improperly constructe...\n",
       "396173    Facility not vermin proof. Harborage or condit...\n",
       "396174    Food not protected from potential source of co...\n",
       "396175    Food contact surface not properly washed, rins...\n",
       "396176    Food not protected from potential source of co...\n",
       "396177           Hot food item not held at or above 140º F.\n",
       "396178    Filth flies or food/refuse/sewage-associated (...\n",
       "396179    Food contact surface not properly washed, rins...\n",
       "396180        Food contact surface not properly maintained.\n",
       "396181    Accurate thermometer not provided in refrigera...\n",
       "396182        Food contact surface not properly maintained.\n",
       "396183    Non-food contact surface improperly constructe...\n",
       "396184    The original nutritional fact labels and/or in...\n",
       "396185    Cold food item held above 41º F (smoked fish a...\n",
       "396186    Food contact surface not properly washed, rins...\n",
       "396187    Facility not vermin proof. Harborage or condit...\n",
       "396189           Hot food item not held at or above 140º F.\n",
       "396190    Food contact surface not properly washed, rins...\n",
       "396191    Food contact surface not properly washed, rins...\n",
       "396192    Non-food contact surface improperly constructe...\n",
       "396193    Evidence of mice or live mice present in facil...\n",
       "396194    Evidence of rats or live rats present in facil...\n",
       "396195    Non-food contact surface improperly constructe...\n",
       "396196    Food not protected from potential source of co...\n",
       "396197    Evidence of mice or live mice present in facil...\n",
       "396198    Non-food contact surface improperly constructe...\n",
       "Name: VIOLATION DESCRIPTION, Length: 394571, dtype: object"
      ]
     },
     "execution_count": 18,
     "metadata": {},
     "output_type": "execute_result"
    }
   ],
   "source": [
    "nyc_active['VIOLATION DESCRIPTION']"
   ]
  },
  {
   "cell_type": "code",
   "execution_count": 19,
   "metadata": {},
   "outputs": [],
   "source": [
    "nyc_violations = pd.DataFrame({'violation_code':nyc_active['VIOLATION CODE'], \n",
    "                               'violation_description':nyc_active['VIOLATION DESCRIPTION']})"
   ]
  },
  {
   "cell_type": "code",
   "execution_count": 20,
   "metadata": {},
   "outputs": [
    {
     "data": {
      "text/html": [
       "<div>\n",
       "<style scoped>\n",
       "    .dataframe tbody tr th:only-of-type {\n",
       "        vertical-align: middle;\n",
       "    }\n",
       "\n",
       "    .dataframe tbody tr th {\n",
       "        vertical-align: top;\n",
       "    }\n",
       "\n",
       "    .dataframe thead th {\n",
       "        text-align: right;\n",
       "    }\n",
       "</style>\n",
       "<table border=\"1\" class=\"dataframe\">\n",
       "  <thead>\n",
       "    <tr style=\"text-align: right;\">\n",
       "      <th></th>\n",
       "      <th>violation_code</th>\n",
       "      <th>violation_description</th>\n",
       "    </tr>\n",
       "  </thead>\n",
       "  <tbody>\n",
       "    <tr>\n",
       "      <th>0</th>\n",
       "      <td>08A</td>\n",
       "      <td>Facility not vermin proof. Harborage or condit...</td>\n",
       "    </tr>\n",
       "    <tr>\n",
       "      <th>1</th>\n",
       "      <td>04H</td>\n",
       "      <td>Raw, cooked or prepared food is adulterated, c...</td>\n",
       "    </tr>\n",
       "    <tr>\n",
       "      <th>2</th>\n",
       "      <td>10F</td>\n",
       "      <td>Non-food contact surface improperly constructe...</td>\n",
       "    </tr>\n",
       "    <tr>\n",
       "      <th>3</th>\n",
       "      <td>10B</td>\n",
       "      <td>Plumbing not properly installed or maintained;...</td>\n",
       "    </tr>\n",
       "    <tr>\n",
       "      <th>4</th>\n",
       "      <td>04N</td>\n",
       "      <td>Filth flies or food/refuse/sewage-associated (...</td>\n",
       "    </tr>\n",
       "  </tbody>\n",
       "</table>\n",
       "</div>"
      ],
      "text/plain": [
       "  violation_code                              violation_description\n",
       "0            08A  Facility not vermin proof. Harborage or condit...\n",
       "1            04H  Raw, cooked or prepared food is adulterated, c...\n",
       "2            10F  Non-food contact surface improperly constructe...\n",
       "3            10B  Plumbing not properly installed or maintained;...\n",
       "4            04N  Filth flies or food/refuse/sewage-associated (..."
      ]
     },
     "execution_count": 20,
     "metadata": {},
     "output_type": "execute_result"
    }
   ],
   "source": [
    "nyc_violations.head()"
   ]
  },
  {
   "cell_type": "code",
   "execution_count": 21,
   "metadata": {},
   "outputs": [],
   "source": [
    "nyc_violations.to_csv(config.shared + '/nyc_violations.csv')"
   ]
  },
  {
   "cell_type": "code",
   "execution_count": 22,
   "metadata": {},
   "outputs": [],
   "source": [
    "#nyc_violations.to_sql('nyc_violations_test_2', engine, schema = 'stag', index = False)"
   ]
  },
  {
   "cell_type": "code",
   "execution_count": 23,
   "metadata": {},
   "outputs": [],
   "source": [
    "nyc_violations.to_sql('nyc_violations_test_2', engine, schema = 'clean', index = False)\n",
    "nyc_violations.to_sql('nyc_violations_test_2', engine, schema = 'explore', index = False)\n",
    "nyc_violations.to_sql('nyc_violations_test_2', engine, schema = 'model', index = False)"
   ]
  }
 ],
 "metadata": {
  "kernelspec": {
   "display_name": "PUI2016_Python3",
   "language": "python",
   "name": "pui2016_python3"
  },
  "language_info": {
   "codemirror_mode": {
    "name": "ipython",
    "version": 3
   },
   "file_extension": ".py",
   "mimetype": "text/x-python",
   "name": "python",
   "nbconvert_exporter": "python",
   "pygments_lexer": "ipython3",
   "version": "3.5.4"
  }
 },
 "nbformat": 4,
 "nbformat_minor": 2
}
