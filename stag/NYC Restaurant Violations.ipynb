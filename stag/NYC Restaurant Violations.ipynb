{
 "cells": [
  {
   "cell_type": "code",
   "execution_count": 1,
   "metadata": {},
   "outputs": [],
   "source": [
    "import os\n",
    "import sys\n",
    "import urllib\n",
    "import numpy as np\n",
    "import pandas as pd\n",
    "#import geopandas as gpd\n",
    "# import matplotlib.pyplot as plt\n",
    "import psycopg2\n",
    "from sqlalchemy import create_engine\n",
    "\n",
    "sys.path.append('../')\n",
    "from envir import config\n",
    "#%matplotlib inline"
   ]
  },
  {
   "cell_type": "code",
   "execution_count": 2,
   "metadata": {},
   "outputs": [],
   "source": [
    "engine = create_engine('postgresql+psycopg2:///yelp_abcs')\n",
    "con = engine.connect()"
   ]
  },
  {
   "cell_type": "code",
   "execution_count": 3,
   "metadata": {},
   "outputs": [
    {
     "name": "stdout",
     "output_type": "stream",
     "text": [
      "  % Total    % Received % Xferd  Average Speed   Time    Time     Time  Current\n",
      "                                 Dload  Upload   Total   Spent    Left  Speed\n",
      "100  161M    0  161M    0     0  7498k      0 --:--:--  0:00:22 --:--:-- 7161k\n"
     ]
    }
   ],
   "source": [
    "! curl https://data.cityofnewyork.us/api/views/43nn-pn8j/rows.csv?accessType=DOWNLOAD > nycinspect.csv"
   ]
  },
  {
   "cell_type": "code",
   "execution_count": 4,
   "metadata": {},
   "outputs": [
    {
     "data": {
      "text/html": [
       "<div>\n",
       "<style scoped>\n",
       "    .dataframe tbody tr th:only-of-type {\n",
       "        vertical-align: middle;\n",
       "    }\n",
       "\n",
       "    .dataframe tbody tr th {\n",
       "        vertical-align: top;\n",
       "    }\n",
       "\n",
       "    .dataframe thead th {\n",
       "        text-align: right;\n",
       "    }\n",
       "</style>\n",
       "<table border=\"1\" class=\"dataframe\">\n",
       "  <thead>\n",
       "    <tr style=\"text-align: right;\">\n",
       "      <th></th>\n",
       "      <th>CAMIS</th>\n",
       "      <th>DBA</th>\n",
       "      <th>BORO</th>\n",
       "      <th>BUILDING</th>\n",
       "      <th>STREET</th>\n",
       "      <th>ZIPCODE</th>\n",
       "      <th>PHONE</th>\n",
       "      <th>CUISINE DESCRIPTION</th>\n",
       "      <th>INSPECTION DATE</th>\n",
       "      <th>ACTION</th>\n",
       "      <th>...</th>\n",
       "      <th>RECORD DATE</th>\n",
       "      <th>INSPECTION TYPE</th>\n",
       "      <th>Latitude</th>\n",
       "      <th>Longitude</th>\n",
       "      <th>Community Board</th>\n",
       "      <th>Council District</th>\n",
       "      <th>Census Tract</th>\n",
       "      <th>BIN</th>\n",
       "      <th>BBL</th>\n",
       "      <th>NTA</th>\n",
       "    </tr>\n",
       "  </thead>\n",
       "  <tbody>\n",
       "    <tr>\n",
       "      <th>0</th>\n",
       "      <td>50035073</td>\n",
       "      <td>BIRCH COFFEE</td>\n",
       "      <td>Manhattan</td>\n",
       "      <td>432</td>\n",
       "      <td>3RD AVE</td>\n",
       "      <td>10016.0</td>\n",
       "      <td>9178416564</td>\n",
       "      <td>Café/Coffee/Tea</td>\n",
       "      <td>10/07/2019</td>\n",
       "      <td>Violations were cited in the following area(s).</td>\n",
       "      <td>...</td>\n",
       "      <td>11/10/2019</td>\n",
       "      <td>Cycle Inspection / Initial Inspection</td>\n",
       "      <td>40.743295</td>\n",
       "      <td>-73.979903</td>\n",
       "      <td>106.0</td>\n",
       "      <td>2.0</td>\n",
       "      <td>7200.0</td>\n",
       "      <td>1083072.0</td>\n",
       "      <td>1.008868e+09</td>\n",
       "      <td>MN20</td>\n",
       "    </tr>\n",
       "    <tr>\n",
       "      <th>1</th>\n",
       "      <td>50070300</td>\n",
       "      <td>POKE JUNKE</td>\n",
       "      <td>Manhattan</td>\n",
       "      <td>38</td>\n",
       "      <td>W 38TH ST</td>\n",
       "      <td>10018.0</td>\n",
       "      <td>9178822898</td>\n",
       "      <td>Chinese/Japanese</td>\n",
       "      <td>01/23/2019</td>\n",
       "      <td>Violations were cited in the following area(s).</td>\n",
       "      <td>...</td>\n",
       "      <td>11/10/2019</td>\n",
       "      <td>Cycle Inspection / Initial Inspection</td>\n",
       "      <td>40.751505</td>\n",
       "      <td>-73.984058</td>\n",
       "      <td>105.0</td>\n",
       "      <td>4.0</td>\n",
       "      <td>8400.0</td>\n",
       "      <td>1015979.0</td>\n",
       "      <td>1.008390e+09</td>\n",
       "      <td>MN17</td>\n",
       "    </tr>\n",
       "    <tr>\n",
       "      <th>2</th>\n",
       "      <td>41623838</td>\n",
       "      <td>HAPPY DRAGON</td>\n",
       "      <td>Bronx</td>\n",
       "      <td>12791281</td>\n",
       "      <td>WALTON AVENUE</td>\n",
       "      <td>NaN</td>\n",
       "      <td>7185886700</td>\n",
       "      <td>Chinese</td>\n",
       "      <td>03/08/2017</td>\n",
       "      <td>Violations were cited in the following area(s).</td>\n",
       "      <td>...</td>\n",
       "      <td>11/10/2019</td>\n",
       "      <td>Cycle Inspection / Initial Inspection</td>\n",
       "      <td>0.000000</td>\n",
       "      <td>0.000000</td>\n",
       "      <td>NaN</td>\n",
       "      <td>NaN</td>\n",
       "      <td>NaN</td>\n",
       "      <td>NaN</td>\n",
       "      <td>2.000000e+00</td>\n",
       "      <td>NaN</td>\n",
       "    </tr>\n",
       "    <tr>\n",
       "      <th>3</th>\n",
       "      <td>40371988</td>\n",
       "      <td>NORTH SHORE DINER</td>\n",
       "      <td>Queens</td>\n",
       "      <td>19652</td>\n",
       "      <td>NORTHERN BLVD</td>\n",
       "      <td>11358.0</td>\n",
       "      <td>7182258000</td>\n",
       "      <td>American</td>\n",
       "      <td>06/15/2017</td>\n",
       "      <td>Violations were cited in the following area(s).</td>\n",
       "      <td>...</td>\n",
       "      <td>11/10/2019</td>\n",
       "      <td>Cycle Inspection / Initial Inspection</td>\n",
       "      <td>40.757847</td>\n",
       "      <td>-73.784564</td>\n",
       "      <td>411.0</td>\n",
       "      <td>19.0</td>\n",
       "      <td>145101.0</td>\n",
       "      <td>4124565.0</td>\n",
       "      <td>4.055200e+09</td>\n",
       "      <td>QN48</td>\n",
       "    </tr>\n",
       "    <tr>\n",
       "      <th>4</th>\n",
       "      <td>40529203</td>\n",
       "      <td>DRAGON CITY</td>\n",
       "      <td>Bronx</td>\n",
       "      <td>2102</td>\n",
       "      <td>BARTOW AVE</td>\n",
       "      <td>10475.0</td>\n",
       "      <td>7186718787</td>\n",
       "      <td>Chinese</td>\n",
       "      <td>05/18/2016</td>\n",
       "      <td>Violations were cited in the following area(s).</td>\n",
       "      <td>...</td>\n",
       "      <td>11/10/2019</td>\n",
       "      <td>Cycle Inspection / Initial Inspection</td>\n",
       "      <td>40.869400</td>\n",
       "      <td>-73.825623</td>\n",
       "      <td>210.0</td>\n",
       "      <td>12.0</td>\n",
       "      <td>46201.0</td>\n",
       "      <td>2128425.0</td>\n",
       "      <td>2.051411e+09</td>\n",
       "      <td>BX13</td>\n",
       "    </tr>\n",
       "  </tbody>\n",
       "</table>\n",
       "<p>5 rows × 26 columns</p>\n",
       "</div>"
      ],
      "text/plain": [
       "      CAMIS                DBA       BORO  BUILDING         STREET  ZIPCODE  \\\n",
       "0  50035073       BIRCH COFFEE  Manhattan       432        3RD AVE  10016.0   \n",
       "1  50070300         POKE JUNKE  Manhattan        38      W 38TH ST  10018.0   \n",
       "2  41623838       HAPPY DRAGON      Bronx  12791281  WALTON AVENUE      NaN   \n",
       "3  40371988  NORTH SHORE DINER     Queens     19652  NORTHERN BLVD  11358.0   \n",
       "4  40529203        DRAGON CITY      Bronx      2102     BARTOW AVE  10475.0   \n",
       "\n",
       "        PHONE CUISINE DESCRIPTION INSPECTION DATE  \\\n",
       "0  9178416564     Café/Coffee/Tea      10/07/2019   \n",
       "1  9178822898    Chinese/Japanese      01/23/2019   \n",
       "2  7185886700             Chinese      03/08/2017   \n",
       "3  7182258000            American      06/15/2017   \n",
       "4  7186718787             Chinese      05/18/2016   \n",
       "\n",
       "                                            ACTION  ...  RECORD DATE  \\\n",
       "0  Violations were cited in the following area(s).  ...   11/10/2019   \n",
       "1  Violations were cited in the following area(s).  ...   11/10/2019   \n",
       "2  Violations were cited in the following area(s).  ...   11/10/2019   \n",
       "3  Violations were cited in the following area(s).  ...   11/10/2019   \n",
       "4  Violations were cited in the following area(s).  ...   11/10/2019   \n",
       "\n",
       "                         INSPECTION TYPE   Latitude  Longitude  \\\n",
       "0  Cycle Inspection / Initial Inspection  40.743295 -73.979903   \n",
       "1  Cycle Inspection / Initial Inspection  40.751505 -73.984058   \n",
       "2  Cycle Inspection / Initial Inspection   0.000000   0.000000   \n",
       "3  Cycle Inspection / Initial Inspection  40.757847 -73.784564   \n",
       "4  Cycle Inspection / Initial Inspection  40.869400 -73.825623   \n",
       "\n",
       "  Community Board Council District Census Tract        BIN           BBL   NTA  \n",
       "0           106.0              2.0       7200.0  1083072.0  1.008868e+09  MN20  \n",
       "1           105.0              4.0       8400.0  1015979.0  1.008390e+09  MN17  \n",
       "2             NaN              NaN          NaN        NaN  2.000000e+00   NaN  \n",
       "3           411.0             19.0     145101.0  4124565.0  4.055200e+09  QN48  \n",
       "4           210.0             12.0      46201.0  2128425.0  2.051411e+09  BX13  \n",
       "\n",
       "[5 rows x 26 columns]"
      ]
     },
     "execution_count": 4,
     "metadata": {},
     "output_type": "execute_result"
    }
   ],
   "source": [
    "nyc_inspect = pd.read_csv('nycinspect.csv')\n",
    "\n",
    "os.system('mv nycinspect.csv '+ config.shared)\n",
    "\n",
    "nyc_inspect.head()"
   ]
  },
  {
   "cell_type": "code",
   "execution_count": 5,
   "metadata": {},
   "outputs": [],
   "source": [
    "# move to db\n",
    "nyc_inspect.to_sql('nyc_inspections', engine, schema='stag', index=False)"
   ]
  },
  {
   "cell_type": "code",
   "execution_count": 6,
   "metadata": {},
   "outputs": [
    {
     "data": {
      "text/plain": [
       "(395694, 26)"
      ]
     },
     "execution_count": 6,
     "metadata": {},
     "output_type": "execute_result"
    }
   ],
   "source": [
    "nyc_inspect.shape"
   ]
  },
  {
   "cell_type": "code",
   "execution_count": 7,
   "metadata": {},
   "outputs": [
    {
     "data": {
      "text/plain": [
       "27031"
      ]
     },
     "execution_count": 7,
     "metadata": {},
     "output_type": "execute_result"
    }
   ],
   "source": [
    "# Number of unique restaurants\n",
    "\n",
    "nyc_inspect['CAMIS'].nunique()"
   ]
  },
  {
   "cell_type": "code",
   "execution_count": 8,
   "metadata": {},
   "outputs": [
    {
     "data": {
      "text/plain": [
       "Index(['CAMIS', 'DBA', 'BORO', 'BUILDING', 'STREET', 'ZIPCODE', 'PHONE',\n",
       "       'CUISINE DESCRIPTION', 'INSPECTION DATE', 'ACTION', 'VIOLATION CODE',\n",
       "       'VIOLATION DESCRIPTION', 'CRITICAL FLAG', 'SCORE', 'GRADE',\n",
       "       'GRADE DATE', 'RECORD DATE', 'INSPECTION TYPE', 'Latitude', 'Longitude',\n",
       "       'Community Board', 'Council District', 'Census Tract', 'BIN', 'BBL',\n",
       "       'NTA'],\n",
       "      dtype='object')"
      ]
     },
     "execution_count": 8,
     "metadata": {},
     "output_type": "execute_result"
    }
   ],
   "source": [
    "nyc_inspect.columns"
   ]
  },
  {
   "cell_type": "code",
   "execution_count": 9,
   "metadata": {},
   "outputs": [
    {
     "data": {
      "text/plain": [
       "'01/01/1900'"
      ]
     },
     "execution_count": 9,
     "metadata": {},
     "output_type": "execute_result"
    }
   ],
   "source": [
    "nyc_inspect['INSPECTION DATE'].min()"
   ]
  },
  {
   "cell_type": "markdown",
   "metadata": {},
   "source": [
    "The date 01/01/1900 refers to restaurants that haven't been inspected yet."
   ]
  },
  {
   "cell_type": "code",
   "execution_count": 10,
   "metadata": {},
   "outputs": [
    {
     "data": {
      "text/plain": [
       "'12/31/2018'"
      ]
     },
     "execution_count": 10,
     "metadata": {},
     "output_type": "execute_result"
    }
   ],
   "source": [
    "nyc_inspect['INSPECTION DATE'].max()"
   ]
  },
  {
   "cell_type": "code",
   "execution_count": 11,
   "metadata": {},
   "outputs": [],
   "source": [
    "nyc_active = nyc_inspect[nyc_inspect['INSPECTION DATE'] > '01/01/1900'].copy()"
   ]
  },
  {
   "cell_type": "code",
   "execution_count": 12,
   "metadata": {},
   "outputs": [
    {
     "data": {
      "text/plain": [
       "(394096, 26)"
      ]
     },
     "execution_count": 12,
     "metadata": {},
     "output_type": "execute_result"
    }
   ],
   "source": [
    "nyc_active.shape"
   ]
  },
  {
   "cell_type": "markdown",
   "metadata": {},
   "source": [
    "Removed about 2,000 rows from dataset. Now contains only restaurants that have been inspected."
   ]
  },
  {
   "cell_type": "code",
   "execution_count": 13,
   "metadata": {},
   "outputs": [
    {
     "data": {
      "text/plain": [
       "'01/02/2016'"
      ]
     },
     "execution_count": 13,
     "metadata": {},
     "output_type": "execute_result"
    }
   ],
   "source": [
    "nyc_active['INSPECTION DATE'].min()"
   ]
  },
  {
   "cell_type": "code",
   "execution_count": 14,
   "metadata": {},
   "outputs": [
    {
     "data": {
      "text/plain": [
       "<bound method Series.unique of 0         Evidence of mice or live mice present in facil...\n",
       "1         Single service item reused, improperly stored,...\n",
       "2         Plumbing not properly installed or maintained;...\n",
       "3         Food contact surface not properly washed, rins...\n",
       "4         Plumbing not properly installed or maintained;...\n",
       "5                Hot food item not held at or above 140º F.\n",
       "6         Appropriately scaled metal stem-type thermomet...\n",
       "7         Food contact surface not properly washed, rins...\n",
       "8         Food not protected from potential source of co...\n",
       "9         Facility not vermin proof. Harborage or condit...\n",
       "10        Pesticide use not in accordance with label or ...\n",
       "11        Facility not vermin proof. Harborage or condit...\n",
       "12        Facility not vermin proof. Harborage or condit...\n",
       "13        Sanitized equipment or utensil, including in-u...\n",
       "14        Food not protected from potential source of co...\n",
       "15               Hot food item not held at or above 140º F.\n",
       "16        Sanitized equipment or utensil, including in-u...\n",
       "17        Filth flies or food/refuse/sewage-associated (...\n",
       "18        Facility not vermin proof. Harborage or condit...\n",
       "19        Filth flies or food/refuse/sewage-associated (...\n",
       "20        Filth flies or food/refuse/sewage-associated (...\n",
       "21        Live roaches present in facility's food and/or...\n",
       "22        Facility not vermin proof. Harborage or condit...\n",
       "23        Non-food contact surface improperly constructe...\n",
       "24        Wiping cloths soiled or not stored in sanitizi...\n",
       "25        Food contact surface not properly washed, rins...\n",
       "26        Cold food item held above 41º F (smoked fish a...\n",
       "27               Hot food item not held at or above 140º F.\n",
       "28        Raw, cooked or prepared food is adulterated, c...\n",
       "29        Non-food contact surface improperly constructe...\n",
       "                                ...                        \n",
       "395664    Evidence of mice or live mice present in facil...\n",
       "395665           Hot food item not held at or above 140º F.\n",
       "395666    Food allergy information poster not conspicuou...\n",
       "395667        Food contact surface not properly maintained.\n",
       "395668    Food not protected from potential source of co...\n",
       "395669    Facility not vermin proof. Harborage or condit...\n",
       "395670    Food contact surface not properly washed, rins...\n",
       "395671    Food not cooled by an approved method whereby ...\n",
       "395672    Proper sanitization not provided for utensil w...\n",
       "395673           Hot food item not held at or above 140º F.\n",
       "395674    Food contact surface not properly washed, rins...\n",
       "395675    Live roaches present in facility's food and/or...\n",
       "395676    Food Protection Certificate not held by superv...\n",
       "395677    Proper sanitization not provided for utensil w...\n",
       "395678           Hot food item not held at or above 140º F.\n",
       "395679    Non-food contact surface improperly constructe...\n",
       "395680    Non-food contact surface improperly constructe...\n",
       "395681    The original nutritional fact labels and/or in...\n",
       "395682    Facility not vermin proof. Harborage or condit...\n",
       "395683    Filth flies or food/refuse/sewage-associated (...\n",
       "395684    Food contact surface not properly washed, rins...\n",
       "395685    “Choking first aid” poster not posted. “Alcoho...\n",
       "395686    Filth flies or food/refuse/sewage-associated (...\n",
       "395687    Food contact surface not properly washed, rins...\n",
       "395688    Plumbing not properly installed or maintained;...\n",
       "395689        Food contact surface not properly maintained.\n",
       "395690    Non-food contact surface improperly constructe...\n",
       "395691    Raw, cooked or prepared food is adulterated, c...\n",
       "395692    Food not protected from potential source of co...\n",
       "395693    Non-food contact surface improperly constructe...\n",
       "Name: VIOLATION DESCRIPTION, Length: 394096, dtype: object>"
      ]
     },
     "execution_count": 14,
     "metadata": {},
     "output_type": "execute_result"
    }
   ],
   "source": [
    "nyc_active['VIOLATION DESCRIPTION'].unique"
   ]
  },
  {
   "cell_type": "code",
   "execution_count": 15,
   "metadata": {},
   "outputs": [
    {
     "data": {
      "text/plain": [
       "106"
      ]
     },
     "execution_count": 15,
     "metadata": {},
     "output_type": "execute_result"
    }
   ],
   "source": [
    "nyc_active['VIOLATION CODE'].nunique()"
   ]
  },
  {
   "cell_type": "code",
   "execution_count": 16,
   "metadata": {},
   "outputs": [
    {
     "data": {
      "text/plain": [
       "91"
      ]
     },
     "execution_count": 16,
     "metadata": {},
     "output_type": "execute_result"
    }
   ],
   "source": [
    "nyc_active['VIOLATION DESCRIPTION'].nunique()"
   ]
  },
  {
   "cell_type": "code",
   "execution_count": 17,
   "metadata": {},
   "outputs": [
    {
     "data": {
      "text/plain": [
       "0         Evidence of mice or live mice present in facil...\n",
       "1         Single service item reused, improperly stored,...\n",
       "2         Plumbing not properly installed or maintained;...\n",
       "3         Food contact surface not properly washed, rins...\n",
       "4         Plumbing not properly installed or maintained;...\n",
       "5                Hot food item not held at or above 140º F.\n",
       "6         Appropriately scaled metal stem-type thermomet...\n",
       "7         Food contact surface not properly washed, rins...\n",
       "8         Food not protected from potential source of co...\n",
       "9         Facility not vermin proof. Harborage or condit...\n",
       "10        Pesticide use not in accordance with label or ...\n",
       "11        Facility not vermin proof. Harborage or condit...\n",
       "12        Facility not vermin proof. Harborage or condit...\n",
       "13        Sanitized equipment or utensil, including in-u...\n",
       "14        Food not protected from potential source of co...\n",
       "15               Hot food item not held at or above 140º F.\n",
       "16        Sanitized equipment or utensil, including in-u...\n",
       "17        Filth flies or food/refuse/sewage-associated (...\n",
       "18        Facility not vermin proof. Harborage or condit...\n",
       "19        Filth flies or food/refuse/sewage-associated (...\n",
       "20        Filth flies or food/refuse/sewage-associated (...\n",
       "21        Live roaches present in facility's food and/or...\n",
       "22        Facility not vermin proof. Harborage or condit...\n",
       "23        Non-food contact surface improperly constructe...\n",
       "24        Wiping cloths soiled or not stored in sanitizi...\n",
       "25        Food contact surface not properly washed, rins...\n",
       "26        Cold food item held above 41º F (smoked fish a...\n",
       "27               Hot food item not held at or above 140º F.\n",
       "28        Raw, cooked or prepared food is adulterated, c...\n",
       "29        Non-food contact surface improperly constructe...\n",
       "                                ...                        \n",
       "395664    Evidence of mice or live mice present in facil...\n",
       "395665           Hot food item not held at or above 140º F.\n",
       "395666    Food allergy information poster not conspicuou...\n",
       "395667        Food contact surface not properly maintained.\n",
       "395668    Food not protected from potential source of co...\n",
       "395669    Facility not vermin proof. Harborage or condit...\n",
       "395670    Food contact surface not properly washed, rins...\n",
       "395671    Food not cooled by an approved method whereby ...\n",
       "395672    Proper sanitization not provided for utensil w...\n",
       "395673           Hot food item not held at or above 140º F.\n",
       "395674    Food contact surface not properly washed, rins...\n",
       "395675    Live roaches present in facility's food and/or...\n",
       "395676    Food Protection Certificate not held by superv...\n",
       "395677    Proper sanitization not provided for utensil w...\n",
       "395678           Hot food item not held at or above 140º F.\n",
       "395679    Non-food contact surface improperly constructe...\n",
       "395680    Non-food contact surface improperly constructe...\n",
       "395681    The original nutritional fact labels and/or in...\n",
       "395682    Facility not vermin proof. Harborage or condit...\n",
       "395683    Filth flies or food/refuse/sewage-associated (...\n",
       "395684    Food contact surface not properly washed, rins...\n",
       "395685    “Choking first aid” poster not posted. “Alcoho...\n",
       "395686    Filth flies or food/refuse/sewage-associated (...\n",
       "395687    Food contact surface not properly washed, rins...\n",
       "395688    Plumbing not properly installed or maintained;...\n",
       "395689        Food contact surface not properly maintained.\n",
       "395690    Non-food contact surface improperly constructe...\n",
       "395691    Raw, cooked or prepared food is adulterated, c...\n",
       "395692    Food not protected from potential source of co...\n",
       "395693    Non-food contact surface improperly constructe...\n",
       "Name: VIOLATION DESCRIPTION, Length: 394096, dtype: object"
      ]
     },
     "execution_count": 17,
     "metadata": {},
     "output_type": "execute_result"
    }
   ],
   "source": [
    "nyc_active['VIOLATION DESCRIPTION']"
   ]
  },
  {
   "cell_type": "code",
   "execution_count": 18,
   "metadata": {},
   "outputs": [],
   "source": [
    "nyc_violations = pd.DataFrame({'violation_code':nyc_active['VIOLATION CODE'], \n",
    "                               'violation_description':nyc_active['VIOLATION DESCRIPTION']})"
   ]
  },
  {
   "cell_type": "code",
   "execution_count": 19,
   "metadata": {},
   "outputs": [
    {
     "data": {
      "text/html": [
       "<div>\n",
       "<style scoped>\n",
       "    .dataframe tbody tr th:only-of-type {\n",
       "        vertical-align: middle;\n",
       "    }\n",
       "\n",
       "    .dataframe tbody tr th {\n",
       "        vertical-align: top;\n",
       "    }\n",
       "\n",
       "    .dataframe thead th {\n",
       "        text-align: right;\n",
       "    }\n",
       "</style>\n",
       "<table border=\"1\" class=\"dataframe\">\n",
       "  <thead>\n",
       "    <tr style=\"text-align: right;\">\n",
       "      <th></th>\n",
       "      <th>violation_code</th>\n",
       "      <th>violation_description</th>\n",
       "    </tr>\n",
       "  </thead>\n",
       "  <tbody>\n",
       "    <tr>\n",
       "      <th>0</th>\n",
       "      <td>04L</td>\n",
       "      <td>Evidence of mice or live mice present in facil...</td>\n",
       "    </tr>\n",
       "    <tr>\n",
       "      <th>1</th>\n",
       "      <td>10I</td>\n",
       "      <td>Single service item reused, improperly stored,...</td>\n",
       "    </tr>\n",
       "    <tr>\n",
       "      <th>2</th>\n",
       "      <td>10B</td>\n",
       "      <td>Plumbing not properly installed or maintained;...</td>\n",
       "    </tr>\n",
       "    <tr>\n",
       "      <th>3</th>\n",
       "      <td>06D</td>\n",
       "      <td>Food contact surface not properly washed, rins...</td>\n",
       "    </tr>\n",
       "    <tr>\n",
       "      <th>4</th>\n",
       "      <td>10B</td>\n",
       "      <td>Plumbing not properly installed or maintained;...</td>\n",
       "    </tr>\n",
       "  </tbody>\n",
       "</table>\n",
       "</div>"
      ],
      "text/plain": [
       "  violation_code                              violation_description\n",
       "0            04L  Evidence of mice or live mice present in facil...\n",
       "1            10I  Single service item reused, improperly stored,...\n",
       "2            10B  Plumbing not properly installed or maintained;...\n",
       "3            06D  Food contact surface not properly washed, rins...\n",
       "4            10B  Plumbing not properly installed or maintained;..."
      ]
     },
     "execution_count": 19,
     "metadata": {},
     "output_type": "execute_result"
    }
   ],
   "source": [
    "nyc_violations.head()"
   ]
  },
  {
   "cell_type": "code",
   "execution_count": 20,
   "metadata": {},
   "outputs": [],
   "source": [
    "nyc_violations.to_csv(config.shared + '/nyc_violations.csv')"
   ]
  },
  {
   "cell_type": "code",
   "execution_count": 21,
   "metadata": {},
   "outputs": [],
   "source": [
    "nyc_violations.to_sql('nyc_violations', engine, schema = 'stag', index = False)"
   ]
  },
  {
   "cell_type": "code",
   "execution_count": null,
   "metadata": {},
   "outputs": [],
   "source": []
  }
 ],
 "metadata": {
  "kernelspec": {
   "display_name": "PUI2016_Python3",
   "language": "python",
   "name": "pui2016_python3"
  },
  "language_info": {
   "codemirror_mode": {
    "name": "ipython",
    "version": 3
   },
   "file_extension": ".py",
   "mimetype": "text/x-python",
   "name": "python",
   "nbconvert_exporter": "python",
   "pygments_lexer": "ipython3",
   "version": "3.5.4"
  }
 },
 "nbformat": 4,
 "nbformat_minor": 2
}
